{
 "cells": [
  {
   "cell_type": "code",
   "execution_count": 2,
   "metadata": {},
   "outputs": [],
   "source": [
    "# Import required libraries\n",
    "import pandas as pd\n",
    "import numpy as np\n",
    "import seaborn as sns\n",
    "import matplotlib.pyplot as plt\n",
    "import statsmodels.formula.api as smf\n",
    "import statsmodels.api as sm"
   ]
  },
  {
   "cell_type": "markdown",
   "metadata": {},
   "source": [
    "## Data Preparation"
   ]
  },
  {
   "cell_type": "markdown",
   "metadata": {},
   "source": [
    "### Import ASHRAE Global Thermal Comfort Database 2"
   ]
  },
  {
   "cell_type": "code",
   "execution_count": 3,
   "metadata": {},
   "outputs": [
    {
     "name": "stdout",
     "output_type": "stream",
     "text": [
      "Total buildings: 809\n",
      "Total records: 109033\n"
     ]
    },
    {
     "name": "stderr",
     "output_type": "stream",
     "text": [
      "<ipython-input-3-141fd3ff1828>:7: DtypeWarning: Columns (5,35,36) have mixed types. Specify dtype option on import or set low_memory=False.\n",
      "  df_measurements = pd.read_csv(url_measurements)\n"
     ]
    }
   ],
   "source": [
    "# Read metadata from Github\n",
    "url_meta = \"https://github.com/CenterForTheBuiltEnvironment/ashrae-db-II/raw/master/v2.1.0/db_metadata.csv\"\n",
    "df_meta = pd.read_csv(url_meta)\n",
    "\n",
    "# Read database from Github\n",
    "url_measurements = \"https://github.com/CenterForTheBuiltEnvironment/ashrae-db-II/raw/master/v2.1.0/db_measurements_v2.1.0.csv.gz\"\n",
    "df_measurements = pd.read_csv(url_measurements)\n",
    "\n",
    "# Merge building metadata and measurement data\n",
    "df_rawdata = df_measurements.merge(df_meta[['building_id', 'city', 'building_type', 'cooling_type', 'records', 'database']], on='building_id', how='left')\n",
    "\n",
    "print('Total buildings:', len(df_rawdata.building_id.unique()))\n",
    "print('Total records:', len(df_rawdata))"
   ]
  },
  {
   "cell_type": "markdown",
   "metadata": {},
   "source": [
    "### Clean outdoor air temperature data"
   ]
  },
  {
   "cell_type": "code",
   "execution_count": 4,
   "metadata": {},
   "outputs": [],
   "source": [
    "# Merge two outdoor air temperature columns as a new column\n",
    "df_rawdata.loc[:, 't_out_combined'] = df_rawdata.loc[:, 't_out_isd'].fillna(df_rawdata.loc[:, 't_out'])\n",
    "\n",
    "# Remove the two outdoor air temperature columns\n",
    "df_rawdata = df_rawdata.drop(columns=['t_out_isd', 't_out'])"
   ]
  },
  {
   "cell_type": "markdown",
   "metadata": {},
   "source": [
    "### A dataframe with each occupant as a row, simultaniouely having Tout, Top, and TSV data"
   ]
  },
  {
   "cell_type": "code",
   "execution_count": 285,
   "metadata": {},
   "outputs": [
    {
     "name": "stdout",
     "output_type": "stream",
     "text": [
      "Qualified buildings: 518\n",
      "Qualified records: 26307\n"
     ]
    },
    {
     "data": {
      "text/html": [
       "<div>\n",
       "<style scoped>\n",
       "    .dataframe tbody tr th:only-of-type {\n",
       "        vertical-align: middle;\n",
       "    }\n",
       "\n",
       "    .dataframe tbody tr th {\n",
       "        vertical-align: top;\n",
       "    }\n",
       "\n",
       "    .dataframe thead th {\n",
       "        text-align: right;\n",
       "    }\n",
       "</style>\n",
       "<table border=\"1\" class=\"dataframe\">\n",
       "  <thead>\n",
       "    <tr style=\"text-align: right;\">\n",
       "      <th></th>\n",
       "      <th>index</th>\n",
       "      <th>record_id</th>\n",
       "      <th>building_id</th>\n",
       "      <th>timestamp</th>\n",
       "      <th>season</th>\n",
       "      <th>subject_id</th>\n",
       "      <th>age</th>\n",
       "      <th>gender</th>\n",
       "      <th>ht</th>\n",
       "      <th>wt</th>\n",
       "      <th>...</th>\n",
       "      <th>ppd</th>\n",
       "      <th>pmv_ce</th>\n",
       "      <th>ppd_ce</th>\n",
       "      <th>t_mot_isd</th>\n",
       "      <th>city</th>\n",
       "      <th>building_type</th>\n",
       "      <th>cooling_type</th>\n",
       "      <th>records</th>\n",
       "      <th>database</th>\n",
       "      <th>t_out_combined</th>\n",
       "    </tr>\n",
       "  </thead>\n",
       "  <tbody>\n",
       "    <tr>\n",
       "      <th>0</th>\n",
       "      <td>0</td>\n",
       "      <td>1</td>\n",
       "      <td>1</td>\n",
       "      <td>1995-05-18T00:00:00Z</td>\n",
       "      <td>winter</td>\n",
       "      <td>10.0</td>\n",
       "      <td>NaN</td>\n",
       "      <td>female</td>\n",
       "      <td>NaN</td>\n",
       "      <td>NaN</td>\n",
       "      <td>...</td>\n",
       "      <td>10.2</td>\n",
       "      <td>0.38</td>\n",
       "      <td>8.0</td>\n",
       "      <td>17.4</td>\n",
       "      <td>sydney</td>\n",
       "      <td>office</td>\n",
       "      <td>mixed mode</td>\n",
       "      <td>170</td>\n",
       "      <td>1.0</td>\n",
       "      <td>16.295833</td>\n",
       "    </tr>\n",
       "    <tr>\n",
       "      <th>1</th>\n",
       "      <td>1</td>\n",
       "      <td>2</td>\n",
       "      <td>1</td>\n",
       "      <td>1995-05-18T00:00:00Z</td>\n",
       "      <td>winter</td>\n",
       "      <td>14.0</td>\n",
       "      <td>NaN</td>\n",
       "      <td>female</td>\n",
       "      <td>NaN</td>\n",
       "      <td>NaN</td>\n",
       "      <td>...</td>\n",
       "      <td>8.4</td>\n",
       "      <td>0.40</td>\n",
       "      <td>8.4</td>\n",
       "      <td>17.4</td>\n",
       "      <td>sydney</td>\n",
       "      <td>office</td>\n",
       "      <td>mixed mode</td>\n",
       "      <td>170</td>\n",
       "      <td>1.0</td>\n",
       "      <td>16.295833</td>\n",
       "    </tr>\n",
       "    <tr>\n",
       "      <th>2</th>\n",
       "      <td>2</td>\n",
       "      <td>3</td>\n",
       "      <td>1</td>\n",
       "      <td>1995-05-18T00:00:00Z</td>\n",
       "      <td>winter</td>\n",
       "      <td>15.0</td>\n",
       "      <td>NaN</td>\n",
       "      <td>female</td>\n",
       "      <td>NaN</td>\n",
       "      <td>NaN</td>\n",
       "      <td>...</td>\n",
       "      <td>5.1</td>\n",
       "      <td>-0.07</td>\n",
       "      <td>5.1</td>\n",
       "      <td>17.4</td>\n",
       "      <td>sydney</td>\n",
       "      <td>office</td>\n",
       "      <td>mixed mode</td>\n",
       "      <td>170</td>\n",
       "      <td>1.0</td>\n",
       "      <td>16.295833</td>\n",
       "    </tr>\n",
       "    <tr>\n",
       "      <th>3</th>\n",
       "      <td>3</td>\n",
       "      <td>4</td>\n",
       "      <td>1</td>\n",
       "      <td>1995-05-18T00:00:00Z</td>\n",
       "      <td>winter</td>\n",
       "      <td>17.0</td>\n",
       "      <td>NaN</td>\n",
       "      <td>female</td>\n",
       "      <td>NaN</td>\n",
       "      <td>NaN</td>\n",
       "      <td>...</td>\n",
       "      <td>7.0</td>\n",
       "      <td>0.14</td>\n",
       "      <td>5.4</td>\n",
       "      <td>17.4</td>\n",
       "      <td>sydney</td>\n",
       "      <td>office</td>\n",
       "      <td>mixed mode</td>\n",
       "      <td>170</td>\n",
       "      <td>1.0</td>\n",
       "      <td>16.295833</td>\n",
       "    </tr>\n",
       "    <tr>\n",
       "      <th>4</th>\n",
       "      <td>4</td>\n",
       "      <td>5</td>\n",
       "      <td>1</td>\n",
       "      <td>1995-05-18T00:00:00Z</td>\n",
       "      <td>winter</td>\n",
       "      <td>21.0</td>\n",
       "      <td>NaN</td>\n",
       "      <td>male</td>\n",
       "      <td>NaN</td>\n",
       "      <td>NaN</td>\n",
       "      <td>...</td>\n",
       "      <td>5.0</td>\n",
       "      <td>-0.06</td>\n",
       "      <td>5.1</td>\n",
       "      <td>17.4</td>\n",
       "      <td>sydney</td>\n",
       "      <td>office</td>\n",
       "      <td>mixed mode</td>\n",
       "      <td>170</td>\n",
       "      <td>1.0</td>\n",
       "      <td>16.295833</td>\n",
       "    </tr>\n",
       "  </tbody>\n",
       "</table>\n",
       "<p>5 rows × 57 columns</p>\n",
       "</div>"
      ],
      "text/plain": [
       "   index  record_id  building_id             timestamp  season subject_id  \\\n",
       "0      0          1            1  1995-05-18T00:00:00Z  winter       10.0   \n",
       "1      1          2            1  1995-05-18T00:00:00Z  winter       14.0   \n",
       "2      2          3            1  1995-05-18T00:00:00Z  winter       15.0   \n",
       "3      3          4            1  1995-05-18T00:00:00Z  winter       17.0   \n",
       "4      4          5            1  1995-05-18T00:00:00Z  winter       21.0   \n",
       "\n",
       "   age  gender  ht  wt  ...   ppd  pmv_ce  ppd_ce  t_mot_isd    city  \\\n",
       "0  NaN  female NaN NaN  ...  10.2    0.38     8.0       17.4  sydney   \n",
       "1  NaN  female NaN NaN  ...   8.4    0.40     8.4       17.4  sydney   \n",
       "2  NaN  female NaN NaN  ...   5.1   -0.07     5.1       17.4  sydney   \n",
       "3  NaN  female NaN NaN  ...   7.0    0.14     5.4       17.4  sydney   \n",
       "4  NaN    male NaN NaN  ...   5.0   -0.06     5.1       17.4  sydney   \n",
       "\n",
       "   building_type  cooling_type  records  database  t_out_combined  \n",
       "0         office    mixed mode      170       1.0       16.295833  \n",
       "1         office    mixed mode      170       1.0       16.295833  \n",
       "2         office    mixed mode      170       1.0       16.295833  \n",
       "3         office    mixed mode      170       1.0       16.295833  \n",
       "4         office    mixed mode      170       1.0       16.295833  \n",
       "\n",
       "[5 rows x 57 columns]"
      ]
     },
     "execution_count": 285,
     "metadata": {},
     "output_type": "execute_result"
    }
   ],
   "source": [
    "# Keep rows that simultaneously have data for all variables in cols \n",
    "def filter(df, cols):\n",
    "    df_qualifed = df.dropna(subset=cols)\n",
    "    print(f'Qualified buildings:', len(df_qualifed['building_id'].unique()))\n",
    "    print(f'Qualified records:', len(df_qualifed))\n",
    "    return df_qualifed\n",
    "\n",
    "# Keep rows that simultaneously have data for all variables in cols\n",
    "cols_1 = ['t_out_combined', 'top', 'set', 'thermal_sensation']\n",
    "df_data_1 = filter(df_rawdata, cols_1).copy()\n",
    "df_data_1.head()"
   ]
  },
  {
   "cell_type": "markdown",
   "metadata": {},
   "source": [
    "## First stage: neutral temperature estimation"
   ]
  },
  {
   "cell_type": "markdown",
   "metadata": {},
   "source": [
    "### Define functions for estimating neutral temperature for a building"
   ]
  },
  {
   "cell_type": "code",
   "execution_count": 229,
   "metadata": {},
   "outputs": [],
   "source": [
    "# regress TSV against Top (metric used in existing AHRAE ACM)\n",
    "def approach_op_a(bldg):\n",
    "    try:\n",
    "        lm_result = smf.ols(formula='thermal_sensation ~ top', data=bldg).fit()\n",
    "        slope = lm_result.params['top']\n",
    "        intercept = lm_result.params['Intercept']\n",
    "        # check whether the slope is significant\n",
    "        if lm_result.pvalues['top'] < 0.05:\n",
    "            a = slope\n",
    "            b = intercept\n",
    "            temp_n = -b / a\n",
    "            temp_up = (0.85-b)/a\n",
    "            temp_low = (-0.85-b)/a\n",
    "            return [slope, intercept, temp_n, temp_up, temp_low]\n",
    "        else:\n",
    "            return np.nan\n",
    "    except (ValueError, TypeError):\n",
    "        return np.nan\n",
    "\n",
    "# regress Top against TSV  \n",
    "def approach_op_b(bldg):\n",
    "    try:\n",
    "        lm_result = smf.ols(formula='top ~ thermal_sensation', data=bldg).fit()\n",
    "        slope = lm_result.params['thermal_sensation']\n",
    "        intercept = lm_result.params['Intercept']\n",
    "        # check whether the slope is significant\n",
    "        if lm_result.pvalues['thermal_sensation'] < 0.05:\n",
    "            a = slope\n",
    "            b = intercept\n",
    "            temp_n = b\n",
    "            temp_up = 0.85*a + b\n",
    "            temp_low = (-0.85)*a + b\n",
    "            return [slope, intercept, temp_n, temp_up, temp_low]\n",
    "        else:\n",
    "            return np.nan\n",
    "    except (ValueError, TypeError):\n",
    "        return np.nan\n",
    "    \n",
    "# regress TSV against SET (a new metric)\n",
    "def approach_SET_a(bldg):\n",
    "    try:\n",
    "        lm_result = smf.ols(formula='thermal_sensation ~ set', data=bldg).fit()\n",
    "        slope = lm_result.params['set']\n",
    "        intercept = lm_result.params['Intercept']\n",
    "        # check whether the slope is significant\n",
    "        if lm_result.pvalues['set'] < 0.05:\n",
    "            a = slope\n",
    "            b = intercept\n",
    "            temp_n = -b / a\n",
    "            temp_up = (0.85-b)/a\n",
    "            temp_low = (-0.85-b)/a\n",
    "            return [slope, intercept, temp_n, temp_up, temp_low]\n",
    "        else:\n",
    "            return np.nan\n",
    "    except (ValueError, TypeError):\n",
    "        return np.nan\n",
    "\n",
    "# regress SET against TSV  \n",
    "def approach_SET_b(bldg):\n",
    "    try:\n",
    "        lm_result = smf.ols(formula='set ~ thermal_sensation', data=bldg).fit()\n",
    "        slope = lm_result.params['thermal_sensation']\n",
    "        intercept = lm_result.params['Intercept']\n",
    "        # check whether the slope is significant\n",
    "        if lm_result.pvalues['thermal_sensation'] < 0.05:\n",
    "            a = slope\n",
    "            b = intercept\n",
    "            temp_n = b\n",
    "            temp_up = 0.85*a + b\n",
    "            temp_low = (-0.85)*a + b\n",
    "            return [slope, intercept, temp_n, temp_up, temp_low]\n",
    "        else:\n",
    "            return np.nan\n",
    "    except (ValueError, TypeError):\n",
    "        return np.nan"
   ]
  },
  {
   "cell_type": "markdown",
   "metadata": {},
   "source": [
    "### A dataframe with each building as a row, to store the first stage result"
   ]
  },
  {
   "cell_type": "code",
   "execution_count": 230,
   "metadata": {},
   "outputs": [],
   "source": [
    "# Define the columns for which you want to calculate the mean\n",
    "mean_cols = ['t_out_combined']\n",
    "\n",
    "# Group by 'building_id' and calculate the mean for all these columns at once\n",
    "df_means = df_data_1.groupby('building_id')[mean_cols].mean()\n",
    "\n",
    "# Reset the index of df_means to make 'building_id' a column again\n",
    "df_means.reset_index(inplace=True)\n",
    "\n",
    "# Merge df_means with the metadata\n",
    "df_bldg_1 = df_means.merge(df_meta[['building_id', 'records', 'cooling_type', 'building_type', 'database']], on='building_id', how='left')\n",
    "\n",
    "# Reset the building cooling type as string\n",
    "df_bldg_1['cooling_type'] = df_bldg_1['cooling_type'].str.title()"
   ]
  },
  {
   "cell_type": "markdown",
   "metadata": {},
   "source": [
    "### Estimate neutral temperature (top) for each single building"
   ]
  },
  {
   "cell_type": "code",
   "execution_count": 231,
   "metadata": {},
   "outputs": [
    {
     "data": {
      "text/html": [
       "<div>\n",
       "<style scoped>\n",
       "    .dataframe tbody tr th:only-of-type {\n",
       "        vertical-align: middle;\n",
       "    }\n",
       "\n",
       "    .dataframe tbody tr th {\n",
       "        vertical-align: top;\n",
       "    }\n",
       "\n",
       "    .dataframe thead th {\n",
       "        text-align: right;\n",
       "    }\n",
       "</style>\n",
       "<table border=\"1\" class=\"dataframe\">\n",
       "  <thead>\n",
       "    <tr style=\"text-align: right;\">\n",
       "      <th></th>\n",
       "      <th>building_id</th>\n",
       "      <th>t_out_combined</th>\n",
       "      <th>records</th>\n",
       "      <th>cooling_type</th>\n",
       "      <th>building_type</th>\n",
       "      <th>database</th>\n",
       "      <th>slope_a</th>\n",
       "      <th>slope_b</th>\n",
       "      <th>intercept_a</th>\n",
       "      <th>intercept_b</th>\n",
       "      <th>temp_n_a</th>\n",
       "      <th>temp_n_b</th>\n",
       "      <th>temp_up_a</th>\n",
       "      <th>temp_up_b</th>\n",
       "      <th>temp_low_a</th>\n",
       "      <th>temp_low_b</th>\n",
       "    </tr>\n",
       "  </thead>\n",
       "  <tbody>\n",
       "    <tr>\n",
       "      <th>0</th>\n",
       "      <td>1</td>\n",
       "      <td>15.560695</td>\n",
       "      <td>170</td>\n",
       "      <td>Mixed Mode</td>\n",
       "      <td>office</td>\n",
       "      <td>1.0</td>\n",
       "      <td>0.282810</td>\n",
       "      <td>0.708579</td>\n",
       "      <td>-5.944612</td>\n",
       "      <td>22.891465</td>\n",
       "      <td>21.019827</td>\n",
       "      <td>22.891465</td>\n",
       "      <td>24.025381</td>\n",
       "      <td>23.493757</td>\n",
       "      <td>18.014273</td>\n",
       "      <td>22.289173</td>\n",
       "    </tr>\n",
       "    <tr>\n",
       "      <th>1</th>\n",
       "      <td>2</td>\n",
       "      <td>13.995833</td>\n",
       "      <td>83</td>\n",
       "      <td>Air Conditioned</td>\n",
       "      <td>office</td>\n",
       "      <td>1.0</td>\n",
       "      <td>0.643948</td>\n",
       "      <td>0.292102</td>\n",
       "      <td>-14.358447</td>\n",
       "      <td>22.322748</td>\n",
       "      <td>22.297532</td>\n",
       "      <td>22.322748</td>\n",
       "      <td>23.617515</td>\n",
       "      <td>22.571035</td>\n",
       "      <td>20.977549</td>\n",
       "      <td>22.074462</td>\n",
       "    </tr>\n",
       "    <tr>\n",
       "      <th>2</th>\n",
       "      <td>3</td>\n",
       "      <td>0.583480</td>\n",
       "      <td>85</td>\n",
       "      <td>Air Conditioned</td>\n",
       "      <td>office</td>\n",
       "      <td>1.0</td>\n",
       "      <td>NaN</td>\n",
       "      <td>NaN</td>\n",
       "      <td>NaN</td>\n",
       "      <td>NaN</td>\n",
       "      <td>NaN</td>\n",
       "      <td>NaN</td>\n",
       "      <td>NaN</td>\n",
       "      <td>NaN</td>\n",
       "      <td>NaN</td>\n",
       "      <td>NaN</td>\n",
       "    </tr>\n",
       "    <tr>\n",
       "      <th>3</th>\n",
       "      <td>4</td>\n",
       "      <td>19.225391</td>\n",
       "      <td>137</td>\n",
       "      <td>Mixed Mode</td>\n",
       "      <td>office</td>\n",
       "      <td>1.0</td>\n",
       "      <td>0.478756</td>\n",
       "      <td>0.462422</td>\n",
       "      <td>-11.383983</td>\n",
       "      <td>23.901268</td>\n",
       "      <td>23.778269</td>\n",
       "      <td>23.901268</td>\n",
       "      <td>25.553704</td>\n",
       "      <td>24.294327</td>\n",
       "      <td>22.002833</td>\n",
       "      <td>23.508209</td>\n",
       "    </tr>\n",
       "    <tr>\n",
       "      <th>4</th>\n",
       "      <td>5</td>\n",
       "      <td>9.048210</td>\n",
       "      <td>128</td>\n",
       "      <td>Air Conditioned</td>\n",
       "      <td>office</td>\n",
       "      <td>1.0</td>\n",
       "      <td>NaN</td>\n",
       "      <td>NaN</td>\n",
       "      <td>NaN</td>\n",
       "      <td>NaN</td>\n",
       "      <td>NaN</td>\n",
       "      <td>NaN</td>\n",
       "      <td>NaN</td>\n",
       "      <td>NaN</td>\n",
       "      <td>NaN</td>\n",
       "      <td>NaN</td>\n",
       "    </tr>\n",
       "  </tbody>\n",
       "</table>\n",
       "</div>"
      ],
      "text/plain": [
       "   building_id  t_out_combined  records     cooling_type building_type  \\\n",
       "0            1       15.560695      170       Mixed Mode        office   \n",
       "1            2       13.995833       83  Air Conditioned        office   \n",
       "2            3        0.583480       85  Air Conditioned        office   \n",
       "3            4       19.225391      137       Mixed Mode        office   \n",
       "4            5        9.048210      128  Air Conditioned        office   \n",
       "\n",
       "   database   slope_a   slope_b  intercept_a  intercept_b   temp_n_a  \\\n",
       "0       1.0  0.282810  0.708579    -5.944612    22.891465  21.019827   \n",
       "1       1.0  0.643948  0.292102   -14.358447    22.322748  22.297532   \n",
       "2       1.0       NaN       NaN          NaN          NaN        NaN   \n",
       "3       1.0  0.478756  0.462422   -11.383983    23.901268  23.778269   \n",
       "4       1.0       NaN       NaN          NaN          NaN        NaN   \n",
       "\n",
       "    temp_n_b  temp_up_a  temp_up_b  temp_low_a  temp_low_b  \n",
       "0  22.891465  24.025381  23.493757   18.014273   22.289173  \n",
       "1  22.322748  23.617515  22.571035   20.977549   22.074462  \n",
       "2        NaN        NaN        NaN         NaN         NaN  \n",
       "3  23.901268  25.553704  24.294327   22.002833   23.508209  \n",
       "4        NaN        NaN        NaN         NaN         NaN  "
      ]
     },
     "execution_count": 231,
     "metadata": {},
     "output_type": "execute_result"
    }
   ],
   "source": [
    "# store regression results as columns\n",
    "columns_name = ['slope', 'intercept', 'temp_n', 'temp_up', 'temp_low']\n",
    "\n",
    "# calculate regression results for each building\n",
    "for i in range(5):\n",
    "    column = columns_name[i]+\"_a\"\n",
    "    df_bldg_1[column] = df_data_1.groupby('building_id').apply(lambda x: approach_op_a(x)[i] if approach_op_a(x) is not np.nan else np.nan).reset_index(level=0, drop=True)\n",
    "    column = columns_name[i]+\"_b\"\n",
    "    df_bldg_1[column] = df_data_1.groupby('building_id').apply(lambda x: approach_op_b(x)[i] if approach_op_b(x) is not np.nan else np.nan).reset_index(level=0, drop=True)\n",
    "\n",
    "df_bldg_1.head()"
   ]
  },
  {
   "cell_type": "markdown",
   "metadata": {},
   "source": [
    "## Second stage: ACM"
   ]
  },
  {
   "cell_type": "markdown",
   "metadata": {},
   "source": [
    "### Filter out non-signficant regression results"
   ]
  },
  {
   "cell_type": "code",
   "execution_count": 259,
   "metadata": {},
   "outputs": [
    {
     "name": "stdout",
     "output_type": "stream",
     "text": [
      "Total buildings: 518\n",
      "Total NV buildings: 197\n",
      "Total AC buildings: 153\n",
      "******************************************************************************\n",
      "Total negative signifiant buildings: 6\n",
      "******************************************************************************\n",
      "Approach (a)\n",
      "Total signficant buildings: 184\n",
      "Total signficant NV buildings: 61\n",
      "Total signficant NV office buildings: 41\n",
      "Total signficant AC buildings: 74\n",
      "Total signficant AC office buildings: 74\n",
      "******************************************************************************\n",
      "Approach (b)\n",
      "Total signficant buildings: 198\n",
      "Total signficant NV buildings: 67\n",
      "Total signficant NV office buildings: 41\n",
      "Total signficant AC buildings: 74\n",
      "Total signficant AC office buildings: 74\n"
     ]
    }
   ],
   "source": [
    "# number of all buildings\n",
    "print('Total buildings:', len(df_bldg_1))\n",
    "print(\"Total NV buildings:\", len(df_bldg_1[df_bldg_1['cooling_type'] == 'Naturally Ventilated']))\n",
    "print(\"Total AC buildings:\", len(df_bldg_1[df_bldg_1['cooling_type'] == 'Air Conditioned']))\n",
    "\n",
    "# get rid of all nan values in the temp_n_a column\n",
    "df_bldg_1_sig_a = df_bldg_1[~df_bldg_1['temp_n_a'].isna()]\n",
    "# print(\"******************************************************************************\")\n",
    "# # print the number of buildings that have negative slopes\n",
    "# print('Total negative signifiant buildings:', df_bldg_1[df_bldg_1['slope_a']<0].building_id.nunique())\n",
    "\n",
    "\n",
    "df_bldg_1_NV_a = df_bldg_1_sig_a[df_bldg_1_sig_a['cooling_type'] == 'Naturally Ventilated']\n",
    "df_bldg_1_AC_a = df_bldg_1_sig_a[df_bldg_1_sig_a['cooling_type'] == 'Air Conditioned']\n",
    "df_bldg_1_office_NV_a = df_bldg_1_NV_a[df_bldg_1_NV_a['building_type'] == 'office'].copy()\n",
    "df_bldg_1_office_AC_a = df_bldg_1_AC_a[df_bldg_1_AC_a['building_type'] == 'office'].copy()\n",
    "\n",
    "print(\"******************************************************************************\")\n",
    "print('Approach (a)')\n",
    "print('Total signficant buildings:', len(df_bldg_1_sig_a))\n",
    "print('Total signficant NV buildings:', len(df_bldg_1_NV_a))\n",
    "print('Total signficant NV office buildings:', len(df_bldg_1_office_NV_a))\n",
    "print('Total signficant AC buildings:', len(df_bldg_1_AC_a))\n",
    "print('Total signficant AC office buildings:', len(df_bldg_1_office_AC_a))\n",
    "\n",
    "# get rid of all nan values in the temp_n_a column\n",
    "df_bldg_1_sig_b = df_bldg_1[~df_bldg_1['temp_n_b'].isna()]\n",
    "df_bldg_1_NV_b = df_bldg_1_sig_b[df_bldg_1_sig_b['cooling_type'] == 'Naturally Ventilated']\n",
    "df_bldg_1_AC_b = df_bldg_1_sig_b[df_bldg_1_sig_b['cooling_type'] == 'Air Conditioned']\n",
    "df_bldg_1_office_AC_b = df_bldg_1_AC_b[df_bldg_1_AC_b['building_type'] == 'office'].copy()\n",
    "df_bldg_1_office_NV_b = df_bldg_1_NV_b[df_bldg_1_NV_b['building_type'] == 'office'].copy()\n",
    "\n",
    "print(\"******************************************************************************\")\n",
    "print('Approach (b)')\n",
    "print('Total signficant buildings:', len(df_bldg_1_sig_b))\n",
    "print('Total signficant NV buildings:', len(df_bldg_1_NV_b))\n",
    "print('Total signficant NV office buildings:', len(df_bldg_1_office_NV_b))\n",
    "print('Total signficant AC buildings:', len(df_bldg_1_AC_b))\n",
    "print('Total signficant AC office buildings:', len(df_bldg_1_office_AC_b))"
   ]
  },
  {
   "cell_type": "markdown",
   "metadata": {},
   "source": [
    "### Define a weighted linear regression"
   ]
  },
  {
   "cell_type": "code",
   "execution_count": 218,
   "metadata": {},
   "outputs": [],
   "source": [
    "# Weighted regression function\n",
    "def weighted_regression(x, y, weights):\n",
    "    X = sm.add_constant(x)\n",
    "    model = sm.WLS(y, X, weights=weights).fit()\n",
    "    intercept, slope = model.params\n",
    "    print('p value {:.3f}'.format(model.pvalues[1]))\n",
    "    print(model.summary())\n",
    "    return intercept, slope"
   ]
  },
  {
   "cell_type": "markdown",
   "metadata": {},
   "source": [
    "### ACM (op) for all NV offices"
   ]
  },
  {
   "cell_type": "code",
   "execution_count": 260,
   "metadata": {},
   "outputs": [
    {
     "name": "stdout",
     "output_type": "stream",
     "text": [
      "Total buildings for Approach (a) ACM_NV: 39\n",
      "Total buildings for Approach (b) ACM_NV: 39\n"
     ]
    }
   ],
   "source": [
    "# only keep buildings with 10 < t_out_combined < 33.5\n",
    "df_ACM_op_NV_a = df_bldg_1_office_NV_a[(df_bldg_1_office_NV_a['t_out_combined'] > 10) & (df_bldg_1_office_NV_a['t_out_combined'] <= 33.5)]\n",
    "df_ACM_op_NV_b = df_bldg_1_office_NV_b[(df_bldg_1_office_NV_b['t_out_combined'] > 10) & (df_bldg_1_office_NV_b['t_out_combined'] <= 33.5)]\n",
    "print(\"Total buildings for Approach (a) ACM_NV:\", len(df_ACM_op_NV_a))\n",
    "print(\"Total buildings for Approach (b) ACM_NV:\", len(df_ACM_op_NV_b))"
   ]
  },
  {
   "cell_type": "markdown",
   "metadata": {},
   "source": [
    "#### Approach (a)"
   ]
  },
  {
   "cell_type": "code",
   "execution_count": 261,
   "metadata": {},
   "outputs": [
    {
     "name": "stdout",
     "output_type": "stream",
     "text": [
      "p value 0.000\n",
      "                            WLS Regression Results                            \n",
      "==============================================================================\n",
      "Dep. Variable:               temp_n_a   R-squared:                       0.407\n",
      "Model:                            WLS   Adj. R-squared:                  0.391\n",
      "Method:                 Least Squares   F-statistic:                     25.35\n",
      "Date:                Mon, 08 Jan 2024   Prob (F-statistic):           1.27e-05\n",
      "Time:                        22:19:04   Log-Likelihood:                -83.089\n",
      "No. Observations:                  39   AIC:                             170.2\n",
      "Df Residuals:                      37   BIC:                             173.5\n",
      "Df Model:                           1                                         \n",
      "Covariance Type:            nonrobust                                         \n",
      "==================================================================================\n",
      "                     coef    std err          t      P>|t|      [0.025      0.975]\n",
      "----------------------------------------------------------------------------------\n",
      "const             18.3442      1.203     15.252      0.000      15.907      20.781\n",
      "t_out_combined     0.2619      0.052      5.035      0.000       0.157       0.367\n",
      "==============================================================================\n",
      "Omnibus:                        2.500   Durbin-Watson:                   1.914\n",
      "Prob(Omnibus):                  0.287   Jarque-Bera (JB):                1.539\n",
      "Skew:                          -0.116   Prob(JB):                        0.463\n",
      "Kurtosis:                       3.945   Cond. No.                         97.3\n",
      "==============================================================================\n",
      "\n",
      "Notes:\n",
      "[1] Standard Errors assume that the covariance matrix of the errors is correctly specified.\n",
      "******************************************************************************\n",
      "ACM regression line slope: 0.26\n",
      "ACM regression line slope: 18.34\n",
      "ACM comfort zone: 7.57\n"
     ]
    }
   ],
   "source": [
    "# conduct weighted ACM regression line based on approach (a)\n",
    "temp_n_a_intercept, temp_n_a_slope = weighted_regression(df_ACM_op_NV_a['t_out_combined'], df_ACM_op_NV_a['temp_n_a'], df_ACM_op_NV_a['records'])\n",
    "# print the fitted line slope and intercept\n",
    "print(\"******************************************************************************\")\n",
    "print('ACM regression line slope: {:.2f}'.format(temp_n_a_slope))\n",
    "print('ACM regression line slope: {:.2f}'.format(temp_n_a_intercept))\n",
    "\n",
    "# calculate the mean comfort zone\n",
    "range_a = df_ACM_op_NV_a['temp_up_a'].mean() - df_ACM_op_NV_a['temp_low_a'].mean()\n",
    "print('ACM comfort zone: {:.2f}'.format(range_a))"
   ]
  },
  {
   "cell_type": "code",
   "execution_count": 262,
   "metadata": {},
   "outputs": [
    {
     "data": {
      "image/png": "[encoded data removed]",
      "text/plain": [
       "<Figure size 720x504 with 1 Axes>"
      ]
     },
     "metadata": {
      "needs_background": "light"
     },
     "output_type": "display_data"
    }
   ],
   "source": [
    "# sort the data points by t_out_combined\n",
    "t_out_combined = np.array(df_ACM_op_NV_a['t_out_combined'])\n",
    "sort_index = np.argsort(t_out_combined)\n",
    "t_out_combined = t_out_combined[sort_index]\n",
    "up_line = temp_n_a_slope * t_out_combined + temp_n_a_intercept + range_a/2\n",
    "low_line = temp_n_a_slope * t_out_combined + temp_n_a_intercept - range_a/2\n",
    "middle_line = temp_n_a_slope * t_out_combined + temp_n_a_intercept\n",
    "\n",
    "# plot data points\n",
    "plt.figure(figsize=(10, 7))\n",
    "plt.plot(t_out_combined, middle_line, color='black', linewidth=4)\n",
    "sns.regplot(x='t_out_combined', y='temp_n_a', data=df_ACM_op_NV_a, fit_reg=False, scatter_kws={'color': 'green'})\n",
    "plt.plot(t_out_combined, up_line, color='black', linewidth=2, linestyle='--', dashes=(5, 5))\n",
    "plt.plot(t_out_combined, low_line, color='black', linewidth=2, linestyle='--', dashes=(5, 5))\n",
    "plt.xlabel('', fontsize=40)\n",
    "plt.ylabel('', fontsize=40)\n",
    "plt.xticks(fontsize=40)\n",
    "plt.yticks(fontsize=40)\n",
    "plt.xlim(10, 35)\n",
    "plt.ylim(15, 33)\n",
    "plt.grid(False)\n",
    "plt.rcParams['font.family'] = 'Times New Roman'\n",
    "# plt.savefig('figs/ACM_NV_neutral_a.pdf', format='pdf', bbox_inches='tight')\n"
   ]
  },
  {
   "cell_type": "code",
   "execution_count": 266,
   "metadata": {},
   "outputs": [
    {
     "data": {
      "text/plain": [
       "(array([0., 1., 2., 3., 4., 5., 6., 7.]),\n",
       " [Text(0, 0, ''),\n",
       "  Text(0, 0, ''),\n",
       "  Text(0, 0, ''),\n",
       "  Text(0, 0, ''),\n",
       "  Text(0, 0, ''),\n",
       "  Text(0, 0, ''),\n",
       "  Text(0, 0, ''),\n",
       "  Text(0, 0, '')])"
      ]
     },
     "execution_count": 266,
     "metadata": {},
     "output_type": "execute_result"
    },
    {
     "data": {
      "image/png": "[encoded data removed]",
      "text/plain": [
       "<Figure size 720x504 with 1 Axes>"
      ]
     },
     "metadata": {
      "needs_background": "light"
     },
     "output_type": "display_data"
    }
   ],
   "source": [
    "# plot histrogram of df_ACM_op_NV_a['temp_up_a'] and df_ACM_op_NV_a['temp_low_a']\n",
    "plt.figure(figsize=(10, 7))\n",
    "plt.hist(df_ACM_op_NV_a['temp_up_a'], bins=20, color='blue', alpha=0.5)\n",
    "plt.hist(df_ACM_op_NV_a['temp_low_a'], bins=20, color='green', alpha=0.5)\n",
    "plt.xlabel('temperature uper or lower limit(C)', fontsize=40)\n",
    "plt.ylabel('number of buildings', fontsize=40)\n",
    "plt.xticks(fontsize=40)\n",
    "plt.yticks(fontsize=40)"
   ]
  },
  {
   "cell_type": "markdown",
   "metadata": {},
   "source": [
    "#### Approach (b)"
   ]
  },
  {
   "cell_type": "code",
   "execution_count": 251,
   "metadata": {},
   "outputs": [
    {
     "name": "stdout",
     "output_type": "stream",
     "text": [
      "p value 0.000\n",
      "                            WLS Regression Results                            \n",
      "==============================================================================\n",
      "Dep. Variable:               temp_n_b   R-squared:                       0.822\n",
      "Model:                            WLS   Adj. R-squared:                  0.818\n",
      "Method:                 Least Squares   F-statistic:                     212.8\n",
      "Date:                Mon, 08 Jan 2024   Prob (F-statistic):           7.15e-19\n",
      "Time:                        22:13:10   Log-Likelihood:                -90.761\n",
      "No. Observations:                  48   AIC:                             185.5\n",
      "Df Residuals:                      46   BIC:                             189.3\n",
      "Df Model:                           1                                         \n",
      "Covariance Type:            nonrobust                                         \n",
      "==================================================================================\n",
      "                     coef    std err          t      P>|t|      [0.025      0.975]\n",
      "----------------------------------------------------------------------------------\n",
      "const             15.2177      0.757     20.105      0.000      13.694      16.741\n",
      "t_out_combined     0.4857      0.033     14.588      0.000       0.419       0.553\n",
      "==============================================================================\n",
      "Omnibus:                        0.328   Durbin-Watson:                   1.333\n",
      "Prob(Omnibus):                  0.849   Jarque-Bera (JB):                0.136\n",
      "Skew:                          -0.130   Prob(JB):                        0.934\n",
      "Kurtosis:                       2.982   Cond. No.                         88.5\n",
      "==============================================================================\n",
      "\n",
      "Notes:\n",
      "[1] Standard Errors assume that the covariance matrix of the errors is correctly specified.\n",
      "******************************************************************************\n",
      "ACM_NV regression line slope: 0.49\n",
      "ACM_NV regression line slope: 15.22\n",
      "ACM_NV comfort zone: 1.68\n"
     ]
    }
   ],
   "source": [
    "# conduct weighted ACM_NV regression line based on approach (b)\n",
    "temp_n_b_intercept, temp_n_b_slope = weighted_regression(df_ACM_op_NV_b['t_out_combined'], df_ACM_op_NV_b['temp_n_b'], df_ACM_op_NV_b['records'])\n",
    "# print the fitted line slope and intercept\n",
    "print(\"******************************************************************************\")\n",
    "print('ACM_NV regression line slope: {:.2f}'.format(temp_n_b_slope))\n",
    "print('ACM_NV regression line slope: {:.2f}'.format(temp_n_b_intercept))\n",
    "\n",
    "# calculate the mean comfort zone\n",
    "range_b = df_ACM_op_NV_b['temp_up_b'].mean() - df_ACM_op_NV_b['temp_low_b'].mean()\n",
    "print('ACM_NV comfort zone: {:.2f}'.format(range_b))"
   ]
  },
  {
   "cell_type": "code",
   "execution_count": 246,
   "metadata": {},
   "outputs": [
    {
     "data": {
      "image/png": "[encoded data removed]",
      "text/plain": [
       "<Figure size 720x504 with 1 Axes>"
      ]
     },
     "metadata": {
      "needs_background": "light"
     },
     "output_type": "display_data"
    }
   ],
   "source": [
    "# sort the data points by t_out_combined\n",
    "t_out_combined = np.array(df_ACM_op_NV_b['t_out_combined'])\n",
    "sort_index = np.argsort(t_out_combined)\n",
    "t_out_combined = t_out_combined[sort_index]\n",
    "up_line = temp_n_b_slope * t_out_combined + temp_n_b_intercept + range_b/2\n",
    "low_line = temp_n_b_slope * t_out_combined + temp_n_b_intercept - range_b/2\n",
    "middle_line = temp_n_b_slope * t_out_combined + temp_n_b_intercept\n",
    "\n",
    "# plot data points\n",
    "plt.figure(figsize=(10, 7))\n",
    "plt.plot(t_out_combined, middle_line, color='black', linewidth=4)\n",
    "sns.regplot(x='t_out_combined', y='temp_n_b', data=df_ACM_op_NV_b, fit_reg=False, scatter_kws={'color': 'green'})\n",
    "plt.plot(t_out_combined, up_line, color='black', linewidth=2, linestyle='--', dashes=(5, 5))\n",
    "plt.plot(t_out_combined, low_line, color='black', linewidth=2, linestyle='--', dashes=(5, 5))\n",
    "plt.xlabel('', fontsize=40)\n",
    "plt.ylabel('', fontsize=40)\n",
    "plt.xticks(fontsize=40)\n",
    "plt.yticks(fontsize=40)\n",
    "plt.xlim(10, 35)\n",
    "plt.ylim(17, 32)\n",
    "plt.grid(False)\n",
    "plt.rcParams['font.family'] = 'Times New Roman'\n",
    "# plt.savefig('figs/ACM_NV_neutral_b.pdf', format='pdf', bbox_inches='tight')"
   ]
  },
  {
   "cell_type": "code",
   "execution_count": 253,
   "metadata": {},
   "outputs": [
    {
     "data": {
      "text/plain": [
       "(array([0., 1., 2., 3., 4., 5., 6.]),\n",
       " [Text(0, 0, ''),\n",
       "  Text(0, 0, ''),\n",
       "  Text(0, 0, ''),\n",
       "  Text(0, 0, ''),\n",
       "  Text(0, 0, ''),\n",
       "  Text(0, 0, ''),\n",
       "  Text(0, 0, '')])"
      ]
     },
     "execution_count": 253,
     "metadata": {},
     "output_type": "execute_result"
    },
    {
     "data": {
      "image/png": "[encoded data removed]",
      "text/plain": [
       "<Figure size 720x504 with 1 Axes>"
      ]
     },
     "metadata": {
      "needs_background": "light"
     },
     "output_type": "display_data"
    }
   ],
   "source": [
    "# plot histogram of df_ACM_op_NV_b['temp_up_b'] and df_ACM_op_NV_b['temp_low_b']\n",
    "plt.figure(figsize=(10, 7))\n",
    "plt.hist(df_ACM_op_NV_b['temp_up_b'], bins=20, color='blue', alpha=0.5, label='Upper bound')\n",
    "plt.hist(df_ACM_op_NV_b['temp_low_b'], bins=20, color='green', alpha=0.2, label='Lower bound')\n",
    "plt.xlabel('', fontsize=40)\n",
    "plt.ylabel('', fontsize=40)\n",
    "plt.xticks(fontsize=40)\n",
    "plt.yticks(fontsize=40)\n"
   ]
  },
  {
   "cell_type": "markdown",
   "metadata": {},
   "source": [
    "## Use a new metric SET to represent the indoor temperature"
   ]
  },
  {
   "cell_type": "code",
   "execution_count": 286,
   "metadata": {},
   "outputs": [],
   "source": [
    "# # Keep rows that simultaneously have data for all variables in cols\n",
    "# cols_2 = ['t_out_combined', 'set','thermal_sensation']\n",
    "# df_data_2 = filter(df_rawdata, cols_2).copy()\n",
    "\n",
    "# # Define the columns for which you want to calculate the mean\n",
    "# mean_cols = ['t_out_combined']\n",
    "# # Group by 'building_id' and calculate the mean for all these columns at once\n",
    "# df_means = df_data_2.groupby('building_id')[mean_cols].mean()\n",
    "# # Reset the index of df_means to make 'building_id' a column again\n",
    "# df_means.reset_index(inplace=True)"
   ]
  },
  {
   "cell_type": "markdown",
   "metadata": {},
   "source": [
    "### A new dataframe with each building as a row"
   ]
  },
  {
   "cell_type": "code",
   "execution_count": 287,
   "metadata": {},
   "outputs": [],
   "source": [
    "df_data_2 = df_data_1\n",
    "\n",
    "# Define the columns for which you want to calculate the mean\n",
    "mean_cols = ['t_out_combined']\n",
    "\n",
    "# Group by 'building_id' and calculate the mean for all these columns at once\n",
    "df_means = df_data_2.groupby('building_id')[mean_cols].mean()\n",
    "\n",
    "# Reset the index of df_means to make 'building_id' a column again\n",
    "df_means.reset_index(inplace=True)\n",
    "\n",
    "# Merge df_means with the metadata\n",
    "df_bldg_2 = df_means.merge(df_meta[['building_id', 'records', 'cooling_type', 'building_type', 'database']], on='building_id', how='left')\n",
    "\n",
    "# Reset the building cooling type as string\n",
    "df_bldg_2['cooling_type'] = df_bldg_2['cooling_type'].str.title()"
   ]
  },
  {
   "cell_type": "markdown",
   "metadata": {},
   "source": [
    "### Estimate neutral temperature (SET) for each single building"
   ]
  },
  {
   "cell_type": "code",
   "execution_count": 288,
   "metadata": {},
   "outputs": [
    {
     "data": {
      "text/html": [
       "<div>\n",
       "<style scoped>\n",
       "    .dataframe tbody tr th:only-of-type {\n",
       "        vertical-align: middle;\n",
       "    }\n",
       "\n",
       "    .dataframe tbody tr th {\n",
       "        vertical-align: top;\n",
       "    }\n",
       "\n",
       "    .dataframe thead th {\n",
       "        text-align: right;\n",
       "    }\n",
       "</style>\n",
       "<table border=\"1\" class=\"dataframe\">\n",
       "  <thead>\n",
       "    <tr style=\"text-align: right;\">\n",
       "      <th></th>\n",
       "      <th>building_id</th>\n",
       "      <th>t_out_combined</th>\n",
       "      <th>records</th>\n",
       "      <th>cooling_type</th>\n",
       "      <th>building_type</th>\n",
       "      <th>database</th>\n",
       "      <th>slope_a</th>\n",
       "      <th>slope_b</th>\n",
       "      <th>intercept_a</th>\n",
       "      <th>intercept_b</th>\n",
       "      <th>temp_n_a</th>\n",
       "      <th>temp_n_b</th>\n",
       "      <th>temp_up_a</th>\n",
       "      <th>temp_up_b</th>\n",
       "      <th>temp_low_a</th>\n",
       "      <th>temp_low_b</th>\n",
       "    </tr>\n",
       "  </thead>\n",
       "  <tbody>\n",
       "    <tr>\n",
       "      <th>0</th>\n",
       "      <td>1</td>\n",
       "      <td>15.560695</td>\n",
       "      <td>170</td>\n",
       "      <td>Mixed Mode</td>\n",
       "      <td>office</td>\n",
       "      <td>1.0</td>\n",
       "      <td>0.291385</td>\n",
       "      <td>0.872775</td>\n",
       "      <td>-6.755008</td>\n",
       "      <td>24.876473</td>\n",
       "      <td>23.182414</td>\n",
       "      <td>24.876473</td>\n",
       "      <td>26.099516</td>\n",
       "      <td>25.618332</td>\n",
       "      <td>20.265312</td>\n",
       "      <td>24.134614</td>\n",
       "    </tr>\n",
       "    <tr>\n",
       "      <th>1</th>\n",
       "      <td>2</td>\n",
       "      <td>13.995833</td>\n",
       "      <td>83</td>\n",
       "      <td>Air Conditioned</td>\n",
       "      <td>office</td>\n",
       "      <td>1.0</td>\n",
       "      <td>NaN</td>\n",
       "      <td>NaN</td>\n",
       "      <td>NaN</td>\n",
       "      <td>NaN</td>\n",
       "      <td>NaN</td>\n",
       "      <td>NaN</td>\n",
       "      <td>NaN</td>\n",
       "      <td>NaN</td>\n",
       "      <td>NaN</td>\n",
       "      <td>NaN</td>\n",
       "    </tr>\n",
       "    <tr>\n",
       "      <th>2</th>\n",
       "      <td>3</td>\n",
       "      <td>0.583480</td>\n",
       "      <td>85</td>\n",
       "      <td>Air Conditioned</td>\n",
       "      <td>office</td>\n",
       "      <td>1.0</td>\n",
       "      <td>NaN</td>\n",
       "      <td>NaN</td>\n",
       "      <td>NaN</td>\n",
       "      <td>NaN</td>\n",
       "      <td>NaN</td>\n",
       "      <td>NaN</td>\n",
       "      <td>NaN</td>\n",
       "      <td>NaN</td>\n",
       "      <td>NaN</td>\n",
       "      <td>NaN</td>\n",
       "    </tr>\n",
       "    <tr>\n",
       "      <th>3</th>\n",
       "      <td>4</td>\n",
       "      <td>19.225391</td>\n",
       "      <td>137</td>\n",
       "      <td>Mixed Mode</td>\n",
       "      <td>office</td>\n",
       "      <td>1.0</td>\n",
       "      <td>0.211156</td>\n",
       "      <td>0.483831</td>\n",
       "      <td>-5.026896</td>\n",
       "      <td>24.128114</td>\n",
       "      <td>23.806534</td>\n",
       "      <td>24.128114</td>\n",
       "      <td>27.831991</td>\n",
       "      <td>24.539370</td>\n",
       "      <td>19.781077</td>\n",
       "      <td>23.716858</td>\n",
       "    </tr>\n",
       "    <tr>\n",
       "      <th>4</th>\n",
       "      <td>5</td>\n",
       "      <td>9.048210</td>\n",
       "      <td>128</td>\n",
       "      <td>Air Conditioned</td>\n",
       "      <td>office</td>\n",
       "      <td>1.0</td>\n",
       "      <td>NaN</td>\n",
       "      <td>NaN</td>\n",
       "      <td>NaN</td>\n",
       "      <td>NaN</td>\n",
       "      <td>NaN</td>\n",
       "      <td>NaN</td>\n",
       "      <td>NaN</td>\n",
       "      <td>NaN</td>\n",
       "      <td>NaN</td>\n",
       "      <td>NaN</td>\n",
       "    </tr>\n",
       "  </tbody>\n",
       "</table>\n",
       "</div>"
      ],
      "text/plain": [
       "   building_id  t_out_combined  records     cooling_type building_type  \\\n",
       "0            1       15.560695      170       Mixed Mode        office   \n",
       "1            2       13.995833       83  Air Conditioned        office   \n",
       "2            3        0.583480       85  Air Conditioned        office   \n",
       "3            4       19.225391      137       Mixed Mode        office   \n",
       "4            5        9.048210      128  Air Conditioned        office   \n",
       "\n",
       "   database   slope_a   slope_b  intercept_a  intercept_b   temp_n_a  \\\n",
       "0       1.0  0.291385  0.872775    -6.755008    24.876473  23.182414   \n",
       "1       1.0       NaN       NaN          NaN          NaN        NaN   \n",
       "2       1.0       NaN       NaN          NaN          NaN        NaN   \n",
       "3       1.0  0.211156  0.483831    -5.026896    24.128114  23.806534   \n",
       "4       1.0       NaN       NaN          NaN          NaN        NaN   \n",
       "\n",
       "    temp_n_b  temp_up_a  temp_up_b  temp_low_a  temp_low_b  \n",
       "0  24.876473  26.099516  25.618332   20.265312   24.134614  \n",
       "1        NaN        NaN        NaN         NaN         NaN  \n",
       "2        NaN        NaN        NaN         NaN         NaN  \n",
       "3  24.128114  27.831991  24.539370   19.781077   23.716858  \n",
       "4        NaN        NaN        NaN         NaN         NaN  "
      ]
     },
     "execution_count": 288,
     "metadata": {},
     "output_type": "execute_result"
    }
   ],
   "source": [
    "# store regression results as columns\n",
    "columns_name = ['slope', 'intercept', 'temp_n', 'temp_up', 'temp_low']\n",
    "\n",
    "# calculate regression results for each building\n",
    "for i in range(5):\n",
    "    column = columns_name[i]+\"_a\"\n",
    "    df_bldg_2[column] = df_data_2.groupby('building_id').apply(lambda x: approach_SET_a(x)[i] if approach_SET_a(x) is not np.nan else np.nan).reset_index(level=0, drop=True)\n",
    "    column = columns_name[i]+\"_b\"\n",
    "    df_bldg_2[column] = df_data_2.groupby('building_id').apply(lambda x: approach_SET_b(x)[i] if approach_SET_b(x) is not np.nan else np.nan).reset_index(level=0, drop=True)\n",
    "\n",
    "df_bldg_2.head()"
   ]
  },
  {
   "cell_type": "markdown",
   "metadata": {},
   "source": [
    "### Filter out non-significant regression results"
   ]
  },
  {
   "cell_type": "code",
   "execution_count": 290,
   "metadata": {},
   "outputs": [
    {
     "name": "stdout",
     "output_type": "stream",
     "text": [
      "Total buildings: 518\n",
      "Total NV buildings: 197\n",
      "Total AC buildings: 153\n",
      "******************************************************************************\n",
      "Approach (a)\n",
      "Total signficant buildings: 134\n",
      "Total signficant NV buildings: 58\n",
      "Total signficant NV office buildings: 35\n",
      "Total signficant AC buildings: 39\n",
      "Total signficant AC office buildings: 39\n",
      "******************************************************************************\n",
      "Approach (b)\n",
      "Total signficant buildings: 144\n",
      "Total signficant NV buildings: 64\n",
      "Total signficant NV office buildings: 35\n",
      "Total signficant AC buildings: 39\n",
      "Total signficant AC office buildings: 39\n"
     ]
    }
   ],
   "source": [
    "# number of all buildings\n",
    "print('Total buildings:', len(df_bldg_2))\n",
    "print(\"Total NV buildings:\", len(df_bldg_2[df_bldg_2['cooling_type'] == 'Naturally Ventilated']))\n",
    "print(\"Total AC buildings:\", len(df_bldg_2[df_bldg_2['cooling_type'] == 'Air Conditioned']))\n",
    "\n",
    "# get rid of all nan values in the temp_n_a column\n",
    "df_bldg_2_sig_a = df_bldg_2[~df_bldg_2['temp_n_a'].isna()]\n",
    "df_bldg_2_NV_a = df_bldg_2_sig_a[df_bldg_2_sig_a['cooling_type'] == 'Naturally Ventilated']\n",
    "df_bldg_2_AC_a = df_bldg_2_sig_a[df_bldg_2_sig_a['cooling_type'] == 'Air Conditioned']\n",
    "df_bldg_2_office_NV_a = df_bldg_2_NV_a[df_bldg_2_NV_a['building_type'] == 'office'].copy()\n",
    "df_bldg_2_office_AC_a = df_bldg_2_AC_a[df_bldg_2_AC_a['building_type'] == 'office'].copy()\n",
    "\n",
    "print(\"******************************************************************************\")\n",
    "print('Approach (a)')\n",
    "print('Total signficant buildings:', len(df_bldg_2_sig_a))\n",
    "print('Total signficant NV buildings:', len(df_bldg_2_NV_a))\n",
    "print('Total signficant NV office buildings:', len(df_bldg_2_office_NV_a))\n",
    "print('Total signficant AC buildings:', len(df_bldg_2_AC_a))\n",
    "print('Total signficant AC office buildings:', len(df_bldg_2_office_AC_a))\n",
    "\n",
    "\n",
    "# get rid of all nan values in the temp_n_a column\n",
    "df_bldg_2_sig_b = df_bldg_2[~df_bldg_2['temp_n_b'].isna()]\n",
    "df_bldg_2_NV_b = df_bldg_2_sig_b[df_bldg_2_sig_b['cooling_type'] == 'Naturally Ventilated']\n",
    "df_bldg_2_AC_b = df_bldg_2_sig_b[df_bldg_2_sig_b['cooling_type'] == 'Air Conditioned']\n",
    "df_bldg_2_office_AC_b = df_bldg_2_AC_b[df_bldg_2_AC_b['building_type'] == 'office'].copy()\n",
    "df_bldg_2_office_NV_b = df_bldg_2_NV_b[df_bldg_2_NV_b['building_type'] == 'office'].copy()\n",
    "\n",
    "print(\"******************************************************************************\")\n",
    "print('Approach (b)')\n",
    "print('Total signficant buildings:', len(df_bldg_2_sig_b))\n",
    "print('Total signficant NV buildings:', len(df_bldg_2_NV_b))\n",
    "print('Total signficant NV office buildings:', len(df_bldg_2_office_NV_b))\n",
    "print('Total signficant AC buildings:', len(df_bldg_2_AC_b))\n",
    "print('Total signficant AC office buildings:', len(df_bldg_2_office_AC_b))"
   ]
  },
  {
   "cell_type": "markdown",
   "metadata": {},
   "source": [
    "### ACM (SET) for all NV offices"
   ]
  },
  {
   "cell_type": "code",
   "execution_count": 291,
   "metadata": {},
   "outputs": [
    {
     "name": "stdout",
     "output_type": "stream",
     "text": [
      "Total buildings for Approach (a) ACM_NV: 34\n",
      "Total buildings for Approach (b) ACM_NV: 34\n"
     ]
    }
   ],
   "source": [
    "# only keep buildings with 10 < t_out_combined < 35\n",
    "df_ACM_SET_NV_a = df_bldg_2_office_NV_a[(df_bldg_2_office_NV_a['t_out_combined'] >= 10) & (df_bldg_2_office_NV_a['t_out_combined'] <= 35)]\n",
    "df_ACM_SET_NV_b = df_bldg_2_office_NV_b[(df_bldg_2_office_NV_b['t_out_combined'] >= 10) & (df_bldg_2_office_NV_b['t_out_combined'] <= 35)]\n",
    "print(\"Total buildings for Approach (a) ACM_NV:\", len(df_ACM_SET_NV_a))\n",
    "print(\"Total buildings for Approach (b) ACM_NV:\", len(df_ACM_SET_NV_b))"
   ]
  },
  {
   "cell_type": "markdown",
   "metadata": {},
   "source": [
    "####  Approach (a)"
   ]
  },
  {
   "cell_type": "code",
   "execution_count": 292,
   "metadata": {},
   "outputs": [
    {
     "name": "stdout",
     "output_type": "stream",
     "text": [
      "p value 0.357\n",
      "                            WLS Regression Results                            \n",
      "==============================================================================\n",
      "Dep. Variable:               temp_n_a   R-squared:                       0.027\n",
      "Model:                            WLS   Adj. R-squared:                 -0.004\n",
      "Method:                 Least Squares   F-statistic:                    0.8736\n",
      "Date:                Mon, 08 Jan 2024   Prob (F-statistic):              0.357\n",
      "Time:                        22:36:12   Log-Likelihood:                -100.02\n",
      "No. Observations:                  34   AIC:                             204.0\n",
      "Df Residuals:                      32   BIC:                             207.1\n",
      "Df Model:                           1                                         \n",
      "Covariance Type:            nonrobust                                         \n",
      "==================================================================================\n",
      "                     coef    std err          t      P>|t|      [0.025      0.975]\n",
      "----------------------------------------------------------------------------------\n",
      "const             26.6438      3.332      7.997      0.000      19.857      33.430\n",
      "t_out_combined    -0.1300      0.139     -0.935      0.357      -0.413       0.153\n",
      "==============================================================================\n",
      "Omnibus:                        2.350   Durbin-Watson:                   1.285\n",
      "Prob(Omnibus):                  0.309   Jarque-Bera (JB):                1.280\n",
      "Skew:                           0.073   Prob(JB):                        0.527\n",
      "Kurtosis:                       3.939   Cond. No.                         113.\n",
      "==============================================================================\n",
      "\n",
      "Notes:\n",
      "[1] Standard Errors assume that the covariance matrix of the errors is correctly specified.\n",
      "******************************************************************************\n",
      "ACM regression line slope: -0.13\n",
      "ACM regression line slope: 26.64\n",
      "ACM comfort zone: 13.21\n"
     ]
    }
   ],
   "source": [
    "# conduct weighted ACM regression line based on approach (a)\n",
    "temp_n_a_intercept, temp_n_a_slope = weighted_regression(df_ACM_SET_NV_a['t_out_combined'], df_ACM_SET_NV_a['temp_n_a'], df_ACM_SET_NV_a['records'])\n",
    "# print the fitted line slope and intercept\n",
    "print(\"******************************************************************************\")\n",
    "print('ACM regression line slope: {:.2f}'.format(temp_n_a_slope))\n",
    "print('ACM regression line slope: {:.2f}'.format(temp_n_a_intercept))\n",
    "\n",
    "# calculate the mean comfort zone\n",
    "range_a = df_ACM_SET_NV_a['temp_up_a'].mean() - df_ACM_SET_NV_a['temp_low_a'].mean()\n",
    "print('ACM comfort zone: {:.2f}'.format(range_a))"
   ]
  },
  {
   "cell_type": "code",
   "execution_count": 293,
   "metadata": {},
   "outputs": [
    {
     "data": {
      "image/png": "[encoded data removed]",
      "text/plain": [
       "<Figure size 720x504 with 1 Axes>"
      ]
     },
     "metadata": {
      "needs_background": "light"
     },
     "output_type": "display_data"
    }
   ],
   "source": [
    "# sort the data points by t_out_combined\n",
    "t_out_combined = np.array(df_ACM_SET_NV_a['t_out_combined'])\n",
    "sort_index = np.argsort(t_out_combined)\n",
    "t_out_combined = t_out_combined[sort_index]\n",
    "up_line = temp_n_a_slope * t_out_combined + temp_n_a_intercept + range_a/2\n",
    "low_line = temp_n_a_slope * t_out_combined + temp_n_a_intercept - range_a/2\n",
    "middle_line = temp_n_a_slope * t_out_combined + temp_n_a_intercept\n",
    "\n",
    "# plot data points\n",
    "plt.figure(figsize=(10, 7))\n",
    "plt.plot(t_out_combined, middle_line, color='black', linewidth=4)\n",
    "sns.regplot(x='t_out_combined', y='temp_n_a', data=df_ACM_SET_NV_a, fit_reg=False, scatter_kws={'color': 'green'})\n",
    "plt.plot(t_out_combined, up_line, color='black', linewidth=2, linestyle='--', dashes=(5, 5))\n",
    "plt.plot(t_out_combined, low_line, color='black', linewidth=2, linestyle='--', dashes=(5, 5))\n",
    "plt.xlabel('', fontsize=40)\n",
    "plt.ylabel('', fontsize=40)\n",
    "plt.xticks(fontsize=40)\n",
    "plt.yticks(fontsize=40)\n",
    "plt.xlim(10, 35)\n",
    "plt.ylim(15, 33)\n",
    "plt.grid(False)\n",
    "plt.rcParams['font.family'] = 'Times New Roman'\n",
    "# plt.savefig('figs/ACM_NV_neutral_a.pdf', format='pdf', bbox_inches='tight')"
   ]
  },
  {
   "cell_type": "code",
   "execution_count": 275,
   "metadata": {},
   "outputs": [
    {
     "data": {
      "text/plain": [
       "array([176, 181, 182])"
      ]
     },
     "execution_count": 275,
     "metadata": {},
     "output_type": "execute_result"
    }
   ],
   "source": [
    "# building id where t_out_combined <15\n",
    "df_ACM_SET_NV_a[df_ACM_SET_NV_a['t_out_combined'] < 15].building_id.unique()"
   ]
  },
  {
   "cell_type": "code",
   "execution_count": 279,
   "metadata": {},
   "outputs": [
    {
     "data": {
      "text/html": [
       "<div>\n",
       "<style scoped>\n",
       "    .dataframe tbody tr th:only-of-type {\n",
       "        vertical-align: middle;\n",
       "    }\n",
       "\n",
       "    .dataframe tbody tr th {\n",
       "        vertical-align: top;\n",
       "    }\n",
       "\n",
       "    .dataframe thead th {\n",
       "        text-align: right;\n",
       "    }\n",
       "</style>\n",
       "<table border=\"1\" class=\"dataframe\">\n",
       "  <thead>\n",
       "    <tr style=\"text-align: right;\">\n",
       "      <th></th>\n",
       "      <th>building_id</th>\n",
       "      <th>t_out_combined</th>\n",
       "      <th>records</th>\n",
       "      <th>cooling_type</th>\n",
       "      <th>building_type</th>\n",
       "      <th>database</th>\n",
       "      <th>slope_a</th>\n",
       "      <th>slope_b</th>\n",
       "      <th>intercept_a</th>\n",
       "      <th>intercept_b</th>\n",
       "      <th>temp_n_a</th>\n",
       "      <th>temp_n_b</th>\n",
       "      <th>temp_up_a</th>\n",
       "      <th>temp_up_b</th>\n",
       "      <th>temp_low_a</th>\n",
       "      <th>temp_low_b</th>\n",
       "    </tr>\n",
       "  </thead>\n",
       "  <tbody>\n",
       "    <tr>\n",
       "      <th>149</th>\n",
       "      <td>176</td>\n",
       "      <td>13.980932</td>\n",
       "      <td>513</td>\n",
       "      <td>Naturally Ventilated</td>\n",
       "      <td>office</td>\n",
       "      <td>1.0</td>\n",
       "      <td>0.065926</td>\n",
       "      <td>0.470712</td>\n",
       "      <td>-2.0322</td>\n",
       "      <td>23.476458</td>\n",
       "      <td>30.825328</td>\n",
       "      <td>23.476458</td>\n",
       "      <td>43.718512</td>\n",
       "      <td>23.876563</td>\n",
       "      <td>17.932144</td>\n",
       "      <td>23.076353</td>\n",
       "    </tr>\n",
       "  </tbody>\n",
       "</table>\n",
       "</div>"
      ],
      "text/plain": [
       "     building_id  t_out_combined  records          cooling_type building_type  \\\n",
       "149          176       13.980932      513  Naturally Ventilated        office   \n",
       "\n",
       "     database   slope_a   slope_b  intercept_a  intercept_b   temp_n_a  \\\n",
       "149       1.0  0.065926  0.470712      -2.0322    23.476458  30.825328   \n",
       "\n",
       "      temp_n_b  temp_up_a  temp_up_b  temp_low_a  temp_low_b  \n",
       "149  23.476458  43.718512  23.876563   17.932144   23.076353  "
      ]
     },
     "execution_count": 279,
     "metadata": {},
     "output_type": "execute_result"
    }
   ],
   "source": [
    "df_ACM_SET_NV_a[df_ACM_SET_NV_a.building_id == 176]"
   ]
  },
  {
   "cell_type": "code",
   "execution_count": 284,
   "metadata": {},
   "outputs": [
    {
     "data": {
      "text/plain": [
       "(array([-4., -3., -2., -1.,  0.,  1.,  2.,  3.]),\n",
       " [Text(0, 0, ''),\n",
       "  Text(0, 0, ''),\n",
       "  Text(0, 0, ''),\n",
       "  Text(0, 0, ''),\n",
       "  Text(0, 0, ''),\n",
       "  Text(0, 0, ''),\n",
       "  Text(0, 0, ''),\n",
       "  Text(0, 0, '')])"
      ]
     },
     "execution_count": 284,
     "metadata": {},
     "output_type": "execute_result"
    },
    {
     "data": {
      "image/png": "[encoded data removed]",
      "text/plain": [
       "<Figure size 720x504 with 1 Axes>"
      ]
     },
     "metadata": {
      "needs_background": "light"
     },
     "output_type": "display_data"
    }
   ],
   "source": [
    "# plot linear regression for building 176 between thermal sensation and set\n",
    "plt.figure(figsize=(10, 7))\n",
    "sns.regplot(x='set', y='thermal_sensation', data=df_data_2[df_data_2.building_id == 176], fit_reg=True, scatter_kws={'color': 'green'})\n",
    "plt.xlabel('SET', fontsize=40)\n",
    "plt.ylabel('TSV', fontsize=40)\n",
    "plt.xticks(fontsize=40)\n",
    "plt.yticks(fontsize=40)"
   ]
  },
  {
   "cell_type": "code",
   "execution_count": 289,
   "metadata": {},
   "outputs": [
    {
     "data": {
      "text/plain": [
       "(array([-4., -3., -2., -1.,  0.,  1.,  2.,  3.]),\n",
       " [Text(0, 0, ''),\n",
       "  Text(0, 0, ''),\n",
       "  Text(0, 0, ''),\n",
       "  Text(0, 0, ''),\n",
       "  Text(0, 0, ''),\n",
       "  Text(0, 0, ''),\n",
       "  Text(0, 0, ''),\n",
       "  Text(0, 0, '')])"
      ]
     },
     "execution_count": 289,
     "metadata": {},
     "output_type": "execute_result"
    },
    {
     "data": {
      "image/png": "[encoded data removed]",
      "text/plain": [
       "<Figure size 720x504 with 1 Axes>"
      ]
     },
     "metadata": {
      "needs_background": "light"
     },
     "output_type": "display_data"
    }
   ],
   "source": [
    "# plot linear regression for building 176 between thermal sensation and set\n",
    "plt.figure(figsize=(10, 7))\n",
    "sns.regplot(x='top', y='thermal_sensation', data=df_data_2[df_data_2.building_id == 176], fit_reg=True, scatter_kws={'color': 'green'})\n",
    "plt.xlabel('Top', fontsize=40)\n",
    "plt.ylabel('TSV', fontsize=40)\n",
    "plt.xticks(fontsize=40)\n",
    "plt.yticks(fontsize=40)"
   ]
  },
  {
   "cell_type": "markdown",
   "metadata": {},
   "source": [
    "#### Approach (b)"
   ]
  },
  {
   "cell_type": "markdown",
   "metadata": {},
   "source": []
  },
  {
   "cell_type": "code",
   "execution_count": 147,
   "metadata": {},
   "outputs": [
    {
     "name": "stdout",
     "output_type": "stream",
     "text": [
      "p value 0.000\n",
      "                            WLS Regression Results                            \n",
      "==============================================================================\n",
      "Dep. Variable:               temp_n_b   R-squared:                       0.715\n",
      "Model:                            WLS   Adj. R-squared:                  0.706\n",
      "Method:                 Least Squares   F-statistic:                     80.16\n",
      "Date:                Mon, 08 Jan 2024   Prob (F-statistic):           3.16e-10\n",
      "Time:                        21:10:32   Log-Likelihood:                -63.432\n",
      "No. Observations:                  34   AIC:                             130.9\n",
      "Df Residuals:                      32   BIC:                             133.9\n",
      "Df Model:                           1                                         \n",
      "Covariance Type:            nonrobust                                         \n",
      "==================================================================================\n",
      "                     coef    std err          t      P>|t|      [0.025      0.975]\n",
      "----------------------------------------------------------------------------------\n",
      "const             16.1107      1.136     14.185      0.000      13.797      18.424\n",
      "t_out_combined     0.4244      0.047      8.953      0.000       0.328       0.521\n",
      "==============================================================================\n",
      "Omnibus:                        5.178   Durbin-Watson:                   0.868\n",
      "Prob(Omnibus):                  0.075   Jarque-Bera (JB):                4.106\n",
      "Skew:                           0.843   Prob(JB):                        0.128\n",
      "Kurtosis:                       3.230   Cond. No.                         113.\n",
      "==============================================================================\n",
      "\n",
      "Notes:\n",
      "[1] Standard Errors assume that the covariance matrix of the errors is correctly specified.\n",
      "******************************************************************************\n",
      "ACM_NV regression line slope: 0.42\n",
      "ACM_NV regression line slope: 16.11\n",
      "ACM_NV comfort zone: 1.78\n"
     ]
    }
   ],
   "source": [
    "# conduct weighted ACM_NV regression line based on approach (b)\n",
    "temp_n_b_intercept, temp_n_b_slope = weighted_regression(df_ACM_SET_NV_b['t_out_combined'], df_ACM_SET_NV_b['temp_n_b'], df_ACM_SET_NV_b['records'])\n",
    "# print the fitted line slope and intercept\n",
    "print(\"******************************************************************************\")\n",
    "print('ACM_NV regression line slope: {:.2f}'.format(temp_n_b_slope))\n",
    "print('ACM_NV regression line slope: {:.2f}'.format(temp_n_b_intercept))\n",
    "\n",
    "# calculate the mean comfort zone\n",
    "range_b = df_ACM_SET_NV_b['temp_up_b'].mean() - df_ACM_SET_NV_b['temp_low_b'].mean()\n",
    "print('ACM_NV comfort zone: {:.2f}'.format(range_b))"
   ]
  },
  {
   "cell_type": "code",
   "execution_count": 148,
   "metadata": {},
   "outputs": [
    {
     "data": {
      "image/png": "[encoded data removed]",
      "text/plain": [
       "<Figure size 720x504 with 1 Axes>"
      ]
     },
     "metadata": {
      "needs_background": "light"
     },
     "output_type": "display_data"
    }
   ],
   "source": [
    "# sort the data points by t_out_combined\n",
    "t_out_combined = np.array(df_ACM_SET_NV_b['t_out_combined'])\n",
    "sort_index = np.argsort(t_out_combined)\n",
    "t_out_combined = t_out_combined[sort_index]\n",
    "up_line = temp_n_b_slope * t_out_combined + temp_n_b_intercept + range_b/2\n",
    "low_line = temp_n_b_slope * t_out_combined + temp_n_b_intercept - range_b/2\n",
    "middle_line = temp_n_b_slope * t_out_combined + temp_n_b_intercept\n",
    "\n",
    "# plot data points\n",
    "plt.figure(figsize=(10, 7))\n",
    "plt.plot(t_out_combined, middle_line, color='black', linewidth=4)\n",
    "sns.regplot(x='t_out_combined', y='temp_n_b', data=df_ACM_SET_NV_b, fit_reg=False, scatter_kws={'color': 'green'})\n",
    "plt.plot(t_out_combined, up_line, color='black', linewidth=2, linestyle='--', dashes=(5, 5))\n",
    "plt.plot(t_out_combined, low_line, color='black', linewidth=2, linestyle='--', dashes=(5, 5))\n",
    "plt.xlabel('', fontsize=40)\n",
    "plt.ylabel('', fontsize=40)\n",
    "plt.xticks(fontsize=40)\n",
    "plt.yticks(fontsize=40)\n",
    "plt.xlim(10, 35)\n",
    "plt.ylim(17, 32)\n",
    "plt.grid(False)\n",
    "plt.rcParams['font.family'] = 'Times New Roman'\n",
    "# plt.savefig('figs/ACM_NV_neutral_b.pdf', format='pdf', bbox_inches='tight')"
   ]
  },
  {
   "cell_type": "markdown",
   "metadata": {},
   "source": [
    "## PMV"
   ]
  },
  {
   "cell_type": "code",
   "execution_count": 150,
   "metadata": {},
   "outputs": [
    {
     "name": "stdout",
     "output_type": "stream",
     "text": [
      "0\n",
      "0\n",
      "0\n",
      "0\n",
      "0\n",
      "0\n"
     ]
    }
   ],
   "source": [
    "# check nan values in columns of df_data_1: ta, rh, vel, tr, met, clo\n",
    "print(df_data_1['ta'].isna().sum())\n",
    "print(df_data_1['rh'].isna().sum())\n",
    "print(df_data_1['vel'].isna().sum())\n",
    "print(df_data_1['tr'].isna().sum())\n",
    "print(df_data_1['met'].isna().sum())\n",
    "print(df_data_1['clo'].isna().sum())\n"
   ]
  },
  {
   "cell_type": "code",
   "execution_count": null,
   "metadata": {},
   "outputs": [],
   "source": []
  }
 ],
 "metadata": {
  "kernelspec": {
   "display_name": "base",
   "language": "python",
   "name": "python3"
  },
  "language_info": {
   "codemirror_mode": {
    "name": "ipython",
    "version": 3
   },
   "file_extension": ".py",
   "mimetype": "text/x-python",
   "name": "python",
   "nbconvert_exporter": "python",
   "pygments_lexer": "ipython3",
   "version": "3.8.5"
  }
 },
 "nbformat": 4,
 "nbformat_minor": 2
}
