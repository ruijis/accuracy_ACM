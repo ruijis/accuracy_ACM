{
 "cells": [
  {
   "cell_type": "code",
   "execution_count": 5,
   "metadata": {},
   "outputs": [],
   "source": [
    "# Import required libraries\n",
    "import pandas as pd\n",
    "import numpy as np\n",
    "import seaborn as sns\n",
    "import matplotlib.pyplot as plt\n",
    "import statsmodels.formula.api as smf\n",
    "import statsmodels.api as sm"
   ]
  },
  {
   "cell_type": "markdown",
   "metadata": {},
   "source": [
    "## Data Preparation"
   ]
  },
  {
   "cell_type": "markdown",
   "metadata": {},
   "source": [
    "### Import ASHRAE Global Thermal Comfort Database 2"
   ]
  },
  {
   "cell_type": "code",
   "execution_count": 6,
   "metadata": {},
   "outputs": [
    {
     "name": "stdout",
     "output_type": "stream",
     "text": [
      "Total buildings: 809\n",
      "Total records: 109033\n"
     ]
    },
    {
     "name": "stderr",
     "output_type": "stream",
     "text": [
      "<ipython-input-6-141fd3ff1828>:7: DtypeWarning: Columns (5,35,36) have mixed types. Specify dtype option on import or set low_memory=False.\n",
      "  df_measurements = pd.read_csv(url_measurements)\n"
     ]
    }
   ],
   "source": [
    "# Read metadata from Github\n",
    "url_meta = \"https://github.com/CenterForTheBuiltEnvironment/ashrae-db-II/raw/master/v2.1.0/db_metadata.csv\"\n",
    "df_meta = pd.read_csv(url_meta)\n",
    "\n",
    "# Read database from Github\n",
    "url_measurements = \"https://github.com/CenterForTheBuiltEnvironment/ashrae-db-II/raw/master/v2.1.0/db_measurements_v2.1.0.csv.gz\"\n",
    "df_measurements = pd.read_csv(url_measurements)\n",
    "\n",
    "# Merge building metadata and measurement data\n",
    "df_rawdata = df_measurements.merge(df_meta[['building_id', 'city', 'building_type', 'cooling_type', 'records', 'database']], on='building_id', how='left')\n",
    "\n",
    "print('Total buildings:', len(df_rawdata.building_id.unique()))\n",
    "print('Total records:', len(df_rawdata))"
   ]
  },
  {
   "cell_type": "markdown",
   "metadata": {},
   "source": [
    "### Clean outdoor air temperature data"
   ]
  },
  {
   "cell_type": "code",
   "execution_count": 7,
   "metadata": {},
   "outputs": [],
   "source": [
    "# Merge two outdoor air temperature columns as a new column\n",
    "df_rawdata.loc[:, 't_out_combined'] = df_rawdata.loc[:, 't_out_isd'].fillna(df_rawdata.loc[:, 't_out'])\n",
    "\n",
    "# Remove the two outdoor air temperature columns\n",
    "df_rawdata = df_rawdata.drop(columns=['t_out_isd', 't_out'])"
   ]
  },
  {
   "cell_type": "markdown",
   "metadata": {},
   "source": [
    "### A dataframe with each occupant as a row, simultaniouely having Tout, Top, and TSV data"
   ]
  },
  {
   "cell_type": "code",
   "execution_count": 8,
   "metadata": {},
   "outputs": [
    {
     "name": "stdout",
     "output_type": "stream",
     "text": [
      "Qualified buildings: 518\n",
      "Qualified records: 26307\n"
     ]
    },
    {
     "data": {
      "text/html": [
       "<div>\n",
       "<style scoped>\n",
       "    .dataframe tbody tr th:only-of-type {\n",
       "        vertical-align: middle;\n",
       "    }\n",
       "\n",
       "    .dataframe tbody tr th {\n",
       "        vertical-align: top;\n",
       "    }\n",
       "\n",
       "    .dataframe thead th {\n",
       "        text-align: right;\n",
       "    }\n",
       "</style>\n",
       "<table border=\"1\" class=\"dataframe\">\n",
       "  <thead>\n",
       "    <tr style=\"text-align: right;\">\n",
       "      <th></th>\n",
       "      <th>index</th>\n",
       "      <th>record_id</th>\n",
       "      <th>building_id</th>\n",
       "      <th>timestamp</th>\n",
       "      <th>season</th>\n",
       "      <th>subject_id</th>\n",
       "      <th>age</th>\n",
       "      <th>gender</th>\n",
       "      <th>ht</th>\n",
       "      <th>wt</th>\n",
       "      <th>...</th>\n",
       "      <th>ppd</th>\n",
       "      <th>pmv_ce</th>\n",
       "      <th>ppd_ce</th>\n",
       "      <th>t_mot_isd</th>\n",
       "      <th>city</th>\n",
       "      <th>building_type</th>\n",
       "      <th>cooling_type</th>\n",
       "      <th>records</th>\n",
       "      <th>database</th>\n",
       "      <th>t_out_combined</th>\n",
       "    </tr>\n",
       "  </thead>\n",
       "  <tbody>\n",
       "    <tr>\n",
       "      <th>0</th>\n",
       "      <td>0</td>\n",
       "      <td>1</td>\n",
       "      <td>1</td>\n",
       "      <td>1995-05-18T00:00:00Z</td>\n",
       "      <td>winter</td>\n",
       "      <td>10.0</td>\n",
       "      <td>NaN</td>\n",
       "      <td>female</td>\n",
       "      <td>NaN</td>\n",
       "      <td>NaN</td>\n",
       "      <td>...</td>\n",
       "      <td>10.2</td>\n",
       "      <td>0.38</td>\n",
       "      <td>8.0</td>\n",
       "      <td>17.4</td>\n",
       "      <td>sydney</td>\n",
       "      <td>office</td>\n",
       "      <td>mixed mode</td>\n",
       "      <td>170</td>\n",
       "      <td>1.0</td>\n",
       "      <td>16.295833</td>\n",
       "    </tr>\n",
       "    <tr>\n",
       "      <th>1</th>\n",
       "      <td>1</td>\n",
       "      <td>2</td>\n",
       "      <td>1</td>\n",
       "      <td>1995-05-18T00:00:00Z</td>\n",
       "      <td>winter</td>\n",
       "      <td>14.0</td>\n",
       "      <td>NaN</td>\n",
       "      <td>female</td>\n",
       "      <td>NaN</td>\n",
       "      <td>NaN</td>\n",
       "      <td>...</td>\n",
       "      <td>8.4</td>\n",
       "      <td>0.40</td>\n",
       "      <td>8.4</td>\n",
       "      <td>17.4</td>\n",
       "      <td>sydney</td>\n",
       "      <td>office</td>\n",
       "      <td>mixed mode</td>\n",
       "      <td>170</td>\n",
       "      <td>1.0</td>\n",
       "      <td>16.295833</td>\n",
       "    </tr>\n",
       "    <tr>\n",
       "      <th>2</th>\n",
       "      <td>2</td>\n",
       "      <td>3</td>\n",
       "      <td>1</td>\n",
       "      <td>1995-05-18T00:00:00Z</td>\n",
       "      <td>winter</td>\n",
       "      <td>15.0</td>\n",
       "      <td>NaN</td>\n",
       "      <td>female</td>\n",
       "      <td>NaN</td>\n",
       "      <td>NaN</td>\n",
       "      <td>...</td>\n",
       "      <td>5.1</td>\n",
       "      <td>-0.07</td>\n",
       "      <td>5.1</td>\n",
       "      <td>17.4</td>\n",
       "      <td>sydney</td>\n",
       "      <td>office</td>\n",
       "      <td>mixed mode</td>\n",
       "      <td>170</td>\n",
       "      <td>1.0</td>\n",
       "      <td>16.295833</td>\n",
       "    </tr>\n",
       "    <tr>\n",
       "      <th>3</th>\n",
       "      <td>3</td>\n",
       "      <td>4</td>\n",
       "      <td>1</td>\n",
       "      <td>1995-05-18T00:00:00Z</td>\n",
       "      <td>winter</td>\n",
       "      <td>17.0</td>\n",
       "      <td>NaN</td>\n",
       "      <td>female</td>\n",
       "      <td>NaN</td>\n",
       "      <td>NaN</td>\n",
       "      <td>...</td>\n",
       "      <td>7.0</td>\n",
       "      <td>0.14</td>\n",
       "      <td>5.4</td>\n",
       "      <td>17.4</td>\n",
       "      <td>sydney</td>\n",
       "      <td>office</td>\n",
       "      <td>mixed mode</td>\n",
       "      <td>170</td>\n",
       "      <td>1.0</td>\n",
       "      <td>16.295833</td>\n",
       "    </tr>\n",
       "    <tr>\n",
       "      <th>4</th>\n",
       "      <td>4</td>\n",
       "      <td>5</td>\n",
       "      <td>1</td>\n",
       "      <td>1995-05-18T00:00:00Z</td>\n",
       "      <td>winter</td>\n",
       "      <td>21.0</td>\n",
       "      <td>NaN</td>\n",
       "      <td>male</td>\n",
       "      <td>NaN</td>\n",
       "      <td>NaN</td>\n",
       "      <td>...</td>\n",
       "      <td>5.0</td>\n",
       "      <td>-0.06</td>\n",
       "      <td>5.1</td>\n",
       "      <td>17.4</td>\n",
       "      <td>sydney</td>\n",
       "      <td>office</td>\n",
       "      <td>mixed mode</td>\n",
       "      <td>170</td>\n",
       "      <td>1.0</td>\n",
       "      <td>16.295833</td>\n",
       "    </tr>\n",
       "  </tbody>\n",
       "</table>\n",
       "<p>5 rows × 57 columns</p>\n",
       "</div>"
      ],
      "text/plain": [
       "   index  record_id  building_id             timestamp  season subject_id  \\\n",
       "0      0          1            1  1995-05-18T00:00:00Z  winter       10.0   \n",
       "1      1          2            1  1995-05-18T00:00:00Z  winter       14.0   \n",
       "2      2          3            1  1995-05-18T00:00:00Z  winter       15.0   \n",
       "3      3          4            1  1995-05-18T00:00:00Z  winter       17.0   \n",
       "4      4          5            1  1995-05-18T00:00:00Z  winter       21.0   \n",
       "\n",
       "   age  gender  ht  wt  ...   ppd  pmv_ce  ppd_ce  t_mot_isd    city  \\\n",
       "0  NaN  female NaN NaN  ...  10.2    0.38     8.0       17.4  sydney   \n",
       "1  NaN  female NaN NaN  ...   8.4    0.40     8.4       17.4  sydney   \n",
       "2  NaN  female NaN NaN  ...   5.1   -0.07     5.1       17.4  sydney   \n",
       "3  NaN  female NaN NaN  ...   7.0    0.14     5.4       17.4  sydney   \n",
       "4  NaN    male NaN NaN  ...   5.0   -0.06     5.1       17.4  sydney   \n",
       "\n",
       "   building_type  cooling_type  records  database  t_out_combined  \n",
       "0         office    mixed mode      170       1.0       16.295833  \n",
       "1         office    mixed mode      170       1.0       16.295833  \n",
       "2         office    mixed mode      170       1.0       16.295833  \n",
       "3         office    mixed mode      170       1.0       16.295833  \n",
       "4         office    mixed mode      170       1.0       16.295833  \n",
       "\n",
       "[5 rows x 57 columns]"
      ]
     },
     "execution_count": 8,
     "metadata": {},
     "output_type": "execute_result"
    }
   ],
   "source": [
    "# Keep rows that simultaneously have data for all variables in cols \n",
    "def filter(df, cols):\n",
    "    df_qualifed = df.dropna(subset=cols)\n",
    "    print(f'Qualified buildings:', len(df_qualifed['building_id'].unique()))\n",
    "    print(f'Qualified records:', len(df_qualifed))\n",
    "    return df_qualifed\n",
    "\n",
    "# Keep rows that simultaneously have data for all variables in cols\n",
    "cols_1 = ['t_out_combined', 'top', 'set', 'thermal_sensation']\n",
    "df_data_1 = filter(df_rawdata, cols_1).copy()\n",
    "df_data_1.head()"
   ]
  },
  {
   "cell_type": "markdown",
   "metadata": {},
   "source": [
    "## First stage: neutral temperature estimation"
   ]
  },
  {
   "cell_type": "markdown",
   "metadata": {},
   "source": [
    "### Define functions for estimating neutral temperature for a building"
   ]
  },
  {
   "cell_type": "code",
   "execution_count": 9,
   "metadata": {},
   "outputs": [],
   "source": [
    "# regress TSV against Top (metric used in existing AHRAE ACM)\n",
    "def approach_op_a(bldg):\n",
    "    try:\n",
    "        lm_result = smf.ols(formula='thermal_sensation ~ top', data=bldg).fit()\n",
    "        slope = lm_result.params['top']\n",
    "        intercept = lm_result.params['Intercept']\n",
    "        # check whether the slope is significant\n",
    "        if lm_result.pvalues['top'] < 0.05:\n",
    "            a = slope\n",
    "            b = intercept\n",
    "            temp_n = -b / a\n",
    "            temp_up = (0.85-b)/a\n",
    "            temp_low = (-0.85-b)/a\n",
    "            return [slope, intercept, temp_n, temp_up, temp_low]\n",
    "        else:\n",
    "            return np.nan\n",
    "    except (ValueError, TypeError):\n",
    "        return np.nan\n",
    "\n",
    "# regress Top against TSV  \n",
    "def approach_op_b(bldg):\n",
    "    try:\n",
    "        lm_result = smf.ols(formula='top ~ thermal_sensation', data=bldg).fit()\n",
    "        slope = lm_result.params['thermal_sensation']\n",
    "        intercept = lm_result.params['Intercept']\n",
    "        # check whether the slope is significant\n",
    "        if lm_result.pvalues['thermal_sensation'] < 0.05:\n",
    "            a = slope\n",
    "            b = intercept\n",
    "            temp_n = b\n",
    "            temp_up = 0.85*a + b\n",
    "            temp_low = (-0.85)*a + b\n",
    "            return [slope, intercept, temp_n, temp_up, temp_low]\n",
    "        else:\n",
    "            return np.nan\n",
    "    except (ValueError, TypeError):\n",
    "        return np.nan\n",
    "    \n",
    "# regress TSV against SET (a new metric)\n",
    "def approach_SET_a(bldg):\n",
    "    try:\n",
    "        lm_result = smf.ols(formula='thermal_sensation ~ set', data=bldg).fit()\n",
    "        slope = lm_result.params['set']\n",
    "        intercept = lm_result.params['Intercept']\n",
    "        # check whether the slope is significant\n",
    "        if lm_result.pvalues['set'] < 0.05:\n",
    "            a = slope\n",
    "            b = intercept\n",
    "            temp_n = -b / a\n",
    "            temp_up = (0.85-b)/a\n",
    "            temp_low = (-0.85-b)/a\n",
    "            return [slope, intercept, temp_n, temp_up, temp_low]\n",
    "        else:\n",
    "            return np.nan\n",
    "    except (ValueError, TypeError):\n",
    "        return np.nan\n",
    "\n",
    "# regress SET against TSV  \n",
    "def approach_SET_b(bldg):\n",
    "    try:\n",
    "        lm_result = smf.ols(formula='set ~ thermal_sensation', data=bldg).fit()\n",
    "        slope = lm_result.params['thermal_sensation']\n",
    "        intercept = lm_result.params['Intercept']\n",
    "        # check whether the slope is significant\n",
    "        if lm_result.pvalues['thermal_sensation'] < 0.05:\n",
    "            a = slope\n",
    "            b = intercept\n",
    "            temp_n = b\n",
    "            temp_up = 0.85*a + b\n",
    "            temp_low = (-0.85)*a + b\n",
    "            return [slope, intercept, temp_n, temp_up, temp_low]\n",
    "        else:\n",
    "            return np.nan\n",
    "    except (ValueError, TypeError):\n",
    "        return np.nan"
   ]
  },
  {
   "cell_type": "markdown",
   "metadata": {},
   "source": [
    "### A dataframe with each building as a row, to store the first stage result"
   ]
  },
  {
   "cell_type": "code",
   "execution_count": 22,
   "metadata": {},
   "outputs": [],
   "source": [
    "# Define the columns for which you want to calculate the mean\n",
    "mean_cols = ['t_out_combined', 'top', 'set', 'thermal_sensation']\n",
    "\n",
    "# Group by 'building_id' and calculate the mean for all these columns at once\n",
    "df_means = df_data_1.groupby('building_id')[mean_cols].mean()\n",
    "\n",
    "# Reset the index of df_means to make 'building_id' a column again\n",
    "df_means.reset_index(inplace=True)\n",
    "\n",
    "# Merge df_means with the metadata\n",
    "df_bldg_1 = df_means.merge(df_meta[['building_id', 'records', 'cooling_type', 'building_type', 'database']], on='building_id', how='left')\n",
    "\n",
    "# Reset the building cooling type as string\n",
    "df_bldg_1['cooling_type'] = df_bldg_1['cooling_type'].str.title()"
   ]
  },
  {
   "cell_type": "markdown",
   "metadata": {},
   "source": [
    "### Estimate neutral temperature (top) for each single building"
   ]
  },
  {
   "cell_type": "code",
   "execution_count": 23,
   "metadata": {},
   "outputs": [
    {
     "data": {
      "text/html": [
       "<div>\n",
       "<style scoped>\n",
       "    .dataframe tbody tr th:only-of-type {\n",
       "        vertical-align: middle;\n",
       "    }\n",
       "\n",
       "    .dataframe tbody tr th {\n",
       "        vertical-align: top;\n",
       "    }\n",
       "\n",
       "    .dataframe thead th {\n",
       "        text-align: right;\n",
       "    }\n",
       "</style>\n",
       "<table border=\"1\" class=\"dataframe\">\n",
       "  <thead>\n",
       "    <tr style=\"text-align: right;\">\n",
       "      <th></th>\n",
       "      <th>building_id</th>\n",
       "      <th>t_out_combined</th>\n",
       "      <th>top</th>\n",
       "      <th>set</th>\n",
       "      <th>thermal_sensation</th>\n",
       "      <th>records</th>\n",
       "      <th>cooling_type</th>\n",
       "      <th>building_type</th>\n",
       "      <th>database</th>\n",
       "      <th>slope_a</th>\n",
       "      <th>slope_b</th>\n",
       "      <th>intercept_a</th>\n",
       "      <th>intercept_b</th>\n",
       "      <th>temp_n_a</th>\n",
       "      <th>temp_n_b</th>\n",
       "      <th>temp_up_a</th>\n",
       "      <th>temp_up_b</th>\n",
       "      <th>temp_low_a</th>\n",
       "      <th>temp_low_b</th>\n",
       "    </tr>\n",
       "  </thead>\n",
       "  <tbody>\n",
       "    <tr>\n",
       "      <th>0</th>\n",
       "      <td>1</td>\n",
       "      <td>15.560695</td>\n",
       "      <td>23.360524</td>\n",
       "      <td>25.454225</td>\n",
       "      <td>0.661972</td>\n",
       "      <td>170</td>\n",
       "      <td>Mixed Mode</td>\n",
       "      <td>office</td>\n",
       "      <td>1.0</td>\n",
       "      <td>0.282810</td>\n",
       "      <td>0.708579</td>\n",
       "      <td>-5.944612</td>\n",
       "      <td>22.891465</td>\n",
       "      <td>21.019827</td>\n",
       "      <td>22.891465</td>\n",
       "      <td>24.025381</td>\n",
       "      <td>23.493757</td>\n",
       "      <td>18.014273</td>\n",
       "      <td>22.289173</td>\n",
       "    </tr>\n",
       "    <tr>\n",
       "      <th>1</th>\n",
       "      <td>2</td>\n",
       "      <td>13.995833</td>\n",
       "      <td>22.328590</td>\n",
       "      <td>23.616000</td>\n",
       "      <td>0.020000</td>\n",
       "      <td>83</td>\n",
       "      <td>Air Conditioned</td>\n",
       "      <td>office</td>\n",
       "      <td>1.0</td>\n",
       "      <td>0.643948</td>\n",
       "      <td>0.292102</td>\n",
       "      <td>-14.358447</td>\n",
       "      <td>22.322748</td>\n",
       "      <td>22.297532</td>\n",
       "      <td>22.322748</td>\n",
       "      <td>23.617515</td>\n",
       "      <td>22.571035</td>\n",
       "      <td>20.977549</td>\n",
       "      <td>22.074462</td>\n",
       "    </tr>\n",
       "    <tr>\n",
       "      <th>2</th>\n",
       "      <td>3</td>\n",
       "      <td>0.583480</td>\n",
       "      <td>23.178237</td>\n",
       "      <td>23.694118</td>\n",
       "      <td>0.252941</td>\n",
       "      <td>85</td>\n",
       "      <td>Air Conditioned</td>\n",
       "      <td>office</td>\n",
       "      <td>1.0</td>\n",
       "      <td>NaN</td>\n",
       "      <td>NaN</td>\n",
       "      <td>NaN</td>\n",
       "      <td>NaN</td>\n",
       "      <td>NaN</td>\n",
       "      <td>NaN</td>\n",
       "      <td>NaN</td>\n",
       "      <td>NaN</td>\n",
       "      <td>NaN</td>\n",
       "      <td>NaN</td>\n",
       "    </tr>\n",
       "    <tr>\n",
       "      <th>3</th>\n",
       "      <td>4</td>\n",
       "      <td>19.225391</td>\n",
       "      <td>23.936241</td>\n",
       "      <td>24.164706</td>\n",
       "      <td>0.075630</td>\n",
       "      <td>137</td>\n",
       "      <td>Mixed Mode</td>\n",
       "      <td>office</td>\n",
       "      <td>1.0</td>\n",
       "      <td>0.478756</td>\n",
       "      <td>0.462422</td>\n",
       "      <td>-11.383983</td>\n",
       "      <td>23.901268</td>\n",
       "      <td>23.778269</td>\n",
       "      <td>23.901268</td>\n",
       "      <td>25.553704</td>\n",
       "      <td>24.294327</td>\n",
       "      <td>22.002833</td>\n",
       "      <td>23.508209</td>\n",
       "    </tr>\n",
       "    <tr>\n",
       "      <th>4</th>\n",
       "      <td>5</td>\n",
       "      <td>9.048210</td>\n",
       "      <td>22.095310</td>\n",
       "      <td>22.271875</td>\n",
       "      <td>-0.063281</td>\n",
       "      <td>128</td>\n",
       "      <td>Air Conditioned</td>\n",
       "      <td>office</td>\n",
       "      <td>1.0</td>\n",
       "      <td>NaN</td>\n",
       "      <td>NaN</td>\n",
       "      <td>NaN</td>\n",
       "      <td>NaN</td>\n",
       "      <td>NaN</td>\n",
       "      <td>NaN</td>\n",
       "      <td>NaN</td>\n",
       "      <td>NaN</td>\n",
       "      <td>NaN</td>\n",
       "      <td>NaN</td>\n",
       "    </tr>\n",
       "  </tbody>\n",
       "</table>\n",
       "</div>"
      ],
      "text/plain": [
       "   building_id  t_out_combined        top        set  thermal_sensation  \\\n",
       "0            1       15.560695  23.360524  25.454225           0.661972   \n",
       "1            2       13.995833  22.328590  23.616000           0.020000   \n",
       "2            3        0.583480  23.178237  23.694118           0.252941   \n",
       "3            4       19.225391  23.936241  24.164706           0.075630   \n",
       "4            5        9.048210  22.095310  22.271875          -0.063281   \n",
       "\n",
       "   records     cooling_type building_type  database   slope_a   slope_b  \\\n",
       "0      170       Mixed Mode        office       1.0  0.282810  0.708579   \n",
       "1       83  Air Conditioned        office       1.0  0.643948  0.292102   \n",
       "2       85  Air Conditioned        office       1.0       NaN       NaN   \n",
       "3      137       Mixed Mode        office       1.0  0.478756  0.462422   \n",
       "4      128  Air Conditioned        office       1.0       NaN       NaN   \n",
       "\n",
       "   intercept_a  intercept_b   temp_n_a   temp_n_b  temp_up_a  temp_up_b  \\\n",
       "0    -5.944612    22.891465  21.019827  22.891465  24.025381  23.493757   \n",
       "1   -14.358447    22.322748  22.297532  22.322748  23.617515  22.571035   \n",
       "2          NaN          NaN        NaN        NaN        NaN        NaN   \n",
       "3   -11.383983    23.901268  23.778269  23.901268  25.553704  24.294327   \n",
       "4          NaN          NaN        NaN        NaN        NaN        NaN   \n",
       "\n",
       "   temp_low_a  temp_low_b  \n",
       "0   18.014273   22.289173  \n",
       "1   20.977549   22.074462  \n",
       "2         NaN         NaN  \n",
       "3   22.002833   23.508209  \n",
       "4         NaN         NaN  "
      ]
     },
     "execution_count": 23,
     "metadata": {},
     "output_type": "execute_result"
    }
   ],
   "source": [
    "# store regression results as columns\n",
    "columns_name = ['slope', 'intercept', 'temp_n', 'temp_up', 'temp_low']\n",
    "\n",
    "# calculate regression results for each building\n",
    "for i in range(5):\n",
    "    column = columns_name[i]+\"_a\"\n",
    "    df_bldg_1[column] = df_data_1.groupby('building_id').apply(lambda x: approach_op_a(x)[i] if approach_op_a(x) is not np.nan else np.nan).reset_index(level=0, drop=True)\n",
    "    column = columns_name[i]+\"_b\"\n",
    "    df_bldg_1[column] = df_data_1.groupby('building_id').apply(lambda x: approach_op_b(x)[i] if approach_op_b(x) is not np.nan else np.nan).reset_index(level=0, drop=True)\n",
    "\n",
    "df_bldg_1.head()"
   ]
  },
  {
   "cell_type": "markdown",
   "metadata": {},
   "source": [
    "## Second stage: ACM"
   ]
  },
  {
   "cell_type": "markdown",
   "metadata": {},
   "source": [
    "### Filter out non-signficant regression results"
   ]
  },
  {
   "cell_type": "code",
   "execution_count": 24,
   "metadata": {},
   "outputs": [
    {
     "name": "stdout",
     "output_type": "stream",
     "text": [
      "Total buildings: 518\n",
      "Total NV buildings: 197\n",
      "Total AC buildings: 153\n",
      "******************************************************************************\n",
      "Approach (a)\n",
      "Total signficant buildings: 184\n",
      "Total signficant NV buildings: 61\n",
      "Total signficant NV office buildings: 41\n",
      "Total signficant AC buildings: 74\n",
      "Total signficant AC office buildings: 74\n",
      "******************************************************************************\n",
      "Approach (b)\n",
      "Total signficant buildings: 198\n",
      "Total signficant NV buildings: 67\n",
      "Total signficant NV office buildings: 41\n",
      "Total signficant AC buildings: 74\n",
      "Total signficant AC office buildings: 74\n"
     ]
    }
   ],
   "source": [
    "# number of all buildings\n",
    "print('Total buildings:', len(df_bldg_1))\n",
    "print(\"Total NV buildings:\", len(df_bldg_1[df_bldg_1['cooling_type'] == 'Naturally Ventilated']))\n",
    "print(\"Total AC buildings:\", len(df_bldg_1[df_bldg_1['cooling_type'] == 'Air Conditioned']))\n",
    "\n",
    "# get rid of all nan values in the temp_n_a column\n",
    "df_bldg_1_sig_a = df_bldg_1[~df_bldg_1['temp_n_a'].isna()]\n",
    "# print(\"******************************************************************************\")\n",
    "# # print the number of buildings that have negative slopes\n",
    "# print('Total negative signifiant buildings:', df_bldg_1[df_bldg_1['slope_a']<0].building_id.nunique())\n",
    "\n",
    "\n",
    "df_bldg_1_NV_a = df_bldg_1_sig_a[df_bldg_1_sig_a['cooling_type'] == 'Naturally Ventilated']\n",
    "df_bldg_1_AC_a = df_bldg_1_sig_a[df_bldg_1_sig_a['cooling_type'] == 'Air Conditioned']\n",
    "df_bldg_1_office_NV_a = df_bldg_1_NV_a[df_bldg_1_NV_a['building_type'] == 'office'].copy()\n",
    "df_bldg_1_office_AC_a = df_bldg_1_AC_a[df_bldg_1_AC_a['building_type'] == 'office'].copy()\n",
    "\n",
    "print(\"******************************************************************************\")\n",
    "print('Approach (a)')\n",
    "print('Total signficant buildings:', len(df_bldg_1_sig_a))\n",
    "print('Total signficant NV buildings:', len(df_bldg_1_NV_a))\n",
    "print('Total signficant NV office buildings:', len(df_bldg_1_office_NV_a))\n",
    "print('Total signficant AC buildings:', len(df_bldg_1_AC_a))\n",
    "print('Total signficant AC office buildings:', len(df_bldg_1_office_AC_a))\n",
    "\n",
    "# get rid of all nan values in the temp_n_a column\n",
    "df_bldg_1_sig_b = df_bldg_1[~df_bldg_1['temp_n_b'].isna()]\n",
    "df_bldg_1_NV_b = df_bldg_1_sig_b[df_bldg_1_sig_b['cooling_type'] == 'Naturally Ventilated']\n",
    "df_bldg_1_AC_b = df_bldg_1_sig_b[df_bldg_1_sig_b['cooling_type'] == 'Air Conditioned']\n",
    "df_bldg_1_office_AC_b = df_bldg_1_AC_b[df_bldg_1_AC_b['building_type'] == 'office'].copy()\n",
    "df_bldg_1_office_NV_b = df_bldg_1_NV_b[df_bldg_1_NV_b['building_type'] == 'office'].copy()\n",
    "\n",
    "print(\"******************************************************************************\")\n",
    "print('Approach (b)')\n",
    "print('Total signficant buildings:', len(df_bldg_1_sig_b))\n",
    "print('Total signficant NV buildings:', len(df_bldg_1_NV_b))\n",
    "print('Total signficant NV office buildings:', len(df_bldg_1_office_NV_b))\n",
    "print('Total signficant AC buildings:', len(df_bldg_1_AC_b))\n",
    "print('Total signficant AC office buildings:', len(df_bldg_1_office_AC_b))"
   ]
  },
  {
   "cell_type": "markdown",
   "metadata": {},
   "source": [
    "### Define a weighted linear regression"
   ]
  },
  {
   "cell_type": "code",
   "execution_count": 25,
   "metadata": {},
   "outputs": [],
   "source": [
    "# Weighted regression function\n",
    "def weighted_regression(x, y, weights):\n",
    "    X = sm.add_constant(x)\n",
    "    model = sm.WLS(y, X, weights=weights).fit()\n",
    "    intercept, slope = model.params\n",
    "    print('p value {:.3f}'.format(model.pvalues[1]))\n",
    "    print(model.summary())\n",
    "    return intercept, slope"
   ]
  },
  {
   "cell_type": "markdown",
   "metadata": {},
   "source": [
    "### ACM (op) for all NV offices"
   ]
  },
  {
   "cell_type": "code",
   "execution_count": 65,
   "metadata": {},
   "outputs": [
    {
     "name": "stdout",
     "output_type": "stream",
     "text": [
      "Total buildings for Approach (a) ACM_NV: 39\n",
      "Total buildings for Approach (b) ACM_NV: 39\n"
     ]
    }
   ],
   "source": [
    "# only keep buildings with 10 < t_out_combined < 33.5\n",
    "df_ACM_op_NV_a = df_bldg_1_office_NV_a[(df_bldg_1_office_NV_a['t_out_combined'] >= 10) & (df_bldg_1_office_NV_a['t_out_combined'] <= 33.5)]\n",
    "df_ACM_op_NV_b = df_bldg_1_office_NV_b[(df_bldg_1_office_NV_b['t_out_combined'] >= 10) & (df_bldg_1_office_NV_b['t_out_combined'] <= 33.5)]\n",
    "print(\"Total buildings for Approach (a) ACM_NV:\", len(df_ACM_op_NV_a))\n",
    "print(\"Total buildings for Approach (b) ACM_NV:\", len(df_ACM_op_NV_b))"
   ]
  },
  {
   "cell_type": "markdown",
   "metadata": {},
   "source": [
    "#### Approach (a)"
   ]
  },
  {
   "cell_type": "code",
   "execution_count": 66,
   "metadata": {},
   "outputs": [
    {
     "name": "stdout",
     "output_type": "stream",
     "text": [
      "p value 0.000\n",
      "                            WLS Regression Results                            \n",
      "==============================================================================\n",
      "Dep. Variable:               temp_n_a   R-squared:                       0.407\n",
      "Model:                            WLS   Adj. R-squared:                  0.391\n",
      "Method:                 Least Squares   F-statistic:                     25.35\n",
      "Date:                Fri, 12 Jan 2024   Prob (F-statistic):           1.27e-05\n",
      "Time:                        16:53:19   Log-Likelihood:                -83.089\n",
      "No. Observations:                  39   AIC:                             170.2\n",
      "Df Residuals:                      37   BIC:                             173.5\n",
      "Df Model:                           1                                         \n",
      "Covariance Type:            nonrobust                                         \n",
      "==================================================================================\n",
      "                     coef    std err          t      P>|t|      [0.025      0.975]\n",
      "----------------------------------------------------------------------------------\n",
      "const             18.3442      1.203     15.252      0.000      15.907      20.781\n",
      "t_out_combined     0.2619      0.052      5.035      0.000       0.157       0.367\n",
      "==============================================================================\n",
      "Omnibus:                        2.500   Durbin-Watson:                   1.914\n",
      "Prob(Omnibus):                  0.287   Jarque-Bera (JB):                1.539\n",
      "Skew:                          -0.116   Prob(JB):                        0.463\n",
      "Kurtosis:                       3.945   Cond. No.                         97.3\n",
      "==============================================================================\n",
      "\n",
      "Notes:\n",
      "[1] Standard Errors assume that the covariance matrix of the errors is correctly specified.\n",
      "******************************************************************************\n",
      "ACM regression line slope: 0.26\n",
      "ACM regression line slope: 18.34\n",
      "ACM comfort zone: 7.57\n"
     ]
    }
   ],
   "source": [
    "# conduct weighted ACM regression line based on approach (a)\n",
    "temp_n_a_intercept, temp_n_a_slope = weighted_regression(df_ACM_op_NV_a['t_out_combined'], df_ACM_op_NV_a['temp_n_a'], df_ACM_op_NV_a['records'])\n",
    "# print the fitted line slope and intercept\n",
    "print(\"******************************************************************************\")\n",
    "print('ACM regression line slope: {:.2f}'.format(temp_n_a_slope))\n",
    "print('ACM regression line slope: {:.2f}'.format(temp_n_a_intercept))\n",
    "\n",
    "# calculate the mean comfort zone\n",
    "range_a = df_ACM_op_NV_a['temp_up_a'].mean() - df_ACM_op_NV_a['temp_low_a'].mean()\n",
    "print('ACM comfort zone: {:.2f}'.format(range_a))"
   ]
  },
  {
   "cell_type": "code",
   "execution_count": 67,
   "metadata": {},
   "outputs": [
    {
     "data": {
      "image/png": "[encoded data removed]",
      "text/plain": [
       "<Figure size 720x504 with 1 Axes>"
      ]
     },
     "metadata": {
      "needs_background": "light"
     },
     "output_type": "display_data"
    }
   ],
   "source": [
    "# sort the data points by t_out_combined\n",
    "t_out_combined = np.array(df_ACM_op_NV_a['t_out_combined'])\n",
    "sort_index = np.argsort(t_out_combined)\n",
    "t_out_combined = t_out_combined[sort_index]\n",
    "up_line = temp_n_a_slope * t_out_combined + temp_n_a_intercept + range_a/2\n",
    "low_line = temp_n_a_slope * t_out_combined + temp_n_a_intercept - range_a/2\n",
    "middle_line = temp_n_a_slope * t_out_combined + temp_n_a_intercept\n",
    "\n",
    "# plot data points\n",
    "plt.figure(figsize=(10, 7))\n",
    "plt.plot(t_out_combined, middle_line, color='black', linewidth=4)\n",
    "sns.regplot(x='t_out_combined', y='temp_n_a', data=df_ACM_op_NV_a, fit_reg=False, scatter_kws={'color': 'green'})\n",
    "plt.plot(t_out_combined, up_line, color='black', linewidth=2, linestyle='--', dashes=(5, 5))\n",
    "plt.plot(t_out_combined, low_line, color='black', linewidth=2, linestyle='--', dashes=(5, 5))\n",
    "plt.xlabel('', fontsize=40)\n",
    "plt.ylabel('', fontsize=40)\n",
    "plt.xticks(fontsize=40)\n",
    "plt.yticks(fontsize=40)\n",
    "plt.xlim(10, 35)\n",
    "plt.ylim(15, 33)\n",
    "plt.grid(False)\n",
    "plt.rcParams['font.family'] = 'Times New Roman'\n",
    "# plt.savefig('figs/ACM_NV_neutral_a.pdf', format='pdf', bbox_inches='tight')\n"
   ]
  },
  {
   "cell_type": "markdown",
   "metadata": {},
   "source": [
    "Accuracy"
   ]
  },
  {
   "cell_type": "code",
   "execution_count": 68,
   "metadata": {},
   "outputs": [
    {
     "name": "stdout",
     "output_type": "stream",
     "text": [
      "Prediction Accraucy: 59 %\n",
      "******************************************************************************\n",
      "MSE: 6.81\n",
      "RMSE: 2.61\n"
     ]
    },
    {
     "name": "stderr",
     "output_type": "stream",
     "text": [
      "<ipython-input-68-4fb1f07a1fbf>:24: SettingWithCopyWarning: \n",
      "A value is trying to be set on a copy of a slice from a DataFrame.\n",
      "Try using .loc[row_indexer,col_indexer] = value instead\n",
      "\n",
      "See the caveats in the documentation: https://pandas.pydata.org/pandas-docs/stable/user_guide/indexing.html#returning-a-view-versus-a-copy\n",
      "  df_ACM_op_NV_a['n_temp_a_predicted'] = temp_n_a_slope * df_ACM_op_NV_a['t_out_combined'] + temp_n_a_intercept\n",
      "<ipython-input-68-4fb1f07a1fbf>:26: SettingWithCopyWarning: \n",
      "A value is trying to be set on a copy of a slice from a DataFrame.\n",
      "Try using .loc[row_indexer,col_indexer] = value instead\n",
      "\n",
      "See the caveats in the documentation: https://pandas.pydata.org/pandas-docs/stable/user_guide/indexing.html#returning-a-view-versus-a-copy\n",
      "  df_ACM_op_NV_a['residuals_a'] = df_ACM_op_NV_a['temp_n_b'] - df_ACM_op_NV_a['n_temp_a_predicted']\n",
      "<ipython-input-68-4fb1f07a1fbf>:28: SettingWithCopyWarning: \n",
      "A value is trying to be set on a copy of a slice from a DataFrame.\n",
      "Try using .loc[row_indexer,col_indexer] = value instead\n",
      "\n",
      "See the caveats in the documentation: https://pandas.pydata.org/pandas-docs/stable/user_guide/indexing.html#returning-a-view-versus-a-copy\n",
      "  df_ACM_op_NV_a['squared_residuals_a'] = df_ACM_op_NV_a['residuals_a']**2\n"
     ]
    }
   ],
   "source": [
    "# create a new dataframe from df_data, that has all building id in df_bldg_nv_a\n",
    "df_data_nv_a = df_data_1[df_data_1['building_id'].isin(df_ACM_op_NV_a['building_id'])].copy()\n",
    "df_data_nv_a['up_limit'] = temp_n_a_slope * df_data_nv_a['t_out_combined'] + temp_n_a_intercept + range_a/2\n",
    "df_data_nv_a['low_limit'] = temp_n_a_slope * df_data_nv_a['t_out_combined'] + temp_n_a_intercept - range_a/2\n",
    "# create a new column, for each row, assign the value of 1 if the top is within up_limit and low_limit when thermal_sensation is within +0.85 and -0.85, or the top is not within up_limit and low_limit when thermal_sensation is not within +0.85 and -0.85, otherwise assign the value of 0\n",
    "df_data_nv_a['accurate_prediction'] = np.where(\n",
    "    # Case 1: Comfortable when within range\n",
    "    ((df_data_nv_a['thermal_sensation'] >= -0.85) & \n",
    "     (df_data_nv_a['thermal_sensation'] <= 0.85) & \n",
    "     (df_data_nv_a['top'] >= df_data_nv_a['low_limit']) & \n",
    "     (df_data_nv_a['top'] <= df_data_nv_a['up_limit'])) |\n",
    "    # Case 2: Uncomfortable when out of range\n",
    "    ((df_data_nv_a['thermal_sensation'] < -0.85) | \n",
    "     (df_data_nv_a['thermal_sensation'] > 0.85)) & \n",
    "     ((df_data_nv_a['top'] < df_data_nv_a['low_limit']) | \n",
    "      (df_data_nv_a['top'] > df_data_nv_a['up_limit'])),\n",
    "    1,  # Accurate prediction\n",
    "    0)   # Inaccurate prediction\n",
    "# count the number of rows that have within_range == 1\n",
    "print('Prediction Accraucy: {:.0f} %'.format(len(df_data_nv_a[df_data_nv_a['accurate_prediction'] == 1])/len(df_data_nv_a)*100))\n",
    "\n",
    "# calculate the MSE and RMSE of the linear regression of n_temp_a on t_out_combined in df_ACM_op_NV_a\n",
    "# calculate the predicted n_temp_a\n",
    "df_ACM_op_NV_a['n_temp_a_predicted'] = temp_n_a_slope * df_ACM_op_NV_a['t_out_combined'] + temp_n_a_intercept\n",
    "# calculate the residuals_a\n",
    "df_ACM_op_NV_a['residuals_a'] = df_ACM_op_NV_a['temp_n_b'] - df_ACM_op_NV_a['n_temp_a_predicted']\n",
    "# calculate the squared residuals_a\n",
    "df_ACM_op_NV_a['squared_residuals_a'] = df_ACM_op_NV_a['residuals_a']**2\n",
    "# calculate the MSE\n",
    "MSE = df_ACM_op_NV_a['squared_residuals_a'].sum()/len(df_ACM_op_NV_a)\n",
    "print(\"******************************************************************************\")\n",
    "print('MSE: {:.2f}'.format(MSE))\n",
    "# calculate the RMSE\n",
    "RMSE = np.sqrt(MSE)\n",
    "print('RMSE: {:.2f}'.format(RMSE))"
   ]
  },
  {
   "cell_type": "code",
   "execution_count": 39,
   "metadata": {},
   "outputs": [],
   "source": [
    "#(Accuracy of mean TSV on 39 buildings)\n",
    "# df_ACM_op_NV_a['up_limit'] = temp_n_a_slope * df_ACM_op_NV_a['t_out_combined'] + temp_n_a_intercept + range_a/2\n",
    "# df_ACM_op_NV_a['low_limit'] = temp_n_a_slope * df_ACM_op_NV_a['t_out_combined'] + temp_n_a_intercept - range_a/2\n",
    "# # create a new column, for each row, assign the value of 1 if the top is within up_limit and low_limit when thermal_sensation is within +0.85 and -0.85, or the top is not within up_limit and low_limit when thermal_sensation is not within +0.85 and -0.85, otherwise assign the value of 0\n",
    "# df_ACM_op_NV_a['accurate_prediction'] = np.where(\n",
    "#     # Case 1: Comfortable when within range\n",
    "#     ((df_ACM_op_NV_a['thermal_sensation'] >= -0.85) & \n",
    "#      (df_ACM_op_NV_a['thermal_sensation'] <= 0.85) & \n",
    "#      (df_ACM_op_NV_a['top'] >= df_ACM_op_NV_a['low_limit']) & \n",
    "#      (df_ACM_op_NV_a['top'] <= df_ACM_op_NV_a['up_limit'])) |\n",
    "#     # Case 2: Uncomfortable when out of range\n",
    "#     ((df_ACM_op_NV_a['thermal_sensation'] < -0.85) | \n",
    "#      (df_ACM_op_NV_a['thermal_sensation'] > 0.85)) & \n",
    "#      ((df_ACM_op_NV_a['top'] < df_ACM_op_NV_a['low_limit']) | \n",
    "#       (df_ACM_op_NV_a['top'] > df_ACM_op_NV_a['up_limit'])),\n",
    "#     1,  # Accurate prediction\n",
    "#     0)   # Inaccurate prediction\n",
    "# # count the number of rows that have within_range == 1\n",
    "# len(df_ACM_op_NV_a[df_ACM_op_NV_a['accurate_prediction'] == 1])/len(df_ACM_op_NV_a)"
   ]
  },
  {
   "cell_type": "markdown",
   "metadata": {},
   "source": [
    "#### Approach (b)"
   ]
  },
  {
   "cell_type": "code",
   "execution_count": 72,
   "metadata": {},
   "outputs": [
    {
     "name": "stdout",
     "output_type": "stream",
     "text": [
      "p value 0.000\n",
      "                            WLS Regression Results                            \n",
      "==============================================================================\n",
      "Dep. Variable:               temp_n_b   R-squared:                       0.835\n",
      "Model:                            WLS   Adj. R-squared:                  0.831\n",
      "Method:                 Least Squares   F-statistic:                     187.4\n",
      "Date:                Fri, 12 Jan 2024   Prob (F-statistic):           4.67e-16\n",
      "Time:                        16:55:48   Log-Likelihood:                -73.198\n",
      "No. Observations:                  39   AIC:                             150.4\n",
      "Df Residuals:                      37   BIC:                             153.7\n",
      "Df Model:                           1                                         \n",
      "Covariance Type:            nonrobust                                         \n",
      "==================================================================================\n",
      "                     coef    std err          t      P>|t|      [0.025      0.975]\n",
      "----------------------------------------------------------------------------------\n",
      "const             13.5774      0.933     14.548      0.000      11.686      15.468\n",
      "t_out_combined     0.5526      0.040     13.690      0.000       0.471       0.634\n",
      "==============================================================================\n",
      "Omnibus:                        0.591   Durbin-Watson:                   1.132\n",
      "Prob(Omnibus):                  0.744   Jarque-Bera (JB):                0.667\n",
      "Skew:                          -0.074   Prob(JB):                        0.716\n",
      "Kurtosis:                       2.377   Cond. No.                         97.3\n",
      "==============================================================================\n",
      "\n",
      "Notes:\n",
      "[1] Standard Errors assume that the covariance matrix of the errors is correctly specified.\n",
      "******************************************************************************\n",
      "ACM_NV regression line slope: 0.55\n",
      "ACM_NV regression line slope: 13.58\n",
      "ACM_NV comfort zone: 1.80\n"
     ]
    }
   ],
   "source": [
    "# conduct weighted ACM_NV regression line based on approach (b)\n",
    "temp_n_b_intercept, temp_n_b_slope = weighted_regression(df_ACM_op_NV_b['t_out_combined'], df_ACM_op_NV_b['temp_n_b'], df_ACM_op_NV_b['records'])\n",
    "# print the fitted line slope and intercept\n",
    "print(\"******************************************************************************\")\n",
    "print('ACM_NV regression line slope: {:.2f}'.format(temp_n_b_slope))\n",
    "print('ACM_NV regression line slope: {:.2f}'.format(temp_n_b_intercept))\n",
    "\n",
    "# calculate the mean comfort zone\n",
    "range_b = df_ACM_op_NV_b['temp_up_b'].mean() - df_ACM_op_NV_b['temp_low_b'].mean()\n",
    "print('ACM_NV comfort zone: {:.2f}'.format(range_b))"
   ]
  },
  {
   "cell_type": "code",
   "execution_count": 73,
   "metadata": {},
   "outputs": [
    {
     "data": {
      "image/png": "[encoded data removed]",
      "text/plain": [
       "<Figure size 720x504 with 1 Axes>"
      ]
     },
     "metadata": {
      "needs_background": "light"
     },
     "output_type": "display_data"
    }
   ],
   "source": [
    "# sort the data points by t_out_combined\n",
    "t_out_combined = np.array(df_ACM_op_NV_b['t_out_combined'])\n",
    "sort_index = np.argsort(t_out_combined)\n",
    "t_out_combined = t_out_combined[sort_index]\n",
    "up_line = temp_n_b_slope * t_out_combined + temp_n_b_intercept + range_b/2\n",
    "low_line = temp_n_b_slope * t_out_combined + temp_n_b_intercept - range_b/2\n",
    "middle_line = temp_n_b_slope * t_out_combined + temp_n_b_intercept\n",
    "\n",
    "# plot data points\n",
    "plt.figure(figsize=(10, 7))\n",
    "plt.plot(t_out_combined, middle_line, color='black', linewidth=4)\n",
    "sns.regplot(x='t_out_combined', y='temp_n_b', data=df_ACM_op_NV_b, fit_reg=False, scatter_kws={'color': 'green'})\n",
    "plt.plot(t_out_combined, up_line, color='black', linewidth=2, linestyle='--', dashes=(5, 5))\n",
    "plt.plot(t_out_combined, low_line, color='black', linewidth=2, linestyle='--', dashes=(5, 5))\n",
    "plt.xlabel('', fontsize=40)\n",
    "plt.ylabel('', fontsize=40)\n",
    "plt.xticks(fontsize=40)\n",
    "plt.yticks(fontsize=40)\n",
    "plt.xlim(10, 35)\n",
    "plt.ylim(17, 32)\n",
    "plt.grid(False)\n",
    "plt.rcParams['font.family'] = 'Times New Roman'\n",
    "# plt.savefig('figs/ACM_NV_neutral_b.pdf', format='pdf', bbox_inches='tight')"
   ]
  },
  {
   "cell_type": "markdown",
   "metadata": {},
   "source": [
    "Accuracy"
   ]
  },
  {
   "cell_type": "code",
   "execution_count": 74,
   "metadata": {},
   "outputs": [
    {
     "name": "stdout",
     "output_type": "stream",
     "text": [
      "Prediction Accraucy: 56 %\n",
      "******************************************************************************\n",
      "MSE: 2.56\n",
      "RMSE: 1.60\n"
     ]
    },
    {
     "name": "stderr",
     "output_type": "stream",
     "text": [
      "<ipython-input-74-28d77316d94d>:24: SettingWithCopyWarning: \n",
      "A value is trying to be set on a copy of a slice from a DataFrame.\n",
      "Try using .loc[row_indexer,col_indexer] = value instead\n",
      "\n",
      "See the caveats in the documentation: https://pandas.pydata.org/pandas-docs/stable/user_guide/indexing.html#returning-a-view-versus-a-copy\n",
      "  df_ACM_op_NV_b['n_temp_b_predicted'] = temp_n_b_slope * df_ACM_op_NV_b['t_out_combined'] + temp_n_b_intercept\n",
      "<ipython-input-74-28d77316d94d>:26: SettingWithCopyWarning: \n",
      "A value is trying to be set on a copy of a slice from a DataFrame.\n",
      "Try using .loc[row_indexer,col_indexer] = value instead\n",
      "\n",
      "See the caveats in the documentation: https://pandas.pydata.org/pandas-docs/stable/user_guide/indexing.html#returning-a-view-versus-a-copy\n",
      "  df_ACM_op_NV_b['residuals_b'] = df_ACM_op_NV_b['temp_n_b'] - df_ACM_op_NV_b['n_temp_b_predicted']\n",
      "<ipython-input-74-28d77316d94d>:28: SettingWithCopyWarning: \n",
      "A value is trying to be set on a copy of a slice from a DataFrame.\n",
      "Try using .loc[row_indexer,col_indexer] = value instead\n",
      "\n",
      "See the caveats in the documentation: https://pandas.pydata.org/pandas-docs/stable/user_guide/indexing.html#returning-a-view-versus-a-copy\n",
      "  df_ACM_op_NV_b['squared_residuals_b'] = df_ACM_op_NV_b['residuals_b']**2\n"
     ]
    }
   ],
   "source": [
    "# create a new dataframe from df_data, that has all building id in df_bldg_nv_b\n",
    "df_data_nv_b = df_data_1[df_data_1['building_id'].isin(df_ACM_op_NV_b['building_id'])].copy()\n",
    "df_data_nv_b['up_limit'] = temp_n_b_slope * df_data_nv_b['t_out_combined'] + temp_n_b_intercept + range_b/2\n",
    "df_data_nv_b['low_limit'] = temp_n_b_slope * df_data_nv_b['t_out_combined'] + temp_n_b_intercept - range_b/2\n",
    "# create a new column, for each row, assign the value of 1 if the top is within up_limit and low_limit when thermal_sensation is within +0.85 and -0.85, or the top is not within up_limit and low_limit when thermal_sensation is not within +0.85 and -0.85, otherwise assign the value of 0\n",
    "df_data_nv_b['accurate_prediction'] = np.where(\n",
    "    # Case 1: Comfortable when within range\n",
    "    ((df_data_nv_b['thermal_sensation'] >= -0.85) & \n",
    "     (df_data_nv_b['thermal_sensation'] <= 0.85) & \n",
    "     (df_data_nv_b['top'] >= df_data_nv_b['low_limit']) & \n",
    "     (df_data_nv_b['top'] <= df_data_nv_b['up_limit'])) |\n",
    "    # Case 2: Uncomfortable when out of range\n",
    "    ((df_data_nv_b['thermal_sensation'] < -0.85) | \n",
    "     (df_data_nv_b['thermal_sensation'] > 0.85)) & \n",
    "     ((df_data_nv_b['top'] < df_data_nv_b['low_limit']) | \n",
    "      (df_data_nv_b['top'] > df_data_nv_b['up_limit'])),\n",
    "    1,  # Accurate prediction\n",
    "    0)   # Inaccurate prediction\n",
    "# count the number of rows that have within_range == 1\n",
    "print('Prediction Accraucy: {:.0f} %'.format(len(df_data_nv_b[df_data_nv_b['accurate_prediction'] == 1])/len(df_data_nv_b)*100))\n",
    "\n",
    "# calculate the MSE and RMSE of the linear regression of n_temp_b on t_out_combined in df_ACM_op_NV_b\n",
    "# calculate the predicted n_temp_b\n",
    "df_ACM_op_NV_b['n_temp_b_predicted'] = temp_n_b_slope * df_ACM_op_NV_b['t_out_combined'] + temp_n_b_intercept\n",
    "# calculate the residuals_b\n",
    "df_ACM_op_NV_b['residuals_b'] = df_ACM_op_NV_b['temp_n_b'] - df_ACM_op_NV_b['n_temp_b_predicted']\n",
    "# calculate the squared residuals_b\n",
    "df_ACM_op_NV_b['squared_residuals_b'] = df_ACM_op_NV_b['residuals_b']**2\n",
    "# calculate the MSE\n",
    "MSE = df_ACM_op_NV_b['squared_residuals_b'].sum()/len(df_ACM_op_NV_b)\n",
    "print(\"******************************************************************************\")\n",
    "print('MSE: {:.2f}'.format(MSE))\n",
    "# calculate the RMSE\n",
    "RMSE = np.sqrt(MSE)\n",
    "print('RMSE: {:.2f}'.format(RMSE))\n"
   ]
  },
  {
   "cell_type": "markdown",
   "metadata": {},
   "source": [
    "Accuracy(ASHRAE ACM)"
   ]
  },
  {
   "cell_type": "code",
   "execution_count": 20,
   "metadata": {},
   "outputs": [
    {
     "data": {
      "text/plain": [
       "0.5688814598133445"
      ]
     },
     "execution_count": 20,
     "metadata": {},
     "output_type": "execute_result"
    }
   ],
   "source": [
    "range_ASHRAE = 7\n",
    "temp_n_ASHRAE_slope = 0.31\n",
    "temp_n_ASHRAE_intercept = 17.8\n",
    "# create a new dataframe from df_data, that has all building id in df_bldg_nv_b\n",
    "df_data_nv_b = df_data_1[df_data_1['building_id'].isin(df_ACM_op_NV_b['building_id'])].copy()\n",
    "df_data_nv_b['up_limit'] = temp_n_ASHRAE_slope * df_data_nv_b['t_out_combined'] + temp_n_ASHRAE_intercept + range_ASHRAE/2\n",
    "df_data_nv_b['low_limit'] = temp_n_ASHRAE_slope * df_data_nv_b['t_out_combined'] + temp_n_ASHRAE_intercept - range_ASHRAE/2\n",
    "# create a new column, for each row, assign the value of 1 if the top is within up_limit and low_limit when thermal_sensation is within +0.85 and -0.85, or the top is not within up_limit and low_limit when thermal_sensation is not within +0.85 and -0.85, otherwise assign the value of 0\n",
    "df_data_nv_b['accurate_prediction'] = np.where(\n",
    "    # Case 1: Comfortable when within range\n",
    "    ((df_data_nv_b['thermal_sensation'] >= -0.85) & \n",
    "     (df_data_nv_b['thermal_sensation'] <= 0.85) & \n",
    "     (df_data_nv_b['top'] >= df_data_nv_b['low_limit']) & \n",
    "     (df_data_nv_b['top'] <= df_data_nv_b['up_limit'])) |\n",
    "    # Case 2: Uncomfortable when out of range\n",
    "    ((df_data_nv_b['thermal_sensation'] < -0.85) | \n",
    "     (df_data_nv_b['thermal_sensation'] > 0.85)) & \n",
    "     ((df_data_nv_b['top'] < df_data_nv_b['low_limit']) | \n",
    "      (df_data_nv_b['top'] > df_data_nv_b['up_limit'])),\n",
    "    1,  # Accurate prediction\n",
    "    0)   # Inaccurate prediction\n",
    "# count the number of rows that have within_range == 1\n",
    "len(df_data_nv_b[df_data_nv_b['accurate_prediction'] == 1])/len(df_data_nv_b)"
   ]
  },
  {
   "cell_type": "code",
   "execution_count": 38,
   "metadata": {},
   "outputs": [],
   "source": [
    "# (Accuracy on mean TSV)\n",
    "# df_ACM_op_NV_b['up_limit'] = temp_n_b_slope * df_ACM_op_NV_b['t_out_combined'] + temp_n_b_intercept + range_b/2\n",
    "# df_ACM_op_NV_b['low_limit'] = temp_n_b_slope * df_ACM_op_NV_b['t_out_combined'] + temp_n_b_intercept - range_b/2\n",
    "# # create a new column, for each row, assign the value of 1 if the top is within up_limit and low_limit when thermal_sensation is within +0.85 and -0.85, or the top is not within up_limit and low_limit when thermal_sensation is not within +0.85 and -0.85, otherwise assign the value of 0\n",
    "# df_ACM_op_NV_b['accurate_prediction'] = np.where(\n",
    "#     # Case 1: Comfortable when within range\n",
    "#     ((df_ACM_op_NV_b['thermal_sensation'] >= -0.85) & \n",
    "#      (df_ACM_op_NV_b['thermal_sensation'] <= 0.85) & \n",
    "#      (df_ACM_op_NV_b['top'] >= df_ACM_op_NV_b['low_limit']) & \n",
    "#      (df_ACM_op_NV_b['top'] <= df_ACM_op_NV_b['up_limit'])) |\n",
    "#     # Case 2: Uncomfortable when out of range\n",
    "#     ((df_ACM_op_NV_b['thermal_sensation'] < -0.85) | \n",
    "#      (df_ACM_op_NV_b['thermal_sensation'] > 0.85)) & \n",
    "#      ((df_ACM_op_NV_b['top'] < df_ACM_op_NV_b['low_limit']) | \n",
    "#       (df_ACM_op_NV_b['top'] > df_ACM_op_NV_b['up_limit'])),\n",
    "#     1,  # Accurate prediction\n",
    "#     0)   # Inaccurate prediction\n",
    "# # count the number of rows that have within_range == 1\n",
    "# len(df_ACM_op_NV_b[df_ACM_op_NV_b['accurate_prediction'] == 1])/len(df_ACM_op_NV_b)"
   ]
  },
  {
   "cell_type": "markdown",
   "metadata": {},
   "source": [
    "## Use a new metric SET to represent the indoor temperature"
   ]
  },
  {
   "cell_type": "code",
   "execution_count": 286,
   "metadata": {},
   "outputs": [],
   "source": [
    "# # Keep rows that simultaneously have data for all variables in cols\n",
    "# cols_2 = ['t_out_combined', 'set','thermal_sensation']\n",
    "# df_data_2 = filter(df_rawdata, cols_2).copy()\n",
    "\n",
    "# # Define the columns for which you want to calculate the mean\n",
    "# mean_cols = ['t_out_combined']\n",
    "# # Group by 'building_id' and calculate the mean for all these columns at once\n",
    "# df_means = df_data_2.groupby('building_id')[mean_cols].mean()\n",
    "# # Reset the index of df_means to make 'building_id' a column again\n",
    "# df_means.reset_index(inplace=True)"
   ]
  },
  {
   "cell_type": "markdown",
   "metadata": {},
   "source": [
    "### A new dataframe with each building as a row"
   ]
  },
  {
   "cell_type": "code",
   "execution_count": 40,
   "metadata": {},
   "outputs": [],
   "source": [
    "df_data_2 = df_data_1\n",
    "\n",
    "# Define the columns for which you want to calculate the mean\n",
    "mean_cols = ['t_out_combined']\n",
    "\n",
    "# Group by 'building_id' and calculate the mean for all these columns at once\n",
    "df_means = df_data_2.groupby('building_id')[mean_cols].mean()\n",
    "\n",
    "# Reset the index of df_means to make 'building_id' a column again\n",
    "df_means.reset_index(inplace=True)\n",
    "\n",
    "# Merge df_means with the metadata\n",
    "df_bldg_2 = df_means.merge(df_meta[['building_id', 'records', 'cooling_type', 'building_type', 'database']], on='building_id', how='left')\n",
    "\n",
    "# Reset the building cooling type as string\n",
    "df_bldg_2['cooling_type'] = df_bldg_2['cooling_type'].str.title()"
   ]
  },
  {
   "cell_type": "markdown",
   "metadata": {},
   "source": [
    "### Estimate neutral temperature (SET) for each single building"
   ]
  },
  {
   "cell_type": "code",
   "execution_count": 41,
   "metadata": {},
   "outputs": [
    {
     "data": {
      "text/html": [
       "<div>\n",
       "<style scoped>\n",
       "    .dataframe tbody tr th:only-of-type {\n",
       "        vertical-align: middle;\n",
       "    }\n",
       "\n",
       "    .dataframe tbody tr th {\n",
       "        vertical-align: top;\n",
       "    }\n",
       "\n",
       "    .dataframe thead th {\n",
       "        text-align: right;\n",
       "    }\n",
       "</style>\n",
       "<table border=\"1\" class=\"dataframe\">\n",
       "  <thead>\n",
       "    <tr style=\"text-align: right;\">\n",
       "      <th></th>\n",
       "      <th>building_id</th>\n",
       "      <th>t_out_combined</th>\n",
       "      <th>records</th>\n",
       "      <th>cooling_type</th>\n",
       "      <th>building_type</th>\n",
       "      <th>database</th>\n",
       "      <th>slope_a</th>\n",
       "      <th>slope_b</th>\n",
       "      <th>intercept_a</th>\n",
       "      <th>intercept_b</th>\n",
       "      <th>temp_n_a</th>\n",
       "      <th>temp_n_b</th>\n",
       "      <th>temp_up_a</th>\n",
       "      <th>temp_up_b</th>\n",
       "      <th>temp_low_a</th>\n",
       "      <th>temp_low_b</th>\n",
       "    </tr>\n",
       "  </thead>\n",
       "  <tbody>\n",
       "    <tr>\n",
       "      <th>0</th>\n",
       "      <td>1</td>\n",
       "      <td>15.560695</td>\n",
       "      <td>170</td>\n",
       "      <td>Mixed Mode</td>\n",
       "      <td>office</td>\n",
       "      <td>1.0</td>\n",
       "      <td>0.291385</td>\n",
       "      <td>0.872775</td>\n",
       "      <td>-6.755008</td>\n",
       "      <td>24.876473</td>\n",
       "      <td>23.182414</td>\n",
       "      <td>24.876473</td>\n",
       "      <td>26.099516</td>\n",
       "      <td>25.618332</td>\n",
       "      <td>20.265312</td>\n",
       "      <td>24.134614</td>\n",
       "    </tr>\n",
       "    <tr>\n",
       "      <th>1</th>\n",
       "      <td>2</td>\n",
       "      <td>13.995833</td>\n",
       "      <td>83</td>\n",
       "      <td>Air Conditioned</td>\n",
       "      <td>office</td>\n",
       "      <td>1.0</td>\n",
       "      <td>NaN</td>\n",
       "      <td>NaN</td>\n",
       "      <td>NaN</td>\n",
       "      <td>NaN</td>\n",
       "      <td>NaN</td>\n",
       "      <td>NaN</td>\n",
       "      <td>NaN</td>\n",
       "      <td>NaN</td>\n",
       "      <td>NaN</td>\n",
       "      <td>NaN</td>\n",
       "    </tr>\n",
       "    <tr>\n",
       "      <th>2</th>\n",
       "      <td>3</td>\n",
       "      <td>0.583480</td>\n",
       "      <td>85</td>\n",
       "      <td>Air Conditioned</td>\n",
       "      <td>office</td>\n",
       "      <td>1.0</td>\n",
       "      <td>NaN</td>\n",
       "      <td>NaN</td>\n",
       "      <td>NaN</td>\n",
       "      <td>NaN</td>\n",
       "      <td>NaN</td>\n",
       "      <td>NaN</td>\n",
       "      <td>NaN</td>\n",
       "      <td>NaN</td>\n",
       "      <td>NaN</td>\n",
       "      <td>NaN</td>\n",
       "    </tr>\n",
       "    <tr>\n",
       "      <th>3</th>\n",
       "      <td>4</td>\n",
       "      <td>19.225391</td>\n",
       "      <td>137</td>\n",
       "      <td>Mixed Mode</td>\n",
       "      <td>office</td>\n",
       "      <td>1.0</td>\n",
       "      <td>0.211156</td>\n",
       "      <td>0.483831</td>\n",
       "      <td>-5.026896</td>\n",
       "      <td>24.128114</td>\n",
       "      <td>23.806534</td>\n",
       "      <td>24.128114</td>\n",
       "      <td>27.831991</td>\n",
       "      <td>24.539370</td>\n",
       "      <td>19.781077</td>\n",
       "      <td>23.716858</td>\n",
       "    </tr>\n",
       "    <tr>\n",
       "      <th>4</th>\n",
       "      <td>5</td>\n",
       "      <td>9.048210</td>\n",
       "      <td>128</td>\n",
       "      <td>Air Conditioned</td>\n",
       "      <td>office</td>\n",
       "      <td>1.0</td>\n",
       "      <td>NaN</td>\n",
       "      <td>NaN</td>\n",
       "      <td>NaN</td>\n",
       "      <td>NaN</td>\n",
       "      <td>NaN</td>\n",
       "      <td>NaN</td>\n",
       "      <td>NaN</td>\n",
       "      <td>NaN</td>\n",
       "      <td>NaN</td>\n",
       "      <td>NaN</td>\n",
       "    </tr>\n",
       "  </tbody>\n",
       "</table>\n",
       "</div>"
      ],
      "text/plain": [
       "   building_id  t_out_combined  records     cooling_type building_type  \\\n",
       "0            1       15.560695      170       Mixed Mode        office   \n",
       "1            2       13.995833       83  Air Conditioned        office   \n",
       "2            3        0.583480       85  Air Conditioned        office   \n",
       "3            4       19.225391      137       Mixed Mode        office   \n",
       "4            5        9.048210      128  Air Conditioned        office   \n",
       "\n",
       "   database   slope_a   slope_b  intercept_a  intercept_b   temp_n_a  \\\n",
       "0       1.0  0.291385  0.872775    -6.755008    24.876473  23.182414   \n",
       "1       1.0       NaN       NaN          NaN          NaN        NaN   \n",
       "2       1.0       NaN       NaN          NaN          NaN        NaN   \n",
       "3       1.0  0.211156  0.483831    -5.026896    24.128114  23.806534   \n",
       "4       1.0       NaN       NaN          NaN          NaN        NaN   \n",
       "\n",
       "    temp_n_b  temp_up_a  temp_up_b  temp_low_a  temp_low_b  \n",
       "0  24.876473  26.099516  25.618332   20.265312   24.134614  \n",
       "1        NaN        NaN        NaN         NaN         NaN  \n",
       "2        NaN        NaN        NaN         NaN         NaN  \n",
       "3  24.128114  27.831991  24.539370   19.781077   23.716858  \n",
       "4        NaN        NaN        NaN         NaN         NaN  "
      ]
     },
     "execution_count": 41,
     "metadata": {},
     "output_type": "execute_result"
    }
   ],
   "source": [
    "# store regression results as columns\n",
    "columns_name = ['slope', 'intercept', 'temp_n', 'temp_up', 'temp_low']\n",
    "\n",
    "# calculate regression results for each building\n",
    "for i in range(5):\n",
    "    column = columns_name[i]+\"_a\"\n",
    "    df_bldg_2[column] = df_data_2.groupby('building_id').apply(lambda x: approach_SET_a(x)[i] if approach_SET_a(x) is not np.nan else np.nan).reset_index(level=0, drop=True)\n",
    "    column = columns_name[i]+\"_b\"\n",
    "    df_bldg_2[column] = df_data_2.groupby('building_id').apply(lambda x: approach_SET_b(x)[i] if approach_SET_b(x) is not np.nan else np.nan).reset_index(level=0, drop=True)\n",
    "\n",
    "df_bldg_2.head()"
   ]
  },
  {
   "cell_type": "markdown",
   "metadata": {},
   "source": [
    "### Filter out non-significant regression results"
   ]
  },
  {
   "cell_type": "code",
   "execution_count": 42,
   "metadata": {},
   "outputs": [
    {
     "name": "stdout",
     "output_type": "stream",
     "text": [
      "Total buildings: 518\n",
      "Total NV buildings: 197\n",
      "Total AC buildings: 153\n",
      "******************************************************************************\n",
      "Approach (a)\n",
      "Total signficant buildings: 134\n",
      "Total signficant NV buildings: 58\n",
      "Total signficant NV office buildings: 35\n",
      "Total signficant AC buildings: 39\n",
      "Total signficant AC office buildings: 39\n",
      "******************************************************************************\n",
      "Approach (b)\n",
      "Total signficant buildings: 144\n",
      "Total signficant NV buildings: 64\n",
      "Total signficant NV office buildings: 35\n",
      "Total signficant AC buildings: 39\n",
      "Total signficant AC office buildings: 39\n"
     ]
    }
   ],
   "source": [
    "# number of all buildings\n",
    "print('Total buildings:', len(df_bldg_2))\n",
    "print(\"Total NV buildings:\", len(df_bldg_2[df_bldg_2['cooling_type'] == 'Naturally Ventilated']))\n",
    "print(\"Total AC buildings:\", len(df_bldg_2[df_bldg_2['cooling_type'] == 'Air Conditioned']))\n",
    "\n",
    "# get rid of all nan values in the temp_n_a column\n",
    "df_bldg_2_sig_a = df_bldg_2[~df_bldg_2['temp_n_a'].isna()]\n",
    "df_bldg_2_NV_a = df_bldg_2_sig_a[df_bldg_2_sig_a['cooling_type'] == 'Naturally Ventilated']\n",
    "df_bldg_2_AC_a = df_bldg_2_sig_a[df_bldg_2_sig_a['cooling_type'] == 'Air Conditioned']\n",
    "df_bldg_2_office_NV_a = df_bldg_2_NV_a[df_bldg_2_NV_a['building_type'] == 'office'].copy()\n",
    "df_bldg_2_office_AC_a = df_bldg_2_AC_a[df_bldg_2_AC_a['building_type'] == 'office'].copy()\n",
    "\n",
    "print(\"******************************************************************************\")\n",
    "print('Approach (a)')\n",
    "print('Total signficant buildings:', len(df_bldg_2_sig_a))\n",
    "print('Total signficant NV buildings:', len(df_bldg_2_NV_a))\n",
    "print('Total signficant NV office buildings:', len(df_bldg_2_office_NV_a))\n",
    "print('Total signficant AC buildings:', len(df_bldg_2_AC_a))\n",
    "print('Total signficant AC office buildings:', len(df_bldg_2_office_AC_a))\n",
    "\n",
    "\n",
    "# get rid of all nan values in the temp_n_a column\n",
    "df_bldg_2_sig_b = df_bldg_2[~df_bldg_2['temp_n_b'].isna()]\n",
    "df_bldg_2_NV_b = df_bldg_2_sig_b[df_bldg_2_sig_b['cooling_type'] == 'Naturally Ventilated']\n",
    "df_bldg_2_AC_b = df_bldg_2_sig_b[df_bldg_2_sig_b['cooling_type'] == 'Air Conditioned']\n",
    "df_bldg_2_office_AC_b = df_bldg_2_AC_b[df_bldg_2_AC_b['building_type'] == 'office'].copy()\n",
    "df_bldg_2_office_NV_b = df_bldg_2_NV_b[df_bldg_2_NV_b['building_type'] == 'office'].copy()\n",
    "\n",
    "print(\"******************************************************************************\")\n",
    "print('Approach (b)')\n",
    "print('Total signficant buildings:', len(df_bldg_2_sig_b))\n",
    "print('Total signficant NV buildings:', len(df_bldg_2_NV_b))\n",
    "print('Total signficant NV office buildings:', len(df_bldg_2_office_NV_b))\n",
    "print('Total signficant AC buildings:', len(df_bldg_2_AC_b))\n",
    "print('Total signficant AC office buildings:', len(df_bldg_2_office_AC_b))"
   ]
  },
  {
   "cell_type": "markdown",
   "metadata": {},
   "source": [
    "### ACM (SET) for all NV offices"
   ]
  },
  {
   "cell_type": "code",
   "execution_count": 75,
   "metadata": {},
   "outputs": [
    {
     "name": "stdout",
     "output_type": "stream",
     "text": [
      "Total buildings for Approach (a) ACM_NV: 34\n",
      "Total buildings for Approach (b) ACM_NV: 34\n"
     ]
    }
   ],
   "source": [
    "# only keep buildings with 10 < t_out_combined < 33.5\n",
    "df_ACM_SET_NV_a = df_bldg_2_office_NV_a[(df_bldg_2_office_NV_a['t_out_combined'] >= 10) & (df_bldg_2_office_NV_a['t_out_combined'] <= 33.5)]\n",
    "df_ACM_SET_NV_b = df_bldg_2_office_NV_b[(df_bldg_2_office_NV_b['t_out_combined'] >= 10) & (df_bldg_2_office_NV_b['t_out_combined'] <= 33.5)]\n",
    "print(\"Total buildings for Approach (a) ACM_NV:\", len(df_ACM_SET_NV_a))\n",
    "print(\"Total buildings for Approach (b) ACM_NV:\", len(df_ACM_SET_NV_b))"
   ]
  },
  {
   "cell_type": "markdown",
   "metadata": {},
   "source": [
    "####  Approach (a)"
   ]
  },
  {
   "cell_type": "code",
   "execution_count": 76,
   "metadata": {},
   "outputs": [
    {
     "name": "stdout",
     "output_type": "stream",
     "text": [
      "p value 0.357\n",
      "                            WLS Regression Results                            \n",
      "==============================================================================\n",
      "Dep. Variable:               temp_n_a   R-squared:                       0.027\n",
      "Model:                            WLS   Adj. R-squared:                 -0.004\n",
      "Method:                 Least Squares   F-statistic:                    0.8736\n",
      "Date:                Fri, 12 Jan 2024   Prob (F-statistic):              0.357\n",
      "Time:                        16:57:07   Log-Likelihood:                -100.02\n",
      "No. Observations:                  34   AIC:                             204.0\n",
      "Df Residuals:                      32   BIC:                             207.1\n",
      "Df Model:                           1                                         \n",
      "Covariance Type:            nonrobust                                         \n",
      "==================================================================================\n",
      "                     coef    std err          t      P>|t|      [0.025      0.975]\n",
      "----------------------------------------------------------------------------------\n",
      "const             26.6438      3.332      7.997      0.000      19.857      33.430\n",
      "t_out_combined    -0.1300      0.139     -0.935      0.357      -0.413       0.153\n",
      "==============================================================================\n",
      "Omnibus:                        2.350   Durbin-Watson:                   1.285\n",
      "Prob(Omnibus):                  0.309   Jarque-Bera (JB):                1.280\n",
      "Skew:                           0.073   Prob(JB):                        0.527\n",
      "Kurtosis:                       3.939   Cond. No.                         113.\n",
      "==============================================================================\n",
      "\n",
      "Notes:\n",
      "[1] Standard Errors assume that the covariance matrix of the errors is correctly specified.\n",
      "******************************************************************************\n",
      "ACM regression line slope: -0.13\n",
      "ACM regression line slope: 26.64\n",
      "ACM comfort zone: 13.21\n"
     ]
    }
   ],
   "source": [
    "# conduct weighted ACM regression line based on approach (a)\n",
    "temp_n_a_intercept, temp_n_a_slope = weighted_regression(df_ACM_SET_NV_a['t_out_combined'], df_ACM_SET_NV_a['temp_n_a'], df_ACM_SET_NV_a['records'])\n",
    "# print the fitted line slope and intercept\n",
    "print(\"******************************************************************************\")\n",
    "print('ACM regression line slope: {:.2f}'.format(temp_n_a_slope))\n",
    "print('ACM regression line slope: {:.2f}'.format(temp_n_a_intercept))\n",
    "\n",
    "# calculate the mean comfort zone\n",
    "range_a = df_ACM_SET_NV_a['temp_up_a'].mean() - df_ACM_SET_NV_a['temp_low_a'].mean()\n",
    "print('ACM comfort zone: {:.2f}'.format(range_a))"
   ]
  },
  {
   "cell_type": "code",
   "execution_count": 77,
   "metadata": {},
   "outputs": [
    {
     "data": {
      "image/png": "[encoded data removed]",
      "text/plain": [
       "<Figure size 720x504 with 1 Axes>"
      ]
     },
     "metadata": {
      "needs_background": "light"
     },
     "output_type": "display_data"
    }
   ],
   "source": [
    "# sort the data points by t_out_combined\n",
    "t_out_combined = np.array(df_ACM_SET_NV_a['t_out_combined'])\n",
    "sort_index = np.argsort(t_out_combined)\n",
    "t_out_combined = t_out_combined[sort_index]\n",
    "up_line = temp_n_a_slope * t_out_combined + temp_n_a_intercept + range_a/2\n",
    "low_line = temp_n_a_slope * t_out_combined + temp_n_a_intercept - range_a/2\n",
    "middle_line = temp_n_a_slope * t_out_combined + temp_n_a_intercept\n",
    "\n",
    "# plot data points\n",
    "plt.figure(figsize=(10, 7))\n",
    "plt.plot(t_out_combined, middle_line, color='black', linewidth=4)\n",
    "sns.regplot(x='t_out_combined', y='temp_n_a', data=df_ACM_SET_NV_a, fit_reg=False, scatter_kws={'color': 'green'})\n",
    "plt.plot(t_out_combined, up_line, color='black', linewidth=2, linestyle='--', dashes=(5, 5))\n",
    "plt.plot(t_out_combined, low_line, color='black', linewidth=2, linestyle='--', dashes=(5, 5))\n",
    "plt.xlabel('', fontsize=40)\n",
    "plt.ylabel('', fontsize=40)\n",
    "plt.xticks(fontsize=40)\n",
    "plt.yticks(fontsize=40)\n",
    "plt.xlim(10, 35)\n",
    "plt.ylim(15, 33)\n",
    "plt.grid(False)\n",
    "plt.rcParams['font.family'] = 'Times New Roman'\n",
    "# plt.savefig('figs/ACM_NV_neutral_a.pdf', format='pdf', bbox_inches='tight')"
   ]
  },
  {
   "cell_type": "markdown",
   "metadata": {},
   "source": [
    "Accuracy"
   ]
  },
  {
   "cell_type": "code",
   "execution_count": 78,
   "metadata": {},
   "outputs": [
    {
     "name": "stdout",
     "output_type": "stream",
     "text": [
      "Prediction Accraucy: 59 %\n",
      "******************************************************************************\n",
      "MSE: 14.58\n",
      "RMSE: 3.82\n"
     ]
    },
    {
     "name": "stderr",
     "output_type": "stream",
     "text": [
      "<ipython-input-78-9d802c89875e>:24: SettingWithCopyWarning: \n",
      "A value is trying to be set on a copy of a slice from a DataFrame.\n",
      "Try using .loc[row_indexer,col_indexer] = value instead\n",
      "\n",
      "See the caveats in the documentation: https://pandas.pydata.org/pandas-docs/stable/user_guide/indexing.html#returning-a-view-versus-a-copy\n",
      "  df_ACM_SET_NV_a['n_temp_a_predicted'] = temp_n_a_slope * df_ACM_SET_NV_a['t_out_combined'] + temp_n_a_intercept\n",
      "<ipython-input-78-9d802c89875e>:26: SettingWithCopyWarning: \n",
      "A value is trying to be set on a copy of a slice from a DataFrame.\n",
      "Try using .loc[row_indexer,col_indexer] = value instead\n",
      "\n",
      "See the caveats in the documentation: https://pandas.pydata.org/pandas-docs/stable/user_guide/indexing.html#returning-a-view-versus-a-copy\n",
      "  df_ACM_SET_NV_a['residuals_a'] = df_ACM_SET_NV_a['temp_n_b'] - df_ACM_SET_NV_a['n_temp_a_predicted']\n",
      "<ipython-input-78-9d802c89875e>:28: SettingWithCopyWarning: \n",
      "A value is trying to be set on a copy of a slice from a DataFrame.\n",
      "Try using .loc[row_indexer,col_indexer] = value instead\n",
      "\n",
      "See the caveats in the documentation: https://pandas.pydata.org/pandas-docs/stable/user_guide/indexing.html#returning-a-view-versus-a-copy\n",
      "  df_ACM_SET_NV_a['squared_residuals_a'] = df_ACM_SET_NV_a['residuals_a']**2\n"
     ]
    }
   ],
   "source": [
    "# create a new dataframe from df_data, that has all building id in df_bldg_nv_a\n",
    "df_data_nv_a = df_data_2[df_data_2['building_id'].isin(df_ACM_SET_NV_a['building_id'])].copy()\n",
    "df_data_nv_a['up_limit'] = temp_n_a_slope * df_data_nv_a['t_out_combined'] + temp_n_a_intercept + range_a/2\n",
    "df_data_nv_a['low_limit'] = temp_n_a_slope * df_data_nv_a['t_out_combined'] + temp_n_a_intercept - range_a/2\n",
    "# create a new column, for each row, assign the value of 1 if the top is within up_limit and low_limit when thermal_sensation is within +0.85 and -0.85, or the top is not within up_limit and low_limit when thermal_sensation is not within +0.85 and -0.85, otherwise assign the value of 0\n",
    "df_data_nv_a['accurate_prediction'] = np.where(\n",
    "    # Case 1: Comfortable when within range\n",
    "    ((df_data_nv_a['thermal_sensation'] >= -0.85) & \n",
    "     (df_data_nv_a['thermal_sensation'] <= 0.85) & \n",
    "     (df_data_nv_a['top'] >= df_data_nv_a['low_limit']) & \n",
    "     (df_data_nv_a['top'] <= df_data_nv_a['up_limit'])) |\n",
    "    # Case 2: Uncomfortable when out of range\n",
    "    ((df_data_nv_a['thermal_sensation'] < -0.85) | \n",
    "     (df_data_nv_a['thermal_sensation'] > 0.85)) & \n",
    "     ((df_data_nv_a['top'] < df_data_nv_a['low_limit']) | \n",
    "      (df_data_nv_a['top'] > df_data_nv_a['up_limit'])),\n",
    "    1,  # Accurate prediction\n",
    "    0)   # Inaccurate prediction\n",
    "# count the number of rows that have within_range == 1\n",
    "print('Prediction Accraucy: {:.0f} %'.format(len(df_data_nv_a[df_data_nv_a['accurate_prediction'] == 1])/len(df_data_nv_a)*100))\n",
    "\n",
    "# calculate the MSE and RMSE of the linear regression of n_temp_a on t_out_combined in df_ACM_SET_NV_a\n",
    "# calculate the predicted n_temp_a\n",
    "df_ACM_SET_NV_a['n_temp_a_predicted'] = temp_n_a_slope * df_ACM_SET_NV_a['t_out_combined'] + temp_n_a_intercept\n",
    "# calculate the residuals_a\n",
    "df_ACM_SET_NV_a['residuals_a'] = df_ACM_SET_NV_a['temp_n_b'] - df_ACM_SET_NV_a['n_temp_a_predicted']\n",
    "# calculate the squared residuals_a\n",
    "df_ACM_SET_NV_a['squared_residuals_a'] = df_ACM_SET_NV_a['residuals_a']**2\n",
    "# calculate the MSE\n",
    "MSE = df_ACM_SET_NV_a['squared_residuals_a'].sum()/len(df_ACM_SET_NV_a)\n",
    "print(\"******************************************************************************\")\n",
    "print('MSE: {:.2f}'.format(MSE))\n",
    "# calculate the RMSE\n",
    "RMSE = np.sqrt(MSE)\n",
    "print('RMSE: {:.2f}'.format(RMSE))"
   ]
  },
  {
   "cell_type": "markdown",
   "metadata": {},
   "source": [
    "#### Approach (b)"
   ]
  },
  {
   "cell_type": "code",
   "execution_count": 79,
   "metadata": {},
   "outputs": [
    {
     "name": "stdout",
     "output_type": "stream",
     "text": [
      "p value 0.000\n",
      "                            WLS Regression Results                            \n",
      "==============================================================================\n",
      "Dep. Variable:               temp_n_b   R-squared:                       0.715\n",
      "Model:                            WLS   Adj. R-squared:                  0.706\n",
      "Method:                 Least Squares   F-statistic:                     80.16\n",
      "Date:                Fri, 12 Jan 2024   Prob (F-statistic):           3.16e-10\n",
      "Time:                        16:58:18   Log-Likelihood:                -63.432\n",
      "No. Observations:                  34   AIC:                             130.9\n",
      "Df Residuals:                      32   BIC:                             133.9\n",
      "Df Model:                           1                                         \n",
      "Covariance Type:            nonrobust                                         \n",
      "==================================================================================\n",
      "                     coef    std err          t      P>|t|      [0.025      0.975]\n",
      "----------------------------------------------------------------------------------\n",
      "const             16.1107      1.136     14.185      0.000      13.797      18.424\n",
      "t_out_combined     0.4244      0.047      8.953      0.000       0.328       0.521\n",
      "==============================================================================\n",
      "Omnibus:                        5.178   Durbin-Watson:                   0.868\n",
      "Prob(Omnibus):                  0.075   Jarque-Bera (JB):                4.106\n",
      "Skew:                           0.843   Prob(JB):                        0.128\n",
      "Kurtosis:                       3.230   Cond. No.                         113.\n",
      "==============================================================================\n",
      "\n",
      "Notes:\n",
      "[1] Standard Errors assume that the covariance matrix of the errors is correctly specified.\n",
      "******************************************************************************\n",
      "ACM_NV regression line slope: 0.42\n",
      "ACM_NV regression line slope: 16.11\n",
      "ACM_NV comfort zone: 1.78\n"
     ]
    }
   ],
   "source": [
    "# conduct weighted ACM_NV regression line based on approach (b)\n",
    "temp_n_b_intercept, temp_n_b_slope = weighted_regression(df_ACM_SET_NV_b['t_out_combined'], df_ACM_SET_NV_b['temp_n_b'], df_ACM_SET_NV_b['records'])\n",
    "# print the fitted line slope and intercept\n",
    "print(\"******************************************************************************\")\n",
    "print('ACM_NV regression line slope: {:.2f}'.format(temp_n_b_slope))\n",
    "print('ACM_NV regression line slope: {:.2f}'.format(temp_n_b_intercept))\n",
    "\n",
    "# calculate the mean comfort zone\n",
    "range_b = df_ACM_SET_NV_b['temp_up_b'].mean() - df_ACM_SET_NV_b['temp_low_b'].mean()\n",
    "print('ACM_NV comfort zone: {:.2f}'.format(range_b))"
   ]
  },
  {
   "cell_type": "code",
   "execution_count": 80,
   "metadata": {},
   "outputs": [
    {
     "data": {
      "image/png": "[encoded data removed]",
      "text/plain": [
       "<Figure size 720x504 with 1 Axes>"
      ]
     },
     "metadata": {
      "needs_background": "light"
     },
     "output_type": "display_data"
    }
   ],
   "source": [
    "# sort the data points by t_out_combined\n",
    "t_out_combined = np.array(df_ACM_SET_NV_b['t_out_combined'])\n",
    "sort_index = np.argsort(t_out_combined)\n",
    "t_out_combined = t_out_combined[sort_index]\n",
    "up_line = temp_n_b_slope * t_out_combined + temp_n_b_intercept + range_b/2\n",
    "low_line = temp_n_b_slope * t_out_combined + temp_n_b_intercept - range_b/2\n",
    "middle_line = temp_n_b_slope * t_out_combined + temp_n_b_intercept\n",
    "\n",
    "# plot data points\n",
    "plt.figure(figsize=(10, 7))\n",
    "plt.plot(t_out_combined, middle_line, color='black', linewidth=4)\n",
    "sns.regplot(x='t_out_combined', y='temp_n_b', data=df_ACM_SET_NV_b, fit_reg=False, scatter_kws={'color': 'green'})\n",
    "plt.plot(t_out_combined, up_line, color='black', linewidth=2, linestyle='--', dashes=(5, 5))\n",
    "plt.plot(t_out_combined, low_line, color='black', linewidth=2, linestyle='--', dashes=(5, 5))\n",
    "plt.xlabel('', fontsize=40)\n",
    "plt.ylabel('', fontsize=40)\n",
    "plt.xticks(fontsize=40)\n",
    "plt.yticks(fontsize=40)\n",
    "plt.xlim(10, 35)\n",
    "plt.ylim(17, 32)\n",
    "plt.grid(False)\n",
    "plt.rcParams['font.family'] = 'Times New Roman'\n",
    "# plt.savefig('figs/ACM_NV_neutral_b.pdf', format='pdf', bbox_inches='tight')"
   ]
  },
  {
   "cell_type": "markdown",
   "metadata": {},
   "source": [
    "Accuracy"
   ]
  },
  {
   "cell_type": "code",
   "execution_count": 81,
   "metadata": {},
   "outputs": [
    {
     "name": "stdout",
     "output_type": "stream",
     "text": [
      "Prediction Accraucy: 58 %\n",
      "******************************************************************************\n",
      "MSE: 2.27\n",
      "RMSE: 1.51\n"
     ]
    },
    {
     "name": "stderr",
     "output_type": "stream",
     "text": [
      "<ipython-input-81-23d052d1918d>:24: SettingWithCopyWarning: \n",
      "A value is trying to be set on a copy of a slice from a DataFrame.\n",
      "Try using .loc[row_indexer,col_indexer] = value instead\n",
      "\n",
      "See the caveats in the documentation: https://pandas.pydata.org/pandas-docs/stable/user_guide/indexing.html#returning-a-view-versus-a-copy\n",
      "  df_ACM_SET_NV_b['n_temp_b_predicted'] = temp_n_b_slope * df_ACM_SET_NV_b['t_out_combined'] + temp_n_b_intercept\n",
      "<ipython-input-81-23d052d1918d>:26: SettingWithCopyWarning: \n",
      "A value is trying to be set on a copy of a slice from a DataFrame.\n",
      "Try using .loc[row_indexer,col_indexer] = value instead\n",
      "\n",
      "See the caveats in the documentation: https://pandas.pydata.org/pandas-docs/stable/user_guide/indexing.html#returning-a-view-versus-a-copy\n",
      "  df_ACM_SET_NV_b['residuals_b'] = df_ACM_SET_NV_b['temp_n_b'] - df_ACM_SET_NV_b['n_temp_b_predicted']\n",
      "<ipython-input-81-23d052d1918d>:28: SettingWithCopyWarning: \n",
      "A value is trying to be set on a copy of a slice from a DataFrame.\n",
      "Try using .loc[row_indexer,col_indexer] = value instead\n",
      "\n",
      "See the caveats in the documentation: https://pandas.pydata.org/pandas-docs/stable/user_guide/indexing.html#returning-a-view-versus-a-copy\n",
      "  df_ACM_SET_NV_b['squared_residuals_b'] = df_ACM_SET_NV_b['residuals_b']**2\n"
     ]
    }
   ],
   "source": [
    "# create a new dataframe from df_data, that has all building id in df_bldg_nv_b\n",
    "df_data_nv_b = df_data_2[df_data_2['building_id'].isin(df_ACM_SET_NV_b['building_id'])].copy()\n",
    "df_data_nv_b['up_limit'] = temp_n_b_slope * df_data_nv_b['t_out_combined'] + temp_n_b_intercept + range_b/2\n",
    "df_data_nv_b['low_limit'] = temp_n_b_slope * df_data_nv_b['t_out_combined'] + temp_n_b_intercept - range_b/2\n",
    "# create a new column, for each row, assign the value of 1 if the top is within up_limit and low_limit when thermal_sensation is within +0.85 and -0.85, or the top is not within up_limit and low_limit when thermal_sensation is not within +0.85 and -0.85, otherwise assign the value of 0\n",
    "df_data_nv_b['accurate_prediction'] = np.where(\n",
    "    # Case 1: Comfortable when within range\n",
    "    ((df_data_nv_b['thermal_sensation'] >= -0.85) & \n",
    "     (df_data_nv_b['thermal_sensation'] <= 0.85) & \n",
    "     (df_data_nv_b['top'] >= df_data_nv_b['low_limit']) & \n",
    "     (df_data_nv_b['top'] <= df_data_nv_b['up_limit'])) |\n",
    "    # Case 2: Uncomfortable when out of range\n",
    "    ((df_data_nv_b['thermal_sensation'] < -0.85) | \n",
    "     (df_data_nv_b['thermal_sensation'] > 0.85)) & \n",
    "     ((df_data_nv_b['top'] < df_data_nv_b['low_limit']) | \n",
    "      (df_data_nv_b['top'] > df_data_nv_b['up_limit'])),\n",
    "    1,  # Accurate prediction\n",
    "    0)   # Inaccurate prediction\n",
    "# count the number of rows that have within_range == 1\n",
    "print('Prediction Accraucy: {:.0f} %'.format(len(df_data_nv_b[df_data_nv_b['accurate_prediction'] == 1])/len(df_data_nv_b)*100))\n",
    "\n",
    "# calculate the MSE and RMSE of the linear regression of n_temp_b on t_out_combined in df_ACM_SET_NV_b\n",
    "# calculate the predicted n_temp_b\n",
    "df_ACM_SET_NV_b['n_temp_b_predicted'] = temp_n_b_slope * df_ACM_SET_NV_b['t_out_combined'] + temp_n_b_intercept\n",
    "# calculate the residuals_b\n",
    "df_ACM_SET_NV_b['residuals_b'] = df_ACM_SET_NV_b['temp_n_b'] - df_ACM_SET_NV_b['n_temp_b_predicted']\n",
    "# calculate the squared residuals_b\n",
    "df_ACM_SET_NV_b['squared_residuals_b'] = df_ACM_SET_NV_b['residuals_b']**2\n",
    "# calculate the MSE\n",
    "MSE = df_ACM_SET_NV_b['squared_residuals_b'].sum()/len(df_ACM_SET_NV_b)\n",
    "print(\"******************************************************************************\")\n",
    "print('MSE: {:.2f}'.format(MSE))\n",
    "# calculate the RMSE\n",
    "RMSE = np.sqrt(MSE)\n",
    "print('RMSE: {:.2f}'.format(RMSE))"
   ]
  },
  {
   "cell_type": "markdown",
   "metadata": {},
   "source": [
    "two buildings near Tout 15C that has high OT neutral temperature, but reasaonble SET neutral temp"
   ]
  },
  {
   "cell_type": "code",
   "execution_count": 35,
   "metadata": {},
   "outputs": [
    {
     "data": {
      "text/plain": [
       "(array([-4., -3., -2., -1.,  0.,  1.,  2.,  3.]),\n",
       " [Text(0, 0, ''),\n",
       "  Text(0, 0, ''),\n",
       "  Text(0, 0, ''),\n",
       "  Text(0, 0, ''),\n",
       "  Text(0, 0, ''),\n",
       "  Text(0, 0, ''),\n",
       "  Text(0, 0, ''),\n",
       "  Text(0, 0, '')])"
      ]
     },
     "execution_count": 35,
     "metadata": {},
     "output_type": "execute_result"
    },
    {
     "data": {
      "image/png": "[encoded data removed]",
      "text/plain": [
       "<Figure size 720x504 with 1 Axes>"
      ]
     },
     "metadata": {
      "needs_background": "light"
     },
     "output_type": "display_data"
    }
   ],
   "source": [
    "# plot linear regression for building 176 between thermal sensation and set\n",
    "plt.figure(figsize=(10, 7))\n",
    "sns.regplot(x='set', y='thermal_sensation', data=df_data_2[df_data_2.building_id == 176], fit_reg=True, scatter_kws={'color': 'green'})\n",
    "plt.xlabel('SET', fontsize=40)\n",
    "plt.ylabel('TSV', fontsize=40)\n",
    "plt.xticks(fontsize=40)\n",
    "plt.yticks(fontsize=40)"
   ]
  },
  {
   "cell_type": "code",
   "execution_count": 41,
   "metadata": {},
   "outputs": [
    {
     "data": {
      "text/plain": [
       "(array([-4., -3., -2., -1.,  0.,  1.,  2.,  3.]),\n",
       " [Text(0, 0, ''),\n",
       "  Text(0, 0, ''),\n",
       "  Text(0, 0, ''),\n",
       "  Text(0, 0, ''),\n",
       "  Text(0, 0, ''),\n",
       "  Text(0, 0, ''),\n",
       "  Text(0, 0, ''),\n",
       "  Text(0, 0, '')])"
      ]
     },
     "execution_count": 41,
     "metadata": {},
     "output_type": "execute_result"
    },
    {
     "data": {
      "image/png": "[encoded data removed]",
      "text/plain": [
       "<Figure size 720x504 with 1 Axes>"
      ]
     },
     "metadata": {
      "needs_background": "light"
     },
     "output_type": "display_data"
    }
   ],
   "source": [
    "# plot linear regression for building 176 between thermal sensation and set\n",
    "plt.figure(figsize=(10, 7))\n",
    "sns.regplot(x='top', y='thermal_sensation', data=df_data_2[df_data_2.building_id == 176], fit_reg=True, scatter_kws={'color': 'green'})\n",
    "plt.xlabel('Top', fontsize=40)\n",
    "plt.ylabel('TSV', fontsize=40)\n",
    "plt.xticks(fontsize=40)\n",
    "plt.yticks(fontsize=40)"
   ]
  },
  {
   "cell_type": "code",
   "execution_count": 36,
   "metadata": {},
   "outputs": [
    {
     "data": {
      "text/plain": [
       "(array([12., 14., 16., 18., 20., 22., 24., 26., 28., 30., 32.]),\n",
       " [Text(0, 0, ''),\n",
       "  Text(0, 0, ''),\n",
       "  Text(0, 0, ''),\n",
       "  Text(0, 0, ''),\n",
       "  Text(0, 0, ''),\n",
       "  Text(0, 0, ''),\n",
       "  Text(0, 0, ''),\n",
       "  Text(0, 0, ''),\n",
       "  Text(0, 0, ''),\n",
       "  Text(0, 0, ''),\n",
       "  Text(0, 0, '')])"
      ]
     },
     "execution_count": 36,
     "metadata": {},
     "output_type": "execute_result"
    },
    {
     "data": {
      "image/png": "[encoded data removed]",
      "text/plain": [
       "<Figure size 720x504 with 1 Axes>"
      ]
     },
     "metadata": {
      "needs_background": "light"
     },
     "output_type": "display_data"
    }
   ],
   "source": [
    "# plot linear regression for building 176 between thermal sensation and set\n",
    "plt.figure(figsize=(10, 7))\n",
    "sns.regplot(x='thermal_sensation', y='set', data=df_data_2[df_data_2.building_id == 176], fit_reg=True, scatter_kws={'color': 'green'})\n",
    "plt.xlabel('TSV', fontsize=40)\n",
    "plt.ylabel('SET', fontsize=40)\n",
    "plt.xticks(fontsize=40)\n",
    "plt.yticks(fontsize=40)"
   ]
  },
  {
   "cell_type": "markdown",
   "metadata": {},
   "source": [
    "## ACM (SET) for all AC offices"
   ]
  },
  {
   "cell_type": "code",
   "execution_count": 52,
   "metadata": {},
   "outputs": [
    {
     "name": "stdout",
     "output_type": "stream",
     "text": [
      "Total buildings for Approach (a) ACM_AC: 34\n",
      "Total buildings for Approach (b) ACM_AC: 34\n"
     ]
    }
   ],
   "source": [
    "# only keep buildings with 10 < t_out_combined < 33.5\n",
    "df_ACM_SET_AC_a = df_bldg_2_office_AC_a[(df_bldg_2_office_AC_a['t_out_combined'] >= 10) & (df_bldg_2_office_AC_a['t_out_combined'] <= 33.5)]\n",
    "df_ACM_SET_AC_b = df_bldg_2_office_AC_b[(df_bldg_2_office_AC_b['t_out_combined'] >= 10) & (df_bldg_2_office_AC_b['t_out_combined'] <= 33.5)]\n",
    "print(\"Total buildings for Approach (a) ACM_AC:\", len(df_ACM_SET_AC_a))\n",
    "print(\"Total buildings for Approach (b) ACM_AC:\", len(df_ACM_SET_AC_b))"
   ]
  },
  {
   "cell_type": "markdown",
   "metadata": {},
   "source": [
    "Approach (a)"
   ]
  },
  {
   "cell_type": "code",
   "execution_count": 53,
   "metadata": {},
   "outputs": [
    {
     "name": "stdout",
     "output_type": "stream",
     "text": [
      "p value 0.002\n",
      "                            WLS Regression Results                            \n",
      "==============================================================================\n",
      "Dep. Variable:               temp_n_a   R-squared:                       0.272\n",
      "Model:                            WLS   Adj. R-squared:                  0.249\n",
      "Method:                 Least Squares   F-statistic:                     11.93\n",
      "Date:                Fri, 12 Jan 2024   Prob (F-statistic):            0.00158\n",
      "Time:                        16:38:29   Log-Likelihood:                -76.503\n",
      "No. Observations:                  34   AIC:                             157.0\n",
      "Df Residuals:                      32   BIC:                             160.1\n",
      "Df Model:                           1                                         \n",
      "Covariance Type:            nonrobust                                         \n",
      "==================================================================================\n",
      "                     coef    std err          t      P>|t|      [0.025      0.975]\n",
      "----------------------------------------------------------------------------------\n",
      "const             18.5132      1.675     11.052      0.000      15.101      21.925\n",
      "t_out_combined     0.2232      0.065      3.453      0.002       0.092       0.355\n",
      "==============================================================================\n",
      "Omnibus:                       40.690   Durbin-Watson:                   0.895\n",
      "Prob(Omnibus):                  0.000   Jarque-Bera (JB):              157.542\n",
      "Skew:                           2.578   Prob(JB):                     6.17e-35\n",
      "Kurtosis:                      12.199   Cond. No.                         126.\n",
      "==============================================================================\n",
      "\n",
      "Notes:\n",
      "[1] Standard Errors assume that the covariance matrix of the errors is correctly specified.\n",
      "******************************************************************************\n",
      "ACM regression line slope: 0.22\n",
      "ACM regression line slope: 18.51\n",
      "ACM comfort zone: 8.20\n"
     ]
    }
   ],
   "source": [
    "# conduct weighted ACM regression line based on approach (a)\n",
    "temp_n_a_intercept, temp_n_a_slope = weighted_regression(df_ACM_SET_AC_a['t_out_combined'], df_ACM_SET_AC_a['temp_n_a'], df_ACM_SET_AC_a['records'])\n",
    "# print the fitted line slope and intercept\n",
    "print(\"******************************************************************************\")\n",
    "print('ACM regression line slope: {:.2f}'.format(temp_n_a_slope))\n",
    "print('ACM regression line slope: {:.2f}'.format(temp_n_a_intercept))\n",
    "\n",
    "# calculate the mean comfort zone\n",
    "range_a = df_ACM_SET_AC_a['temp_up_a'].mean() - df_ACM_SET_AC_a['temp_low_a'].mean()\n",
    "print('ACM comfort zone: {:.2f}'.format(range_a))"
   ]
  },
  {
   "cell_type": "code",
   "execution_count": 54,
   "metadata": {},
   "outputs": [
    {
     "data": {
      "image/png": "[encoded data removed]",
      "text/plain": [
       "<Figure size 720x504 with 1 Axes>"
      ]
     },
     "metadata": {
      "needs_background": "light"
     },
     "output_type": "display_data"
    }
   ],
   "source": [
    "# sort the data points by t_out_combined\n",
    "t_out_combined = np.array(df_ACM_SET_AC_a['t_out_combined'])\n",
    "sort_index = np.argsort(t_out_combined)\n",
    "t_out_combined = t_out_combined[sort_index]\n",
    "up_line = temp_n_a_slope * t_out_combined + temp_n_a_intercept + range_a/2\n",
    "low_line = temp_n_a_slope * t_out_combined + temp_n_a_intercept - range_a/2\n",
    "middle_line = temp_n_a_slope * t_out_combined + temp_n_a_intercept\n",
    "\n",
    "# plot data points\n",
    "plt.figure(figsize=(10, 7))\n",
    "plt.plot(t_out_combined, middle_line, color='black', linewidth=4)\n",
    "sns.regplot(x='t_out_combined', y='temp_n_a', data=df_ACM_SET_AC_a, fit_reg=False, scatter_kws={'color': 'blue'})\n",
    "plt.plot(t_out_combined, up_line, color='black', linewidth=2, linestyle='--', dashes=(5, 5))\n",
    "plt.plot(t_out_combined, low_line, color='black', linewidth=2, linestyle='--', dashes=(5, 5))\n",
    "plt.xlabel('', fontsize=40)\n",
    "plt.ylabel('', fontsize=40)\n",
    "plt.xticks(fontsize=40)\n",
    "plt.yticks(fontsize=40)\n",
    "plt.xlim(10, 35)\n",
    "plt.ylim(15, 33)\n",
    "plt.grid(False)\n",
    "plt.rcParams['font.family'] = 'Times New Roman'\n",
    "# plt.savefig('figs/ACM_NV_neutral_a.pdf', format='pdf', bbox_inches='tight')"
   ]
  },
  {
   "cell_type": "markdown",
   "metadata": {},
   "source": [
    "Accuracy"
   ]
  },
  {
   "cell_type": "code",
   "execution_count": 63,
   "metadata": {},
   "outputs": [
    {
     "name": "stdout",
     "output_type": "stream",
     "text": [
      "Prediction Accraucy: 46 %\n",
      "******************************************************************************\n",
      "MSE: 2.30\n",
      "RMSE: 1.52\n"
     ]
    },
    {
     "name": "stderr",
     "output_type": "stream",
     "text": [
      "<ipython-input-63-29d72dde87c9>:24: SettingWithCopyWarning: \n",
      "A value is trying to be set on a copy of a slice from a DataFrame.\n",
      "Try using .loc[row_indexer,col_indexer] = value instead\n",
      "\n",
      "See the caveats in the documentation: https://pandas.pydata.org/pandas-docs/stable/user_guide/indexing.html#returning-a-view-versus-a-copy\n",
      "  df_ACM_SET_AC_a['n_temp_a_predicted'] = temp_n_a_slope * df_ACM_SET_AC_a['t_out_combined'] + temp_n_a_intercept\n",
      "<ipython-input-63-29d72dde87c9>:26: SettingWithCopyWarning: \n",
      "A value is trying to be set on a copy of a slice from a DataFrame.\n",
      "Try using .loc[row_indexer,col_indexer] = value instead\n",
      "\n",
      "See the caveats in the documentation: https://pandas.pydata.org/pandas-docs/stable/user_guide/indexing.html#returning-a-view-versus-a-copy\n",
      "  df_ACM_SET_AC_a['residuals_a'] = df_ACM_SET_AC_a['temp_n_b'] - df_ACM_SET_AC_a['n_temp_a_predicted']\n",
      "<ipython-input-63-29d72dde87c9>:28: SettingWithCopyWarning: \n",
      "A value is trying to be set on a copy of a slice from a DataFrame.\n",
      "Try using .loc[row_indexer,col_indexer] = value instead\n",
      "\n",
      "See the caveats in the documentation: https://pandas.pydata.org/pandas-docs/stable/user_guide/indexing.html#returning-a-view-versus-a-copy\n",
      "  df_ACM_SET_AC_a['squared_residuals_a'] = df_ACM_SET_AC_a['residuals_a']**2\n"
     ]
    }
   ],
   "source": [
    "# create a new dataframe from df_data, that has all building id in df_bldg_nv_a\n",
    "df_data_AC_a = df_data_2[df_data_2['building_id'].isin(df_ACM_SET_AC_a['building_id'])].copy()\n",
    "df_data_AC_a['up_limit'] = temp_n_a_slope * df_data_AC_a['t_out_combined'] + temp_n_a_intercept + range_a/2\n",
    "df_data_AC_a['low_limit'] = temp_n_a_slope * df_data_AC_a['t_out_combined'] + temp_n_a_intercept - range_a/2\n",
    "# create a new column, for each row, assign the value of 1 if the top is within up_limit and low_limit when thermal_sensation is within +0.85 and -0.85, or the top is not within up_limit and low_limit when thermal_sensation is not within +0.85 and -0.85, otherwise assign the value of 0\n",
    "df_data_AC_a['accurate_prediction'] = np.where(\n",
    "    # Case 1: Comfortable when within range\n",
    "    ((df_data_AC_a['thermal_sensation'] >= -0.85) & \n",
    "     (df_data_AC_a['thermal_sensation'] <= 0.85) & \n",
    "     (df_data_AC_a['top'] >= df_data_AC_a['low_limit']) & \n",
    "     (df_data_AC_a['top'] <= df_data_AC_a['up_limit'])) |\n",
    "    # Case 2: Uncomfortable when out of range\n",
    "    ((df_data_AC_a['thermal_sensation'] < -0.85) | \n",
    "     (df_data_AC_a['thermal_sensation'] > 0.85)) & \n",
    "     ((df_data_AC_a['top'] < df_data_AC_a['low_limit']) | \n",
    "      (df_data_AC_a['top'] > df_data_AC_a['up_limit'])),\n",
    "    1,  # Accurate prediction\n",
    "    0)   # Inaccurate prediction\n",
    "# count the number of rows that have within_range == 1\n",
    "print('Prediction Accraucy: {:.0f} %'.format(len(df_data_AC_a[df_data_AC_a['accurate_prediction'] == 1])/len(df_data_AC_a)*100))\n",
    "\n",
    "# calculate the MSE and RMSE of the linear regression of n_temp_a on t_out_combined in df_ACM_SET_AC_a\n",
    "# calculate the predicted n_temp_a\n",
    "df_ACM_SET_AC_a['n_temp_a_predicted'] = temp_n_a_slope * df_ACM_SET_AC_a['t_out_combined'] + temp_n_a_intercept\n",
    "# calculate the residuals_a\n",
    "df_ACM_SET_AC_a['residuals_a'] = df_ACM_SET_AC_a['temp_n_b'] - df_ACM_SET_AC_a['n_temp_a_predicted']\n",
    "# calculate the squared residuals_a\n",
    "df_ACM_SET_AC_a['squared_residuals_a'] = df_ACM_SET_AC_a['residuals_a']**2\n",
    "# calculate the MSE\n",
    "MSE = df_ACM_SET_AC_a['squared_residuals_a'].sum()/len(df_ACM_SET_AC_a)\n",
    "print(\"******************************************************************************\")\n",
    "print('MSE: {:.2f}'.format(MSE))\n",
    "# calculate the RMSE\n",
    "RMSE = np.sqrt(MSE)\n",
    "print('RMSE: {:.2f}'.format(RMSE))"
   ]
  },
  {
   "cell_type": "markdown",
   "metadata": {},
   "source": [
    "Approach (b)"
   ]
  },
  {
   "cell_type": "code",
   "execution_count": 56,
   "metadata": {},
   "outputs": [
    {
     "name": "stdout",
     "output_type": "stream",
     "text": [
      "p value 0.227\n",
      "                            WLS Regression Results                            \n",
      "==============================================================================\n",
      "Dep. Variable:               temp_n_b   R-squared:                       0.045\n",
      "Model:                            WLS   Adj. R-squared:                  0.015\n",
      "Method:                 Least Squares   F-statistic:                     1.517\n",
      "Date:                Fri, 12 Jan 2024   Prob (F-statistic):              0.227\n",
      "Time:                        16:39:43   Log-Likelihood:                -47.522\n",
      "No. Observations:                  34   AIC:                             99.04\n",
      "Df Residuals:                      32   BIC:                             102.1\n",
      "Df Model:                           1                                         \n",
      "Covariance Type:            nonrobust                                         \n",
      "==================================================================================\n",
      "                     coef    std err          t      P>|t|      [0.025      0.975]\n",
      "----------------------------------------------------------------------------------\n",
      "const             22.7922      0.714     31.911      0.000      21.337      24.247\n",
      "t_out_combined     0.0339      0.028      1.232      0.227      -0.022       0.090\n",
      "==============================================================================\n",
      "Omnibus:                        3.338   Durbin-Watson:                   1.484\n",
      "Prob(Omnibus):                  0.188   Jarque-Bera (JB):                2.786\n",
      "Skew:                           0.698   Prob(JB):                        0.248\n",
      "Kurtosis:                       2.858   Cond. No.                         126.\n",
      "==============================================================================\n",
      "\n",
      "Notes:\n",
      "[1] Standard Errors assume that the covariance matrix of the errors is correctly specified.\n",
      "******************************************************************************\n",
      "ACM_AC regression line slope: 0.03\n",
      "ACM_AC regression line slope: 22.79\n",
      "ACM_AC comfort zone: 1.09\n"
     ]
    }
   ],
   "source": [
    "# conduct weighted ACM_AC regression line based on approach (b)\n",
    "temp_n_b_intercept, temp_n_b_slope = weighted_regression(df_ACM_SET_AC_b['t_out_combined'], df_ACM_SET_AC_b['temp_n_b'], df_ACM_SET_AC_b['records'])\n",
    "# print the fitted line slope and intercept\n",
    "print(\"******************************************************************************\")\n",
    "print('ACM_AC regression line slope: {:.2f}'.format(temp_n_b_slope))\n",
    "print('ACM_AC regression line slope: {:.2f}'.format(temp_n_b_intercept))\n",
    "\n",
    "# calculate the mean comfort zone\n",
    "range_b = df_ACM_SET_AC_b['temp_up_b'].mean() - df_ACM_SET_AC_b['temp_low_b'].mean()\n",
    "print('ACM_AC comfort zone: {:.2f}'.format(range_b))"
   ]
  },
  {
   "cell_type": "code",
   "execution_count": 57,
   "metadata": {},
   "outputs": [
    {
     "data": {
      "image/png": "[encoded data removed]",
      "text/plain": [
       "<Figure size 720x504 with 1 Axes>"
      ]
     },
     "metadata": {
      "needs_background": "light"
     },
     "output_type": "display_data"
    }
   ],
   "source": [
    "# sort the data points by t_out_combined\n",
    "t_out_combined = np.array(df_ACM_SET_AC_b['t_out_combined'])\n",
    "sort_index = np.argsort(t_out_combined)\n",
    "t_out_combined = t_out_combined[sort_index]\n",
    "up_line = temp_n_b_slope * t_out_combined + temp_n_b_intercept + range_b/2\n",
    "low_line = temp_n_b_slope * t_out_combined + temp_n_b_intercept - range_b/2\n",
    "middle_line = temp_n_b_slope * t_out_combined + temp_n_b_intercept\n",
    "\n",
    "# plot data points\n",
    "plt.figure(figsize=(10, 7))\n",
    "plt.plot(t_out_combined, middle_line, color='black', linewidth=4)\n",
    "sns.regplot(x='t_out_combined', y='temp_n_b', data=df_ACM_SET_AC_b, fit_reg=False, scatter_kws={'color': 'blue'})\n",
    "plt.plot(t_out_combined, up_line, color='black', linewidth=2, linestyle='--', dashes=(5, 5))\n",
    "plt.plot(t_out_combined, low_line, color='black', linewidth=2, linestyle='--', dashes=(5, 5))\n",
    "plt.xlabel('', fontsize=40)\n",
    "plt.ylabel('', fontsize=40)\n",
    "plt.xticks(fontsize=40)\n",
    "plt.yticks(fontsize=40)\n",
    "plt.xlim(10, 35)\n",
    "plt.ylim(17, 32)\n",
    "plt.grid(False)\n",
    "plt.rcParams['font.family'] = 'Times New Roman'\n",
    "# plt.savefig('figs/ACM_AC_neutral_b.pdf', format='pdf', bbox_inches='tight')"
   ]
  },
  {
   "cell_type": "markdown",
   "metadata": {},
   "source": [
    "accuracy"
   ]
  },
  {
   "cell_type": "code",
   "execution_count": 64,
   "metadata": {},
   "outputs": [
    {
     "name": "stdout",
     "output_type": "stream",
     "text": [
      "Prediction Accraucy: 56 %\n",
      "******************************************************************************\n",
      "MSE: 0.95\n",
      "RMSE: 0.97\n"
     ]
    },
    {
     "name": "stderr",
     "output_type": "stream",
     "text": [
      "<ipython-input-64-60e9deba0ce5>:24: SettingWithCopyWarning: \n",
      "A value is trying to be set on a copy of a slice from a DataFrame.\n",
      "Try using .loc[row_indexer,col_indexer] = value instead\n",
      "\n",
      "See the caveats in the documentation: https://pandas.pydata.org/pandas-docs/stable/user_guide/indexing.html#returning-a-view-versus-a-copy\n",
      "  df_ACM_SET_AC_b['n_temp_b_predicted'] = temp_n_b_slope * df_ACM_SET_AC_b['t_out_combined'] + temp_n_b_intercept\n",
      "<ipython-input-64-60e9deba0ce5>:26: SettingWithCopyWarning: \n",
      "A value is trying to be set on a copy of a slice from a DataFrame.\n",
      "Try using .loc[row_indexer,col_indexer] = value instead\n",
      "\n",
      "See the caveats in the documentation: https://pandas.pydata.org/pandas-docs/stable/user_guide/indexing.html#returning-a-view-versus-a-copy\n",
      "  df_ACM_SET_AC_b['residuals'] = df_ACM_SET_AC_b['temp_n_b'] - df_ACM_SET_AC_b['n_temp_b_predicted']\n",
      "<ipython-input-64-60e9deba0ce5>:28: SettingWithCopyWarning: \n",
      "A value is trying to be set on a copy of a slice from a DataFrame.\n",
      "Try using .loc[row_indexer,col_indexer] = value instead\n",
      "\n",
      "See the caveats in the documentation: https://pandas.pydata.org/pandas-docs/stable/user_guide/indexing.html#returning-a-view-versus-a-copy\n",
      "  df_ACM_SET_AC_b['squared_residuals'] = df_ACM_SET_AC_b['residuals']**2\n"
     ]
    }
   ],
   "source": [
    "# create a new dataframe from df_data, that has all building id in df_bldg_nv_b\n",
    "df_data_AC_b = df_data_2[df_data_2['building_id'].isin(df_ACM_SET_AC_b['building_id'])].copy()\n",
    "df_data_AC_b['up_limit'] = temp_n_b_slope * df_data_AC_b['t_out_combined'] + temp_n_b_intercept + range_b/2\n",
    "df_data_AC_b['low_limit'] = temp_n_b_slope * df_data_AC_b['t_out_combined'] + temp_n_b_intercept - range_b/2\n",
    "# create a new column, for each row, assign the value of 1 if the top is within up_limit and low_limit when thermal_sensation is within +0.85 and -0.85, or the top is not within up_limit and low_limit when thermal_sensation is not within +0.85 and -0.85, otherwise assign the value of 0\n",
    "df_data_AC_b['accurate_prediction'] = np.where(\n",
    "    # Case 1: Comfortable when within range\n",
    "    ((df_data_AC_b['thermal_sensation'] >= -0.85) & \n",
    "     (df_data_AC_b['thermal_sensation'] <= 0.85) & \n",
    "     (df_data_AC_b['top'] >= df_data_AC_b['low_limit']) & \n",
    "     (df_data_AC_b['top'] <= df_data_AC_b['up_limit'])) |\n",
    "    # Case 2: Uncomfortable when out of range\n",
    "    ((df_data_AC_b['thermal_sensation'] < -0.85) | \n",
    "     (df_data_AC_b['thermal_sensation'] > 0.85)) & \n",
    "     ((df_data_AC_b['top'] < df_data_AC_b['low_limit']) | \n",
    "      (df_data_AC_b['top'] > df_data_AC_b['up_limit'])),\n",
    "    1,  # Accurate prediction\n",
    "    0)   # Inaccurate prediction\n",
    "# count the number of rows that have within_range == 1\n",
    "print('Prediction Accraucy: {:.0f} %'.format(len(df_data_AC_b[df_data_AC_b['accurate_prediction'] == 1])/len(df_data_AC_b)*100))\n",
    "\n",
    "# calculate the MSE and RMSE of the linear regression of n_temp_b on t_out_combined in df_ACM_SET_AC_b\n",
    "# calculate the predicted n_temp_b\n",
    "df_ACM_SET_AC_b['n_temp_b_predicted'] = temp_n_b_slope * df_ACM_SET_AC_b['t_out_combined'] + temp_n_b_intercept\n",
    "# calculate the residuals\n",
    "df_ACM_SET_AC_b['residuals'] = df_ACM_SET_AC_b['temp_n_b'] - df_ACM_SET_AC_b['n_temp_b_predicted']\n",
    "# calculate the squared residuals\n",
    "df_ACM_SET_AC_b['squared_residuals'] = df_ACM_SET_AC_b['residuals']**2\n",
    "# calculate the MSE\n",
    "MSE = df_ACM_SET_AC_b['squared_residuals'].sum()/len(df_ACM_SET_AC_b)\n",
    "print(\"******************************************************************************\")\n",
    "print('MSE: {:.2f}'.format(MSE))\n",
    "# calculate the RMSE\n",
    "RMSE = np.sqrt(MSE)\n",
    "print('RMSE: {:.2f}'.format(RMSE))"
   ]
  },
  {
   "cell_type": "markdown",
   "metadata": {},
   "source": [
    "## PMV"
   ]
  },
  {
   "cell_type": "code",
   "execution_count": 150,
   "metadata": {},
   "outputs": [
    {
     "name": "stdout",
     "output_type": "stream",
     "text": [
      "0\n",
      "0\n",
      "0\n",
      "0\n",
      "0\n",
      "0\n"
     ]
    }
   ],
   "source": [
    "# check nan values in columns of df_data_1: ta, rh, vel, tr, met, clo\n",
    "print(df_data_1['ta'].isna().sum())\n",
    "print(df_data_1['rh'].isna().sum())\n",
    "print(df_data_1['vel'].isna().sum())\n",
    "print(df_data_1['tr'].isna().sum())\n",
    "print(df_data_1['met'].isna().sum())\n",
    "print(df_data_1['clo'].isna().sum())\n"
   ]
  },
  {
   "cell_type": "markdown",
   "metadata": {},
   "source": [
    "## Optimization of intercept and range, with a fixed slope as 0"
   ]
  },
  {
   "cell_type": "code",
   "execution_count": 91,
   "metadata": {},
   "outputs": [],
   "source": [
    "# create a new dataframe from df_data, that has all building id in df_bldg_nv_a\n",
    "df_data_3 = df_data_2\n",
    "results = []\n",
    "\n",
    "for i in np.arange(15, 35, 0.5):\n",
    "    intercept_3 = i\n",
    "    for j in np.arange(10, 0, -0.5):\n",
    "        range_3 = j\n",
    "        df_data_3['up_limit'] = df_data_3['t_out_combined'] + intercept_3 + range_3/2\n",
    "        df_data_3['low_limit'] = df_data_3['t_out_combined'] + intercept_3 - range_3/2\n",
    "        # create a new column, for each row, assign the value of 1 if the top is within up_limit and low_limit when thermal_sensation is within +0.85 and -0.85, or the top is not within up_limit and low_limit when thermal_sensation is not within +0.85 and -0.85, otherwise assign the value of 0\n",
    "        df_data_3['accurate_prediction'] = np.where(\n",
    "            # Case 1: Comfortable when within range\n",
    "            ((df_data_3['thermal_sensation'] >= -0.85) & \n",
    "            (df_data_3['thermal_sensation'] <= 0.85) & \n",
    "            (df_data_3['top'] >= df_data_3['low_limit']) & \n",
    "            (df_data_3['top'] <= df_data_3['up_limit'])) |\n",
    "            # Case 2: Uncomfortable when out of range\n",
    "            ((df_data_3['thermal_sensation'] < -0.85) | \n",
    "            (df_data_3['thermal_sensation'] > 0.85)) & \n",
    "            ((df_data_3['top'] < df_data_3['low_limit']) | \n",
    "            (df_data_3['top'] > df_data_3['up_limit'])),\n",
    "            1,  # Accurate prediction\n",
    "            0)   # Inaccurate prediction\n",
    "        \n",
    "        df_data_3['accurate_prediction_SET'] = np.where(\n",
    "            # Case 1: Comfortable when within range\n",
    "            ((df_data_3['thermal_sensation'] >= -0.85) & \n",
    "            (df_data_3['thermal_sensation'] <= 0.85) & \n",
    "            (df_data_3['set'] >= df_data_3['low_limit']) & \n",
    "            (df_data_3['set'] <= df_data_3['up_limit'])) |\n",
    "            # Case 2: Uncomfortable when out of range\n",
    "            ((df_data_3['thermal_sensation'] < -0.85) | \n",
    "            (df_data_3['thermal_sensation'] > 0.85)) & \n",
    "            ((df_data_3['set'] < df_data_3['low_limit']) | \n",
    "            (df_data_3['set'] > df_data_3['up_limit'])),\n",
    "            1,  # Accurate prediction\n",
    "            0)   # Inaccurate prediction\n",
    "        \n",
    "        # count the number of rows that have within_range == 1\n",
    "        accuracy = len(df_data_3[df_data_3['accurate_prediction'] == 1])/len(df_data_3)\n",
    "        accuracy_SET = len(df_data_3[df_data_3['accurate_prediction_SET'] == 1])/len(df_data_3)\n",
    "        results.append({'Intercept': intercept_3, 'Range': range_3, 'Accuracy OT': accuracy, 'Accuracy SET': accuracy_SET})\n",
    "        \n",
    "# Convert the results list to a DataFrame\n",
    "results_df = pd.DataFrame(results)"
   ]
  },
  {
   "cell_type": "code",
   "execution_count": 92,
   "metadata": {},
   "outputs": [
    {
     "data": {
      "text/html": [
       "<div>\n",
       "<style scoped>\n",
       "    .dataframe tbody tr th:only-of-type {\n",
       "        vertical-align: middle;\n",
       "    }\n",
       "\n",
       "    .dataframe tbody tr th {\n",
       "        vertical-align: top;\n",
       "    }\n",
       "\n",
       "    .dataframe thead th {\n",
       "        text-align: right;\n",
       "    }\n",
       "</style>\n",
       "<table border=\"1\" class=\"dataframe\">\n",
       "  <thead>\n",
       "    <tr style=\"text-align: right;\">\n",
       "      <th></th>\n",
       "      <th>Intercept</th>\n",
       "      <th>Range</th>\n",
       "      <th>Accuracy OT</th>\n",
       "      <th>Accuracy SET</th>\n",
       "    </tr>\n",
       "  </thead>\n",
       "  <tbody>\n",
       "    <tr>\n",
       "      <th>229</th>\n",
       "      <td>20.5</td>\n",
       "      <td>5.5</td>\n",
       "      <td>0.569278</td>\n",
       "      <td>0.568404</td>\n",
       "    </tr>\n",
       "    <tr>\n",
       "      <th>265</th>\n",
       "      <td>21.5</td>\n",
       "      <td>7.5</td>\n",
       "      <td>0.569278</td>\n",
       "      <td>0.568708</td>\n",
       "    </tr>\n",
       "    <tr>\n",
       "      <th>273</th>\n",
       "      <td>21.5</td>\n",
       "      <td>3.5</td>\n",
       "      <td>0.569278</td>\n",
       "      <td>0.569240</td>\n",
       "    </tr>\n",
       "    <tr>\n",
       "      <th>283</th>\n",
       "      <td>22.0</td>\n",
       "      <td>8.5</td>\n",
       "      <td>0.569278</td>\n",
       "      <td>0.568708</td>\n",
       "    </tr>\n",
       "    <tr>\n",
       "      <th>294</th>\n",
       "      <td>22.0</td>\n",
       "      <td>3.0</td>\n",
       "      <td>0.569278</td>\n",
       "      <td>0.569240</td>\n",
       "    </tr>\n",
       "    <tr>\n",
       "      <th>301</th>\n",
       "      <td>22.5</td>\n",
       "      <td>9.5</td>\n",
       "      <td>0.569278</td>\n",
       "      <td>0.568670</td>\n",
       "    </tr>\n",
       "    <tr>\n",
       "      <th>309</th>\n",
       "      <td>22.5</td>\n",
       "      <td>5.5</td>\n",
       "      <td>0.569278</td>\n",
       "      <td>0.569544</td>\n",
       "    </tr>\n",
       "    <tr>\n",
       "      <th>310</th>\n",
       "      <td>22.5</td>\n",
       "      <td>5.0</td>\n",
       "      <td>0.569278</td>\n",
       "      <td>0.569506</td>\n",
       "    </tr>\n",
       "    <tr>\n",
       "      <th>311</th>\n",
       "      <td>22.5</td>\n",
       "      <td>4.5</td>\n",
       "      <td>0.569278</td>\n",
       "      <td>0.569354</td>\n",
       "    </tr>\n",
       "    <tr>\n",
       "      <th>327</th>\n",
       "      <td>23.0</td>\n",
       "      <td>6.5</td>\n",
       "      <td>0.569278</td>\n",
       "      <td>0.569544</td>\n",
       "    </tr>\n",
       "    <tr>\n",
       "      <th>328</th>\n",
       "      <td>23.0</td>\n",
       "      <td>6.0</td>\n",
       "      <td>0.569278</td>\n",
       "      <td>0.569506</td>\n",
       "    </tr>\n",
       "    <tr>\n",
       "      <th>329</th>\n",
       "      <td>23.0</td>\n",
       "      <td>5.5</td>\n",
       "      <td>0.569278</td>\n",
       "      <td>0.569392</td>\n",
       "    </tr>\n",
       "    <tr>\n",
       "      <th>330</th>\n",
       "      <td>23.0</td>\n",
       "      <td>5.0</td>\n",
       "      <td>0.569278</td>\n",
       "      <td>0.569430</td>\n",
       "    </tr>\n",
       "    <tr>\n",
       "      <th>345</th>\n",
       "      <td>23.5</td>\n",
       "      <td>7.5</td>\n",
       "      <td>0.569278</td>\n",
       "      <td>0.569506</td>\n",
       "    </tr>\n",
       "    <tr>\n",
       "      <th>346</th>\n",
       "      <td>23.5</td>\n",
       "      <td>7.0</td>\n",
       "      <td>0.569278</td>\n",
       "      <td>0.569430</td>\n",
       "    </tr>\n",
       "    <tr>\n",
       "      <th>347</th>\n",
       "      <td>23.5</td>\n",
       "      <td>6.5</td>\n",
       "      <td>0.569278</td>\n",
       "      <td>0.569316</td>\n",
       "    </tr>\n",
       "    <tr>\n",
       "      <th>348</th>\n",
       "      <td>23.5</td>\n",
       "      <td>6.0</td>\n",
       "      <td>0.569278</td>\n",
       "      <td>0.569392</td>\n",
       "    </tr>\n",
       "    <tr>\n",
       "      <th>363</th>\n",
       "      <td>24.0</td>\n",
       "      <td>8.5</td>\n",
       "      <td>0.569278</td>\n",
       "      <td>0.569506</td>\n",
       "    </tr>\n",
       "    <tr>\n",
       "      <th>364</th>\n",
       "      <td>24.0</td>\n",
       "      <td>8.0</td>\n",
       "      <td>0.569278</td>\n",
       "      <td>0.569468</td>\n",
       "    </tr>\n",
       "    <tr>\n",
       "      <th>365</th>\n",
       "      <td>24.0</td>\n",
       "      <td>7.5</td>\n",
       "      <td>0.569278</td>\n",
       "      <td>0.569354</td>\n",
       "    </tr>\n",
       "    <tr>\n",
       "      <th>366</th>\n",
       "      <td>24.0</td>\n",
       "      <td>7.0</td>\n",
       "      <td>0.569278</td>\n",
       "      <td>0.569392</td>\n",
       "    </tr>\n",
       "    <tr>\n",
       "      <th>381</th>\n",
       "      <td>24.5</td>\n",
       "      <td>9.5</td>\n",
       "      <td>0.569278</td>\n",
       "      <td>0.569506</td>\n",
       "    </tr>\n",
       "    <tr>\n",
       "      <th>382</th>\n",
       "      <td>24.5</td>\n",
       "      <td>9.0</td>\n",
       "      <td>0.569278</td>\n",
       "      <td>0.569468</td>\n",
       "    </tr>\n",
       "    <tr>\n",
       "      <th>383</th>\n",
       "      <td>24.5</td>\n",
       "      <td>8.5</td>\n",
       "      <td>0.569278</td>\n",
       "      <td>0.569354</td>\n",
       "    </tr>\n",
       "    <tr>\n",
       "      <th>384</th>\n",
       "      <td>24.5</td>\n",
       "      <td>8.0</td>\n",
       "      <td>0.569278</td>\n",
       "      <td>0.569392</td>\n",
       "    </tr>\n",
       "    <tr>\n",
       "      <th>400</th>\n",
       "      <td>25.0</td>\n",
       "      <td>10.0</td>\n",
       "      <td>0.569278</td>\n",
       "      <td>0.569468</td>\n",
       "    </tr>\n",
       "    <tr>\n",
       "      <th>401</th>\n",
       "      <td>25.0</td>\n",
       "      <td>9.5</td>\n",
       "      <td>0.569278</td>\n",
       "      <td>0.569354</td>\n",
       "    </tr>\n",
       "    <tr>\n",
       "      <th>402</th>\n",
       "      <td>25.0</td>\n",
       "      <td>9.0</td>\n",
       "      <td>0.569278</td>\n",
       "      <td>0.569392</td>\n",
       "    </tr>\n",
       "    <tr>\n",
       "      <th>420</th>\n",
       "      <td>25.5</td>\n",
       "      <td>10.0</td>\n",
       "      <td>0.569278</td>\n",
       "      <td>0.569392</td>\n",
       "    </tr>\n",
       "  </tbody>\n",
       "</table>\n",
       "</div>"
      ],
      "text/plain": [
       "     Intercept  Range  Accuracy OT  Accuracy SET\n",
       "229       20.5    5.5     0.569278      0.568404\n",
       "265       21.5    7.5     0.569278      0.568708\n",
       "273       21.5    3.5     0.569278      0.569240\n",
       "283       22.0    8.5     0.569278      0.568708\n",
       "294       22.0    3.0     0.569278      0.569240\n",
       "301       22.5    9.5     0.569278      0.568670\n",
       "309       22.5    5.5     0.569278      0.569544\n",
       "310       22.5    5.0     0.569278      0.569506\n",
       "311       22.5    4.5     0.569278      0.569354\n",
       "327       23.0    6.5     0.569278      0.569544\n",
       "328       23.0    6.0     0.569278      0.569506\n",
       "329       23.0    5.5     0.569278      0.569392\n",
       "330       23.0    5.0     0.569278      0.569430\n",
       "345       23.5    7.5     0.569278      0.569506\n",
       "346       23.5    7.0     0.569278      0.569430\n",
       "347       23.5    6.5     0.569278      0.569316\n",
       "348       23.5    6.0     0.569278      0.569392\n",
       "363       24.0    8.5     0.569278      0.569506\n",
       "364       24.0    8.0     0.569278      0.569468\n",
       "365       24.0    7.5     0.569278      0.569354\n",
       "366       24.0    7.0     0.569278      0.569392\n",
       "381       24.5    9.5     0.569278      0.569506\n",
       "382       24.5    9.0     0.569278      0.569468\n",
       "383       24.5    8.5     0.569278      0.569354\n",
       "384       24.5    8.0     0.569278      0.569392\n",
       "400       25.0   10.0     0.569278      0.569468\n",
       "401       25.0    9.5     0.569278      0.569354\n",
       "402       25.0    9.0     0.569278      0.569392\n",
       "420       25.5   10.0     0.569278      0.569392"
      ]
     },
     "execution_count": 92,
     "metadata": {},
     "output_type": "execute_result"
    }
   ],
   "source": [
    "# select the row that has the highest accuracy\n",
    "results_df[results_df['Accuracy OT'] == results_df['Accuracy OT'].max()]"
   ]
  },
  {
   "cell_type": "code",
   "execution_count": 93,
   "metadata": {},
   "outputs": [
    {
     "data": {
      "text/html": [
       "<div>\n",
       "<style scoped>\n",
       "    .dataframe tbody tr th:only-of-type {\n",
       "        vertical-align: middle;\n",
       "    }\n",
       "\n",
       "    .dataframe tbody tr th {\n",
       "        vertical-align: top;\n",
       "    }\n",
       "\n",
       "    .dataframe thead th {\n",
       "        text-align: right;\n",
       "    }\n",
       "</style>\n",
       "<table border=\"1\" class=\"dataframe\">\n",
       "  <thead>\n",
       "    <tr style=\"text-align: right;\">\n",
       "      <th></th>\n",
       "      <th>Intercept</th>\n",
       "      <th>Range</th>\n",
       "      <th>Accuracy OT</th>\n",
       "      <th>Accuracy SET</th>\n",
       "    </tr>\n",
       "  </thead>\n",
       "  <tbody>\n",
       "    <tr>\n",
       "      <th>270</th>\n",
       "      <td>21.5</td>\n",
       "      <td>5.0</td>\n",
       "      <td>0.568822</td>\n",
       "      <td>0.570076</td>\n",
       "    </tr>\n",
       "  </tbody>\n",
       "</table>\n",
       "</div>"
      ],
      "text/plain": [
       "     Intercept  Range  Accuracy OT  Accuracy SET\n",
       "270       21.5    5.0     0.568822      0.570076"
      ]
     },
     "execution_count": 93,
     "metadata": {},
     "output_type": "execute_result"
    }
   ],
   "source": [
    "# select the row that has the highest accuracy\n",
    "results_df[results_df['Accuracy SET'] == results_df['Accuracy SET'].max()]"
   ]
  },
  {
   "cell_type": "markdown",
   "metadata": {},
   "source": [
    "try optimize the slope of SET"
   ]
  },
  {
   "cell_type": "code",
   "execution_count": 95,
   "metadata": {},
   "outputs": [],
   "source": [
    "# create a new dataframe from df_data, that has all building id in df_bldg_nv_a\n",
    "df_data_3 = df_data_2\n",
    "results = []\n",
    "\n",
    "for s in np.arange(0.1, 1.1, 0.1):\n",
    "    slope_3 = s\n",
    "    for i in np.arange(15, 35, 0.1):\n",
    "        intercept_3 = i\n",
    "        for j in np.arange(10, 0, -0.1):\n",
    "            range_3 = j\n",
    "            df_data_3['up_limit'] = slope_3 * df_data_3['t_out_combined'] + intercept_3 + range_3/2\n",
    "            df_data_3['low_limit'] = slope_3 * df_data_3['t_out_combined'] + intercept_3 - range_3/2\n",
    "            \n",
    "            df_data_3['accurate_prediction_SET'] = np.where(\n",
    "                # Case 1: Comfortable when within range\n",
    "                ((df_data_3['thermal_sensation'] >= -0.85) & \n",
    "                (df_data_3['thermal_sensation'] <= 0.85) & \n",
    "                (df_data_3['set'] >= df_data_3['low_limit']) & \n",
    "                (df_data_3['set'] <= df_data_3['up_limit'])) |\n",
    "                # Case 2: Uncomfortable when out of range\n",
    "                ((df_data_3['thermal_sensation'] < -0.85) | \n",
    "                (df_data_3['thermal_sensation'] > 0.85)) & \n",
    "                ((df_data_3['set'] < df_data_3['low_limit']) | \n",
    "                (df_data_3['set'] > df_data_3['up_limit'])),\n",
    "                1,  # Accurate prediction\n",
    "                0)   # Inaccurate prediction\n",
    "            \n",
    "            # count the number of rows that have within_range == 1\n",
    "            accuracy = len(df_data_3[df_data_3['accurate_prediction'] == 1])/len(df_data_3)\n",
    "            accuracy_SET = len(df_data_3[df_data_3['accurate_prediction_SET'] == 1])/len(df_data_3)\n",
    "            results.append({'Slope': slope_3, 'Intercept': intercept_3, 'Range': range_3, 'Accuracy OT': accuracy, 'Accuracy SET': accuracy_SET})\n",
    "            \n",
    "# Convert the results list to a DataFrame\n",
    "results_df = pd.DataFrame(results)"
   ]
  },
  {
   "cell_type": "code",
   "execution_count": 98,
   "metadata": {},
   "outputs": [
    {
     "data": {
      "text/html": [
       "<div>\n",
       "<style scoped>\n",
       "    .dataframe tbody tr th:only-of-type {\n",
       "        vertical-align: middle;\n",
       "    }\n",
       "\n",
       "    .dataframe tbody tr th {\n",
       "        vertical-align: top;\n",
       "    }\n",
       "\n",
       "    .dataframe thead th {\n",
       "        text-align: right;\n",
       "    }\n",
       "</style>\n",
       "<table border=\"1\" class=\"dataframe\">\n",
       "  <thead>\n",
       "    <tr style=\"text-align: right;\">\n",
       "      <th></th>\n",
       "      <th>Slope</th>\n",
       "      <th>Intercept</th>\n",
       "      <th>Range</th>\n",
       "      <th>Accuracy OT</th>\n",
       "      <th>Accuracy SET</th>\n",
       "    </tr>\n",
       "  </thead>\n",
       "  <tbody>\n",
       "    <tr>\n",
       "      <th>186551</th>\n",
       "      <td>1.0</td>\n",
       "      <td>21.5</td>\n",
       "      <td>4.9</td>\n",
       "      <td>0.568214</td>\n",
       "      <td>0.570114</td>\n",
       "    </tr>\n",
       "    <tr>\n",
       "      <th>186648</th>\n",
       "      <td>1.0</td>\n",
       "      <td>21.6</td>\n",
       "      <td>5.2</td>\n",
       "      <td>0.568214</td>\n",
       "      <td>0.570114</td>\n",
       "    </tr>\n",
       "    <tr>\n",
       "      <th>186649</th>\n",
       "      <td>1.0</td>\n",
       "      <td>21.6</td>\n",
       "      <td>5.1</td>\n",
       "      <td>0.568214</td>\n",
       "      <td>0.570114</td>\n",
       "    </tr>\n",
       "    <tr>\n",
       "      <th>186650</th>\n",
       "      <td>1.0</td>\n",
       "      <td>21.6</td>\n",
       "      <td>5.0</td>\n",
       "      <td>0.568214</td>\n",
       "      <td>0.570114</td>\n",
       "    </tr>\n",
       "  </tbody>\n",
       "</table>\n",
       "</div>"
      ],
      "text/plain": [
       "        Slope  Intercept  Range  Accuracy OT  Accuracy SET\n",
       "186551    1.0       21.5    4.9     0.568214      0.570114\n",
       "186648    1.0       21.6    5.2     0.568214      0.570114\n",
       "186649    1.0       21.6    5.1     0.568214      0.570114\n",
       "186650    1.0       21.6    5.0     0.568214      0.570114"
      ]
     },
     "execution_count": 98,
     "metadata": {},
     "output_type": "execute_result"
    }
   ],
   "source": [
    "results_df[results_df['Accuracy SET'] == results_df['Accuracy SET'].max()]"
   ]
  },
  {
   "cell_type": "code",
   "execution_count": null,
   "metadata": {},
   "outputs": [],
   "source": []
  }
 ],
 "metadata": {
  "kernelspec": {
   "display_name": "base",
   "language": "python",
   "name": "python3"
  },
  "language_info": {
   "codemirror_mode": {
    "name": "ipython",
    "version": 3
   },
   "file_extension": ".py",
   "mimetype": "text/x-python",
   "name": "python",
   "nbconvert_exporter": "python",
   "pygments_lexer": "ipython3",
   "version": "3.9.7"
  }
 },
 "nbformat": 4,
 "nbformat_minor": 2
}
