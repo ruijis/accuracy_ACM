{
 "cells": [
  {
   "cell_type": "code",
   "execution_count": 1,
   "metadata": {},
   "outputs": [],
   "source": [
    "import pandas as pd\n",
    "import numpy as np\n",
    "import seaborn as sns\n",
    "import matplotlib.pyplot as plt\n",
    "import statsmodels.api as sm\n",
    "import statsmodels.formula.api as smf"
   ]
  },
  {
   "cell_type": "markdown",
   "metadata": {},
   "source": [
    "# Data Preparation"
   ]
  },
  {
   "cell_type": "markdown",
   "metadata": {},
   "source": [
    "## Import ASHRAE Global Thermal Comfort Database 2"
   ]
  },
  {
   "cell_type": "code",
   "execution_count": 2,
   "metadata": {},
   "outputs": [
    {
     "name": "stdout",
     "output_type": "stream",
     "text": [
      "Total buildings: 809\n",
      "Total occupants: 109033\n"
     ]
    }
   ],
   "source": [
    "# Read metadata and data from Github\n",
    "df_meta = pd.read_csv(\"https://github.com/CenterForTheBuiltEnvironment/ashrae-db-II/raw/master/v2.1.0/db_metadata.csv\")\n",
    "df_measurements = pd.read_csv(\"https://github.com/CenterForTheBuiltEnvironment/ashrae-db-II/raw/master/v2.1.0/db_measurements_v2.1.0.csv.gz\", low_memory=False)\n",
    "# Merge metadata and measurement data by building_id\n",
    "df_rawdata = df_measurements.merge(df_meta[['building_id', 'city', 'building_type', 'cooling_type', 'records', 'database']], on='building_id', how='left')\n",
    "# Replace two outdoor temperature columns by a new column called t_out_combined\n",
    "df_rawdata.loc[:, 't_out_combined'] = df_rawdata.loc[:, 't_out_isd'].fillna(df_rawdata.loc[:, 't_out'])\n",
    "df_rawdata = df_rawdata.drop(columns=['t_out_isd', 't_out'])\n",
    "print('Total buildings:', len(df_rawdata.building_id.unique()))\n",
    "print('Total occupants:', len(df_rawdata))"
   ]
  },
  {
   "cell_type": "markdown",
   "metadata": {},
   "source": [
    "## Select concurrent Top, TSV, and Tout data"
   ]
  },
  {
   "cell_type": "code",
   "execution_count": 3,
   "metadata": {},
   "outputs": [
    {
     "name": "stdout",
     "output_type": "stream",
     "text": [
      "Buildings without missing data: 553\n",
      "Buildings occupants without missing data: 38467\n"
     ]
    }
   ],
   "source": [
    "df_data_1 = df_rawdata.dropna(subset=['top', 'thermal_sensation', 't_out_combined'])\n",
    "print(f'Buildings without missing data:', len(df_data_1['building_id'].unique()))\n",
    "print(f'Buildings occupants without missing data:', len(df_data_1))"
   ]
  },
  {
   "cell_type": "markdown",
   "metadata": {},
   "source": [
    "## Group data by building ID, with mean values"
   ]
  },
  {
   "cell_type": "code",
   "execution_count": 4,
   "metadata": {},
   "outputs": [
    {
     "data": {
      "text/html": [
       "<div>\n",
       "<style scoped>\n",
       "    .dataframe tbody tr th:only-of-type {\n",
       "        vertical-align: middle;\n",
       "    }\n",
       "\n",
       "    .dataframe tbody tr th {\n",
       "        vertical-align: top;\n",
       "    }\n",
       "\n",
       "    .dataframe thead th {\n",
       "        text-align: right;\n",
       "    }\n",
       "</style>\n",
       "<table border=\"1\" class=\"dataframe\">\n",
       "  <thead>\n",
       "    <tr style=\"text-align: right;\">\n",
       "      <th></th>\n",
       "      <th>building_id</th>\n",
       "      <th>t_out_combined</th>\n",
       "      <th>top</th>\n",
       "      <th>set</th>\n",
       "      <th>thermal_sensation</th>\n",
       "      <th>records</th>\n",
       "      <th>cooling_type</th>\n",
       "      <th>building_type</th>\n",
       "      <th>database</th>\n",
       "    </tr>\n",
       "  </thead>\n",
       "  <tbody>\n",
       "    <tr>\n",
       "      <th>0</th>\n",
       "      <td>1</td>\n",
       "      <td>15.296857</td>\n",
       "      <td>23.239679</td>\n",
       "      <td>25.454225</td>\n",
       "      <td>0.627219</td>\n",
       "      <td>170</td>\n",
       "      <td>Mixed Mode</td>\n",
       "      <td>office</td>\n",
       "      <td>1.0</td>\n",
       "    </tr>\n",
       "    <tr>\n",
       "      <th>1</th>\n",
       "      <td>2</td>\n",
       "      <td>13.995833</td>\n",
       "      <td>22.283912</td>\n",
       "      <td>23.616000</td>\n",
       "      <td>-0.072289</td>\n",
       "      <td>83</td>\n",
       "      <td>Air Conditioned</td>\n",
       "      <td>office</td>\n",
       "      <td>1.0</td>\n",
       "    </tr>\n",
       "    <tr>\n",
       "      <th>2</th>\n",
       "      <td>3</td>\n",
       "      <td>0.583480</td>\n",
       "      <td>23.178237</td>\n",
       "      <td>23.694118</td>\n",
       "      <td>0.252941</td>\n",
       "      <td>85</td>\n",
       "      <td>Air Conditioned</td>\n",
       "      <td>office</td>\n",
       "      <td>1.0</td>\n",
       "    </tr>\n",
       "    <tr>\n",
       "      <th>3</th>\n",
       "      <td>4</td>\n",
       "      <td>19.280947</td>\n",
       "      <td>23.973630</td>\n",
       "      <td>24.164706</td>\n",
       "      <td>0.103704</td>\n",
       "      <td>137</td>\n",
       "      <td>Mixed Mode</td>\n",
       "      <td>office</td>\n",
       "      <td>1.0</td>\n",
       "    </tr>\n",
       "    <tr>\n",
       "      <th>4</th>\n",
       "      <td>5</td>\n",
       "      <td>9.048210</td>\n",
       "      <td>22.095310</td>\n",
       "      <td>22.271875</td>\n",
       "      <td>-0.063281</td>\n",
       "      <td>128</td>\n",
       "      <td>Air Conditioned</td>\n",
       "      <td>office</td>\n",
       "      <td>1.0</td>\n",
       "    </tr>\n",
       "  </tbody>\n",
       "</table>\n",
       "</div>"
      ],
      "text/plain": [
       "   building_id  t_out_combined        top        set  thermal_sensation   \n",
       "0            1       15.296857  23.239679  25.454225           0.627219  \\\n",
       "1            2       13.995833  22.283912  23.616000          -0.072289   \n",
       "2            3        0.583480  23.178237  23.694118           0.252941   \n",
       "3            4       19.280947  23.973630  24.164706           0.103704   \n",
       "4            5        9.048210  22.095310  22.271875          -0.063281   \n",
       "\n",
       "   records     cooling_type building_type  database  \n",
       "0      170       Mixed Mode        office       1.0  \n",
       "1       83  Air Conditioned        office       1.0  \n",
       "2       85  Air Conditioned        office       1.0  \n",
       "3      137       Mixed Mode        office       1.0  \n",
       "4      128  Air Conditioned        office       1.0  "
      ]
     },
     "execution_count": 4,
     "metadata": {},
     "output_type": "execute_result"
    }
   ],
   "source": [
    "# Group by 'building_id' and calculate the mean for all these columns at once\n",
    "df_data_mean = df_data_1.groupby('building_id')[['t_out_combined', 'top', 'set', 'thermal_sensation']].mean()\n",
    "# Reset the index of df_data_mean to make 'building_id' a column again\n",
    "df_data_mean.reset_index(inplace=True)\n",
    "# Merge df_data_mean with the metadata\n",
    "df_bldg = df_data_mean.merge(df_meta[['building_id', 'records', 'cooling_type', 'building_type', 'database']], on='building_id', how='left')\n",
    "# Reset the building cooling type as string\n",
    "df_bldg['cooling_type'] = df_bldg['cooling_type'].str.title()\n",
    "df_bldg.head()"
   ]
  },
  {
   "cell_type": "markdown",
   "metadata": {},
   "source": [
    "# First Stage of ACM II"
   ]
  },
  {
   "cell_type": "markdown",
   "metadata": {},
   "source": [
    "## Estimate neutral temperature and 80% comfort zone for each building"
   ]
  },
  {
   "cell_type": "code",
   "execution_count": 5,
   "metadata": {},
   "outputs": [],
   "source": [
    "def regression_op_a(data_bldg):\n",
    "    \"\"\"\n",
    "    TSV = a * top + b\n",
    "    Regressing Thermal Sensation Vote (TSV) against indoor operative temperature (top).    \n",
    "    Use the regression model to derive the neutral temperature by letting TSV equals 0.\n",
    "    The upper and lower limit of 80% comfort zone are derived by letting TSV equals +-0.85.\n",
    "    \"\"\"\n",
    "    lm_result = smf.ols(formula='thermal_sensation ~ top', data=data_bldg).fit()\n",
    "    slope = lm_result.params['top']\n",
    "    intercept = lm_result.params['Intercept']\n",
    "    # check whether the slope is significant\n",
    "    if lm_result.pvalues['top'] < 0.05:\n",
    "        a = slope\n",
    "        b = intercept\n",
    "        temp_n = -b / a\n",
    "        temp_up = (0.85-b)/a\n",
    "        temp_low = (-0.85-b)/a\n",
    "        return [slope, intercept, temp_n, temp_up, temp_low]\n",
    "    else:\n",
    "        return [np.nan] * 5  # Return NaNs if the slope is not significant\n"
   ]
  },
  {
   "cell_type": "code",
   "execution_count": 6,
   "metadata": {},
   "outputs": [],
   "source": [
    "df_bldg_1 = df_bldg.copy()\n",
    "# Apply the function to each group of df_data_1 grouped by 'building_id'\n",
    "grouped_results = df_data_1.groupby('building_id').apply(regression_op_a)\n",
    "# Convert the grouped results into a DataFrame with appropriate column names\n",
    "results_df = pd.DataFrame(grouped_results.tolist(), index=grouped_results.index, columns=['slope', 'intercept', 'temp_n', 'temp_up', 'temp_low'])\n",
    "# Merge the results back into df_bldg_1\n",
    "df_bldg_1 = df_bldg_1.merge(results_df, left_on='building_id', right_index=True, how='left')"
   ]
  },
  {
   "cell_type": "markdown",
   "metadata": {},
   "source": [
    "## Select NV office buildings that achieve significant models"
   ]
  },
  {
   "cell_type": "code",
   "execution_count": 7,
   "metadata": {},
   "outputs": [
    {
     "name": "stdout",
     "output_type": "stream",
     "text": [
      "NV office buildings with significant models: 51\n"
     ]
    }
   ],
   "source": [
    "# Get rid of all nan values in the temp_n column\n",
    "df_bldg_1_sig = df_bldg_1[~df_bldg_1['temp_n'].isna()]\n",
    "df_bldg_1_sig_NV = df_bldg_1_sig[df_bldg_1_sig['cooling_type'] == 'Naturally Ventilated'].copy()\n",
    "df_bldg_1_sig_NV_office = df_bldg_1_sig_NV[df_bldg_1_sig_NV['building_type'] == 'office'].copy()\n",
    "print(\"NV office buildings with significant models:\", len(df_bldg_1_sig_NV_office))"
   ]
  },
  {
   "cell_type": "markdown",
   "metadata": {},
   "source": [
    "## Remove unreasonable neutral temperature estimation resutls"
   ]
  },
  {
   "cell_type": "code",
   "execution_count": 8,
   "metadata": {},
   "outputs": [
    {
     "data": {
      "text/html": [
       "<div>\n",
       "<style scoped>\n",
       "    .dataframe tbody tr th:only-of-type {\n",
       "        vertical-align: middle;\n",
       "    }\n",
       "\n",
       "    .dataframe tbody tr th {\n",
       "        vertical-align: top;\n",
       "    }\n",
       "\n",
       "    .dataframe thead th {\n",
       "        text-align: right;\n",
       "    }\n",
       "</style>\n",
       "<table border=\"1\" class=\"dataframe\">\n",
       "  <thead>\n",
       "    <tr style=\"text-align: right;\">\n",
       "      <th></th>\n",
       "      <th>building_id</th>\n",
       "      <th>t_out_combined</th>\n",
       "      <th>top</th>\n",
       "      <th>set</th>\n",
       "      <th>thermal_sensation</th>\n",
       "      <th>records</th>\n",
       "      <th>cooling_type</th>\n",
       "      <th>building_type</th>\n",
       "      <th>database</th>\n",
       "      <th>slope</th>\n",
       "      <th>intercept</th>\n",
       "      <th>temp_n</th>\n",
       "      <th>temp_up</th>\n",
       "      <th>temp_low</th>\n",
       "    </tr>\n",
       "  </thead>\n",
       "  <tbody>\n",
       "    <tr>\n",
       "      <th>154</th>\n",
       "      <td>155</td>\n",
       "      <td>27.579167</td>\n",
       "      <td>26.860208</td>\n",
       "      <td>NaN</td>\n",
       "      <td>-0.25</td>\n",
       "      <td>20</td>\n",
       "      <td>Naturally Ventilated</td>\n",
       "      <td>office</td>\n",
       "      <td>1.0</td>\n",
       "      <td>-0.009295</td>\n",
       "      <td>-0.000346</td>\n",
       "      <td>-0.03723</td>\n",
       "      <td>-91.488518</td>\n",
       "      <td>91.414058</td>\n",
       "    </tr>\n",
       "  </tbody>\n",
       "</table>\n",
       "</div>"
      ],
      "text/plain": [
       "     building_id  t_out_combined        top  set  thermal_sensation  records   \n",
       "154          155       27.579167  26.860208  NaN              -0.25       20  \\\n",
       "\n",
       "             cooling_type building_type  database     slope  intercept   \n",
       "154  Naturally Ventilated        office       1.0 -0.009295  -0.000346  \\\n",
       "\n",
       "      temp_n    temp_up   temp_low  \n",
       "154 -0.03723 -91.488518  91.414058  "
      ]
     },
     "execution_count": 8,
     "metadata": {},
     "output_type": "execute_result"
    }
   ],
   "source": [
    "# Plot t_out_combined and temp_n data points in df_bldg_1_sig_NV_office\n",
    "# sns.scatterplot(data=df_bldg_1_sig_NV_office, x='t_out_combined', y='temp_n')\n",
    "# Identifiy outliers of temp_n\n",
    "outliers = df_bldg_1_sig_NV_office[(df_bldg_1_sig_NV_office['temp_n'] < 0)]\n",
    "# remove the outliers\n",
    "df_ACM = df_bldg_1_sig_NV_office.drop(outliers.index)\n",
    "outliers"
   ]
  },
  {
   "cell_type": "markdown",
   "metadata": {},
   "source": [
    "# Second Stage of ACM II"
   ]
  },
  {
   "cell_type": "markdown",
   "metadata": {},
   "source": [
    "## Conduct weighted linear regression"
   ]
  },
  {
   "cell_type": "code",
   "execution_count": 9,
   "metadata": {},
   "outputs": [],
   "source": [
    "def weighted_reg(x, y, weights):\n",
    "    X = sm.add_constant(x)\n",
    "    model = sm.WLS(y, X, weights=weights).fit()\n",
    "    intercept, slope = model.params\n",
    "    print('p value: {:.3f}'.format(model.pvalues[1]))\n",
    "    print('MSE: {:.1f}'.format(np.mean(model.resid ** 2)))\n",
    "    print('RMSE: {:.1f}'.format(np.sqrt(np.mean(model.resid ** 2))))\n",
    "    print(model.summary())\n",
    "    return intercept, slope"
   ]
  },
  {
   "cell_type": "code",
   "execution_count": 10,
   "metadata": {},
   "outputs": [
    {
     "name": "stdout",
     "output_type": "stream",
     "text": [
      "p value: 0.000\n",
      "MSE: 3.6\n",
      "RMSE: 1.9\n",
      "                            WLS Regression Results                            \n",
      "==============================================================================\n",
      "Dep. Variable:                 temp_n   R-squared:                       0.502\n",
      "Model:                            WLS   Adj. R-squared:                  0.491\n",
      "Method:                 Least Squares   F-statistic:                     48.35\n",
      "Date:                Mon, 12 Feb 2024   Prob (F-statistic):           8.67e-09\n",
      "Time:                        12:11:46   Log-Likelihood:                -102.43\n",
      "No. Observations:                  50   AIC:                             208.9\n",
      "Df Residuals:                      48   BIC:                             212.7\n",
      "Df Model:                           1                                         \n",
      "Covariance Type:            nonrobust                                         \n",
      "==================================================================================\n",
      "                     coef    std err          t      P>|t|      [0.025      0.975]\n",
      "----------------------------------------------------------------------------------\n",
      "const             19.1876      0.792     24.236      0.000      17.596      20.779\n",
      "t_out_combined     0.2460      0.035      6.953      0.000       0.175       0.317\n",
      "==============================================================================\n",
      "Omnibus:                        2.615   Durbin-Watson:                   1.780\n",
      "Prob(Omnibus):                  0.270   Jarque-Bera (JB):                1.654\n",
      "Skew:                           0.315   Prob(JB):                        0.437\n",
      "Kurtosis:                       3.630   Cond. No.                         79.5\n",
      "==============================================================================\n",
      "\n",
      "Notes:\n",
      "[1] Standard Errors assume that the covariance matrix of the errors is correctly specified.\n",
      "******************************************************************************\n",
      "ACM regression line slope: 0.25\n",
      "ACM regression line intercept: 19.19\n",
      "ACM 80% comfort zone: 7.77\n"
     ]
    }
   ],
   "source": [
    "intercept, slope = weighted_reg(df_ACM['t_out_combined'], df_ACM['temp_n'], df_ACM['records'])\n",
    "# print the fitted line slope and intercept\n",
    "print(\"******************************************************************************\")\n",
    "print('ACM regression line slope: {:.2f}'.format(slope))\n",
    "print('ACM regression line intercept: {:.2f}'.format(intercept))\n",
    "# calculate the mean range of 80% comfort zone\n",
    "range = df_ACM['temp_up'].mean() - df_ACM['temp_low'].mean()\n",
    "print('ACM 80% comfort zone: {:.2f}'.format(range))"
   ]
  },
  {
   "cell_type": "markdown",
   "metadata": {},
   "source": [
    "## Plot resulting ACM II"
   ]
  },
  {
   "cell_type": "code",
   "execution_count": 11,
   "metadata": {},
   "outputs": [
    {
     "data": {
      "image/png": "[encoded data removed]",
      "text/plain": [
       "<Figure size 500x300 with 1 Axes>"
      ]
     },
     "metadata": {},
     "output_type": "display_data"
    }
   ],
   "source": [
    "# sort the data points by t_out_combined\n",
    "t_out = np.array(df_ACM['t_out_combined'])\n",
    "t_out = t_out[np.argsort(t_out)]\n",
    "middle_line = slope * t_out + intercept\n",
    "up_line = slope * t_out + intercept + range/2\n",
    "low_line = slope * t_out + intercept - range/2\n",
    "\n",
    "middle_ASHRAE = 0.31 * t_out + 17.8\n",
    "up_ASHRAE = 0.31 * t_out + 17.8 + 3.5\n",
    "low_ASHRAE = 0.31 * t_out + 17.8 - 3.5\n",
    "\n",
    "# plot data points\n",
    "plt.figure(figsize=(5, 3))\n",
    "sns.regplot(x='t_out_combined', y='temp_n', data=df_ACM, fit_reg=False, scatter_kws={'color': 'green'})\n",
    "plt.plot(t_out, middle_line, color='black', linewidth=2)\n",
    "plt.plot(t_out, up_line, color='black', linewidth=2, linestyle='--', dashes=(5, 5))\n",
    "plt.plot(t_out, low_line, color='black', linewidth=2, linestyle='--', dashes=(5, 5))\n",
    "\n",
    "# plt.plot(t_out, middle_ASHRAE, color='grey', linewidth=1)\n",
    "plt.plot(t_out, up_ASHRAE, color='grey', linewidth=1, linestyle='--', dashes=(5, 5))\n",
    "plt.plot(t_out, low_ASHRAE, color='grey', linewidth=1, linestyle='--', dashes=(5, 5))\n",
    "\n",
    "plt.xlabel('', fontsize=20)\n",
    "plt.ylabel('', fontsize=20)\n",
    "plt.xticks(np.arange(5, 33, 5), fontsize=20)\n",
    "plt.yticks(np.arange(17, 33, 3), fontsize=20)\n",
    "plt.ylim(16, 33)\n",
    "plt.grid(False)\n",
    "plt.rcParams['font.family'] = 'Arial'\n",
    "# show grey and black color legend\n",
    "plt.plot([], [], color='grey', linewidth=1, linestyle='--', label='ASHRAE ACM')\n",
    "plt.plot([], [], color='black', linewidth=2, linestyle='--', label='ACM II')\n",
    "# show legend on top of the graph\n",
    "# plt.legend(loc='upper center', bbox_to_anchor=(0.4, 1.3), ncol=2, fontsize=20)\n",
    "plt.savefig('figs/fig_ACM_Top.pdf', format='pdf', bbox_inches='tight')"
   ]
  },
  {
   "cell_type": "markdown",
   "metadata": {},
   "source": [
    "# Evidence 1:"
   ]
  },
  {
   "cell_type": "code",
   "execution_count": 81,
   "metadata": {},
   "outputs": [],
   "source": [
    "def accuracy(slope, intercept, range, df, temp):\n",
    "    \"\"\"\n",
    "    Calculate the accuracy of a ACM model based on the df, using a calssification method.\n",
    "    Count the percentage of 1 over total records in df as the prediction accuracy.\n",
    "    \"\"\"\n",
    "    df['count_1'] = np.where(\n",
    "        # Wrong: predict warm when temp lower the range\n",
    "        ((df.thermal_sensation > 0.85) & (df[temp] < df.t_out_combined * slope + intercept - range/2)), 1, 0)   \n",
    "    df['count_2'] = np.where(\n",
    "        # Wrong: predict warm when temp witn the range\n",
    "        ((df[temp] >= df.t_out_combined * slope + intercept - range/2) & \n",
    "        (df[temp] <= df.t_out_combined * slope + intercept + range/2) &\n",
    "        (df.thermal_sensation > 0.85)), 1, 0)   \n",
    "    df['count_3'] = np.where(\n",
    "        # Correct: predict warm when temp higher the range\n",
    "        ((df.thermal_sensation > 0.85) & (df[temp] > df.t_out_combined * slope + intercept + range/2)), 1, 0)   \n",
    "    df['count_4'] = np.where(\n",
    "        # Wrong: predict comfortable when temp lower range\n",
    "        ((df.thermal_sensation >= -0.85) & \n",
    "        (df.thermal_sensation <= 0.85) & \n",
    "        (df[temp] <= df.t_out_combined * slope + intercept - range/2)), 1, 0)       \n",
    "    df['count_5'] = np.where(\n",
    "        # Correct: predict comfortable when within range\n",
    "        ((df.thermal_sensation >= -0.85) & \n",
    "        (df.thermal_sensation <= 0.85) & \n",
    "        (df[temp] >= df.t_out_combined * slope + intercept - range/2) & \n",
    "        (df[temp] <= df.t_out_combined * slope + intercept + range/2)), 1, 0)   \n",
    "    df['count_6'] = np.where(\n",
    "        # Wrong: predict comfortable when temp higher range\n",
    "        ((df.thermal_sensation >= -0.85) & \n",
    "        (df.thermal_sensation <= 0.85) & \n",
    "        (df[temp] >= df.t_out_combined * slope + intercept + range/2)), 1, 0)      \n",
    "    df['count_7'] = np.where(\n",
    "        # Correct: predict cool when lower the range\n",
    "        ((df.thermal_sensation < -0.85) & (df[temp] < df.t_out_combined * slope + intercept - range/2)), 1, 0)   \n",
    "    df['count_8'] = np.where(\n",
    "        # Wrong: predict cool when witn the range\n",
    "        ((df[temp] >= df.t_out_combined * slope + intercept - range/2) & \n",
    "        (df[temp] <= df.t_out_combined * slope + intercept + range/2) &\n",
    "        (df.thermal_sensation < -0.85)), 1, 0)\n",
    "    df['count_9'] = np.where(\n",
    "        # Wrong: predict cool when temp higher the range\n",
    "        ((df[temp] >= df.t_out_combined * slope + intercept + range/2) &\n",
    "        (df.thermal_sensation < -0.85)), 1, 0)\n",
    "    # add all the counts and divide by total records\n",
    "    percent = (df.count_3 + df.count_5 + df.count_7).sum() / len(df)\n",
    "    print(\"total records: \", len(df))\n",
    "    for i in [1, 2, 3, 4, 5, 6, 7, 8, 9]:  # Now 'range' can be used as intended, as the built-in function\n",
    "        print(i, df[f'count_{i}'].sum())\n",
    "    return percent"
   ]
  },
  {
   "cell_type": "markdown",
   "metadata": {},
   "source": [
    "## Prepare data for prediction accuracy"
   ]
  },
  {
   "cell_type": "code",
   "execution_count": 74,
   "metadata": {},
   "outputs": [
    {
     "name": "stdout",
     "output_type": "stream",
     "text": [
      "NV buildings without missing data: 216\n",
      "NV building occupants without missing data: 19685\n",
      "NV office buildings without missing data: 67\n",
      "NV office building occupants without missing data: 15330\n"
     ]
    }
   ],
   "source": [
    "# Reset the building cooling type as string, ensuring direct modification of the DataFrame\n",
    "df_data_1 = df_data_1.copy()\n",
    "df_data_1['cooling_type'] = df_data_1['cooling_type'].str.title()\n",
    "\n",
    "# Filter for office buildings with naturally ventilated cooling\n",
    "df_bldg_1_NV = df_bldg_1[df_bldg_1['cooling_type'] == 'Naturally Ventilated']\n",
    "df_data_1_NV = df_data_1[df_data_1['cooling_type'] == 'Naturally Ventilated']\n",
    "print(f'NV buildings without missing data:', len(df_bldg_1_NV))\n",
    "print(f'NV building occupants without missing data:', len(df_data_1_NV))\n",
    "\n",
    "# Filter for office buildings with naturally ventilated cooling\n",
    "df_bldg_1_NV_office = df_bldg_1_NV[df_bldg_1_NV['building_type'] == 'office']\n",
    "df_data_1_NV_office = df_data_1_NV[df_data_1_NV['building_type'] == 'office']\n",
    "print(f'NV office buildings without missing data:', len(df_bldg_1_NV_office))\n",
    "print(f'NV office building occupants without missing data:', len(df_data_1_NV_office))"
   ]
  },
  {
   "cell_type": "markdown",
   "metadata": {},
   "source": [
    "## ASHRAE ACM prediction accuracy"
   ]
  },
  {
   "cell_type": "code",
   "execution_count": 82,
   "metadata": {},
   "outputs": [
    {
     "name": "stdout",
     "output_type": "stream",
     "text": [
      "total records:  19685\n",
      "1 22\n",
      "2 4961\n",
      "3 2912\n",
      "4 442\n",
      "5 6120\n",
      "6 1382\n",
      "7 840\n",
      "8 2825\n",
      "9 181\n",
      "All TSV prediction accraucy, NV building: 50 %\n",
      "total records:  15330\n",
      "1 14\n",
      "2 3621\n",
      "3 2435\n",
      "4 319\n",
      "5 4967\n",
      "6 1069\n",
      "7 757\n",
      "8 2039\n",
      "9 109\n",
      "All TSV prediction accraucy, NV office building: 53 %\n",
      "total records:  216\n",
      "1 0\n",
      "2 17\n",
      "3 16\n",
      "4 6\n",
      "5 100\n",
      "6 53\n",
      "7 2\n",
      "8 20\n",
      "9 2\n",
      "Mean TSV prediction accraucy, NV building: 55 %\n",
      "total records:  67\n",
      "1 0\n",
      "2 11\n",
      "3 6\n",
      "4 2\n",
      "5 40\n",
      "6 6\n",
      "7 1\n",
      "8 1\n",
      "9 0\n",
      "Mean TSV prediction accraucy, NV office building: 70 %\n"
     ]
    },
    {
     "name": "stderr",
     "output_type": "stream",
     "text": [
      "/var/folders/kr/_5c1r8bn52xbpgz96ksrtrj80000gn/T/ipykernel_6798/3604379781.py:6: SettingWithCopyWarning: \n",
      "A value is trying to be set on a copy of a slice from a DataFrame.\n",
      "Try using .loc[row_indexer,col_indexer] = value instead\n",
      "\n",
      "See the caveats in the documentation: https://pandas.pydata.org/pandas-docs/stable/user_guide/indexing.html#returning-a-view-versus-a-copy\n",
      "  df['count_1'] = np.where(\n",
      "/var/folders/kr/_5c1r8bn52xbpgz96ksrtrj80000gn/T/ipykernel_6798/3604379781.py:9: SettingWithCopyWarning: \n",
      "A value is trying to be set on a copy of a slice from a DataFrame.\n",
      "Try using .loc[row_indexer,col_indexer] = value instead\n",
      "\n",
      "See the caveats in the documentation: https://pandas.pydata.org/pandas-docs/stable/user_guide/indexing.html#returning-a-view-versus-a-copy\n",
      "  df['count_2'] = np.where(\n",
      "/var/folders/kr/_5c1r8bn52xbpgz96ksrtrj80000gn/T/ipykernel_6798/3604379781.py:14: SettingWithCopyWarning: \n",
      "A value is trying to be set on a copy of a slice from a DataFrame.\n",
      "Try using .loc[row_indexer,col_indexer] = value instead\n",
      "\n",
      "See the caveats in the documentation: https://pandas.pydata.org/pandas-docs/stable/user_guide/indexing.html#returning-a-view-versus-a-copy\n",
      "  df['count_3'] = np.where(\n",
      "/var/folders/kr/_5c1r8bn52xbpgz96ksrtrj80000gn/T/ipykernel_6798/3604379781.py:17: SettingWithCopyWarning: \n",
      "A value is trying to be set on a copy of a slice from a DataFrame.\n",
      "Try using .loc[row_indexer,col_indexer] = value instead\n",
      "\n",
      "See the caveats in the documentation: https://pandas.pydata.org/pandas-docs/stable/user_guide/indexing.html#returning-a-view-versus-a-copy\n",
      "  df['count_4'] = np.where(\n",
      "/var/folders/kr/_5c1r8bn52xbpgz96ksrtrj80000gn/T/ipykernel_6798/3604379781.py:22: SettingWithCopyWarning: \n",
      "A value is trying to be set on a copy of a slice from a DataFrame.\n",
      "Try using .loc[row_indexer,col_indexer] = value instead\n",
      "\n",
      "See the caveats in the documentation: https://pandas.pydata.org/pandas-docs/stable/user_guide/indexing.html#returning-a-view-versus-a-copy\n",
      "  df['count_5'] = np.where(\n",
      "/var/folders/kr/_5c1r8bn52xbpgz96ksrtrj80000gn/T/ipykernel_6798/3604379781.py:28: SettingWithCopyWarning: \n",
      "A value is trying to be set on a copy of a slice from a DataFrame.\n",
      "Try using .loc[row_indexer,col_indexer] = value instead\n",
      "\n",
      "See the caveats in the documentation: https://pandas.pydata.org/pandas-docs/stable/user_guide/indexing.html#returning-a-view-versus-a-copy\n",
      "  df['count_6'] = np.where(\n",
      "/var/folders/kr/_5c1r8bn52xbpgz96ksrtrj80000gn/T/ipykernel_6798/3604379781.py:33: SettingWithCopyWarning: \n",
      "A value is trying to be set on a copy of a slice from a DataFrame.\n",
      "Try using .loc[row_indexer,col_indexer] = value instead\n",
      "\n",
      "See the caveats in the documentation: https://pandas.pydata.org/pandas-docs/stable/user_guide/indexing.html#returning-a-view-versus-a-copy\n",
      "  df['count_7'] = np.where(\n",
      "/var/folders/kr/_5c1r8bn52xbpgz96ksrtrj80000gn/T/ipykernel_6798/3604379781.py:36: SettingWithCopyWarning: \n",
      "A value is trying to be set on a copy of a slice from a DataFrame.\n",
      "Try using .loc[row_indexer,col_indexer] = value instead\n",
      "\n",
      "See the caveats in the documentation: https://pandas.pydata.org/pandas-docs/stable/user_guide/indexing.html#returning-a-view-versus-a-copy\n",
      "  df['count_8'] = np.where(\n",
      "/var/folders/kr/_5c1r8bn52xbpgz96ksrtrj80000gn/T/ipykernel_6798/3604379781.py:41: SettingWithCopyWarning: \n",
      "A value is trying to be set on a copy of a slice from a DataFrame.\n",
      "Try using .loc[row_indexer,col_indexer] = value instead\n",
      "\n",
      "See the caveats in the documentation: https://pandas.pydata.org/pandas-docs/stable/user_guide/indexing.html#returning-a-view-versus-a-copy\n",
      "  df['count_9'] = np.where(\n",
      "/var/folders/kr/_5c1r8bn52xbpgz96ksrtrj80000gn/T/ipykernel_6798/3604379781.py:6: SettingWithCopyWarning: \n",
      "A value is trying to be set on a copy of a slice from a DataFrame.\n",
      "Try using .loc[row_indexer,col_indexer] = value instead\n",
      "\n",
      "See the caveats in the documentation: https://pandas.pydata.org/pandas-docs/stable/user_guide/indexing.html#returning-a-view-versus-a-copy\n",
      "  df['count_1'] = np.where(\n",
      "/var/folders/kr/_5c1r8bn52xbpgz96ksrtrj80000gn/T/ipykernel_6798/3604379781.py:9: SettingWithCopyWarning: \n",
      "A value is trying to be set on a copy of a slice from a DataFrame.\n",
      "Try using .loc[row_indexer,col_indexer] = value instead\n",
      "\n",
      "See the caveats in the documentation: https://pandas.pydata.org/pandas-docs/stable/user_guide/indexing.html#returning-a-view-versus-a-copy\n",
      "  df['count_2'] = np.where(\n",
      "/var/folders/kr/_5c1r8bn52xbpgz96ksrtrj80000gn/T/ipykernel_6798/3604379781.py:14: SettingWithCopyWarning: \n",
      "A value is trying to be set on a copy of a slice from a DataFrame.\n",
      "Try using .loc[row_indexer,col_indexer] = value instead\n",
      "\n",
      "See the caveats in the documentation: https://pandas.pydata.org/pandas-docs/stable/user_guide/indexing.html#returning-a-view-versus-a-copy\n",
      "  df['count_3'] = np.where(\n",
      "/var/folders/kr/_5c1r8bn52xbpgz96ksrtrj80000gn/T/ipykernel_6798/3604379781.py:17: SettingWithCopyWarning: \n",
      "A value is trying to be set on a copy of a slice from a DataFrame.\n",
      "Try using .loc[row_indexer,col_indexer] = value instead\n",
      "\n",
      "See the caveats in the documentation: https://pandas.pydata.org/pandas-docs/stable/user_guide/indexing.html#returning-a-view-versus-a-copy\n",
      "  df['count_4'] = np.where(\n",
      "/var/folders/kr/_5c1r8bn52xbpgz96ksrtrj80000gn/T/ipykernel_6798/3604379781.py:22: SettingWithCopyWarning: \n",
      "A value is trying to be set on a copy of a slice from a DataFrame.\n",
      "Try using .loc[row_indexer,col_indexer] = value instead\n",
      "\n",
      "See the caveats in the documentation: https://pandas.pydata.org/pandas-docs/stable/user_guide/indexing.html#returning-a-view-versus-a-copy\n",
      "  df['count_5'] = np.where(\n",
      "/var/folders/kr/_5c1r8bn52xbpgz96ksrtrj80000gn/T/ipykernel_6798/3604379781.py:28: SettingWithCopyWarning: \n",
      "A value is trying to be set on a copy of a slice from a DataFrame.\n",
      "Try using .loc[row_indexer,col_indexer] = value instead\n",
      "\n",
      "See the caveats in the documentation: https://pandas.pydata.org/pandas-docs/stable/user_guide/indexing.html#returning-a-view-versus-a-copy\n",
      "  df['count_6'] = np.where(\n",
      "/var/folders/kr/_5c1r8bn52xbpgz96ksrtrj80000gn/T/ipykernel_6798/3604379781.py:33: SettingWithCopyWarning: \n",
      "A value is trying to be set on a copy of a slice from a DataFrame.\n",
      "Try using .loc[row_indexer,col_indexer] = value instead\n",
      "\n",
      "See the caveats in the documentation: https://pandas.pydata.org/pandas-docs/stable/user_guide/indexing.html#returning-a-view-versus-a-copy\n",
      "  df['count_7'] = np.where(\n",
      "/var/folders/kr/_5c1r8bn52xbpgz96ksrtrj80000gn/T/ipykernel_6798/3604379781.py:36: SettingWithCopyWarning: \n",
      "A value is trying to be set on a copy of a slice from a DataFrame.\n",
      "Try using .loc[row_indexer,col_indexer] = value instead\n",
      "\n",
      "See the caveats in the documentation: https://pandas.pydata.org/pandas-docs/stable/user_guide/indexing.html#returning-a-view-versus-a-copy\n",
      "  df['count_8'] = np.where(\n",
      "/var/folders/kr/_5c1r8bn52xbpgz96ksrtrj80000gn/T/ipykernel_6798/3604379781.py:41: SettingWithCopyWarning: \n",
      "A value is trying to be set on a copy of a slice from a DataFrame.\n",
      "Try using .loc[row_indexer,col_indexer] = value instead\n",
      "\n",
      "See the caveats in the documentation: https://pandas.pydata.org/pandas-docs/stable/user_guide/indexing.html#returning-a-view-versus-a-copy\n",
      "  df['count_9'] = np.where(\n",
      "/var/folders/kr/_5c1r8bn52xbpgz96ksrtrj80000gn/T/ipykernel_6798/3604379781.py:6: SettingWithCopyWarning: \n",
      "A value is trying to be set on a copy of a slice from a DataFrame.\n",
      "Try using .loc[row_indexer,col_indexer] = value instead\n",
      "\n",
      "See the caveats in the documentation: https://pandas.pydata.org/pandas-docs/stable/user_guide/indexing.html#returning-a-view-versus-a-copy\n",
      "  df['count_1'] = np.where(\n",
      "/var/folders/kr/_5c1r8bn52xbpgz96ksrtrj80000gn/T/ipykernel_6798/3604379781.py:9: SettingWithCopyWarning: \n",
      "A value is trying to be set on a copy of a slice from a DataFrame.\n",
      "Try using .loc[row_indexer,col_indexer] = value instead\n",
      "\n",
      "See the caveats in the documentation: https://pandas.pydata.org/pandas-docs/stable/user_guide/indexing.html#returning-a-view-versus-a-copy\n",
      "  df['count_2'] = np.where(\n",
      "/var/folders/kr/_5c1r8bn52xbpgz96ksrtrj80000gn/T/ipykernel_6798/3604379781.py:14: SettingWithCopyWarning: \n",
      "A value is trying to be set on a copy of a slice from a DataFrame.\n",
      "Try using .loc[row_indexer,col_indexer] = value instead\n",
      "\n",
      "See the caveats in the documentation: https://pandas.pydata.org/pandas-docs/stable/user_guide/indexing.html#returning-a-view-versus-a-copy\n",
      "  df['count_3'] = np.where(\n",
      "/var/folders/kr/_5c1r8bn52xbpgz96ksrtrj80000gn/T/ipykernel_6798/3604379781.py:17: SettingWithCopyWarning: \n",
      "A value is trying to be set on a copy of a slice from a DataFrame.\n",
      "Try using .loc[row_indexer,col_indexer] = value instead\n",
      "\n",
      "See the caveats in the documentation: https://pandas.pydata.org/pandas-docs/stable/user_guide/indexing.html#returning-a-view-versus-a-copy\n",
      "  df['count_4'] = np.where(\n",
      "/var/folders/kr/_5c1r8bn52xbpgz96ksrtrj80000gn/T/ipykernel_6798/3604379781.py:22: SettingWithCopyWarning: \n",
      "A value is trying to be set on a copy of a slice from a DataFrame.\n",
      "Try using .loc[row_indexer,col_indexer] = value instead\n",
      "\n",
      "See the caveats in the documentation: https://pandas.pydata.org/pandas-docs/stable/user_guide/indexing.html#returning-a-view-versus-a-copy\n",
      "  df['count_5'] = np.where(\n",
      "/var/folders/kr/_5c1r8bn52xbpgz96ksrtrj80000gn/T/ipykernel_6798/3604379781.py:28: SettingWithCopyWarning: \n",
      "A value is trying to be set on a copy of a slice from a DataFrame.\n",
      "Try using .loc[row_indexer,col_indexer] = value instead\n",
      "\n",
      "See the caveats in the documentation: https://pandas.pydata.org/pandas-docs/stable/user_guide/indexing.html#returning-a-view-versus-a-copy\n",
      "  df['count_6'] = np.where(\n",
      "/var/folders/kr/_5c1r8bn52xbpgz96ksrtrj80000gn/T/ipykernel_6798/3604379781.py:33: SettingWithCopyWarning: \n",
      "A value is trying to be set on a copy of a slice from a DataFrame.\n",
      "Try using .loc[row_indexer,col_indexer] = value instead\n",
      "\n",
      "See the caveats in the documentation: https://pandas.pydata.org/pandas-docs/stable/user_guide/indexing.html#returning-a-view-versus-a-copy\n",
      "  df['count_7'] = np.where(\n",
      "/var/folders/kr/_5c1r8bn52xbpgz96ksrtrj80000gn/T/ipykernel_6798/3604379781.py:36: SettingWithCopyWarning: \n",
      "A value is trying to be set on a copy of a slice from a DataFrame.\n",
      "Try using .loc[row_indexer,col_indexer] = value instead\n",
      "\n",
      "See the caveats in the documentation: https://pandas.pydata.org/pandas-docs/stable/user_guide/indexing.html#returning-a-view-versus-a-copy\n",
      "  df['count_8'] = np.where(\n",
      "/var/folders/kr/_5c1r8bn52xbpgz96ksrtrj80000gn/T/ipykernel_6798/3604379781.py:41: SettingWithCopyWarning: \n",
      "A value is trying to be set on a copy of a slice from a DataFrame.\n",
      "Try using .loc[row_indexer,col_indexer] = value instead\n",
      "\n",
      "See the caveats in the documentation: https://pandas.pydata.org/pandas-docs/stable/user_guide/indexing.html#returning-a-view-versus-a-copy\n",
      "  df['count_9'] = np.where(\n",
      "/var/folders/kr/_5c1r8bn52xbpgz96ksrtrj80000gn/T/ipykernel_6798/3604379781.py:6: SettingWithCopyWarning: \n",
      "A value is trying to be set on a copy of a slice from a DataFrame.\n",
      "Try using .loc[row_indexer,col_indexer] = value instead\n",
      "\n",
      "See the caveats in the documentation: https://pandas.pydata.org/pandas-docs/stable/user_guide/indexing.html#returning-a-view-versus-a-copy\n",
      "  df['count_1'] = np.where(\n",
      "/var/folders/kr/_5c1r8bn52xbpgz96ksrtrj80000gn/T/ipykernel_6798/3604379781.py:9: SettingWithCopyWarning: \n",
      "A value is trying to be set on a copy of a slice from a DataFrame.\n",
      "Try using .loc[row_indexer,col_indexer] = value instead\n",
      "\n",
      "See the caveats in the documentation: https://pandas.pydata.org/pandas-docs/stable/user_guide/indexing.html#returning-a-view-versus-a-copy\n",
      "  df['count_2'] = np.where(\n",
      "/var/folders/kr/_5c1r8bn52xbpgz96ksrtrj80000gn/T/ipykernel_6798/3604379781.py:14: SettingWithCopyWarning: \n",
      "A value is trying to be set on a copy of a slice from a DataFrame.\n",
      "Try using .loc[row_indexer,col_indexer] = value instead\n",
      "\n",
      "See the caveats in the documentation: https://pandas.pydata.org/pandas-docs/stable/user_guide/indexing.html#returning-a-view-versus-a-copy\n",
      "  df['count_3'] = np.where(\n",
      "/var/folders/kr/_5c1r8bn52xbpgz96ksrtrj80000gn/T/ipykernel_6798/3604379781.py:17: SettingWithCopyWarning: \n",
      "A value is trying to be set on a copy of a slice from a DataFrame.\n",
      "Try using .loc[row_indexer,col_indexer] = value instead\n",
      "\n",
      "See the caveats in the documentation: https://pandas.pydata.org/pandas-docs/stable/user_guide/indexing.html#returning-a-view-versus-a-copy\n",
      "  df['count_4'] = np.where(\n",
      "/var/folders/kr/_5c1r8bn52xbpgz96ksrtrj80000gn/T/ipykernel_6798/3604379781.py:22: SettingWithCopyWarning: \n",
      "A value is trying to be set on a copy of a slice from a DataFrame.\n",
      "Try using .loc[row_indexer,col_indexer] = value instead\n",
      "\n",
      "See the caveats in the documentation: https://pandas.pydata.org/pandas-docs/stable/user_guide/indexing.html#returning-a-view-versus-a-copy\n",
      "  df['count_5'] = np.where(\n",
      "/var/folders/kr/_5c1r8bn52xbpgz96ksrtrj80000gn/T/ipykernel_6798/3604379781.py:28: SettingWithCopyWarning: \n",
      "A value is trying to be set on a copy of a slice from a DataFrame.\n",
      "Try using .loc[row_indexer,col_indexer] = value instead\n",
      "\n",
      "See the caveats in the documentation: https://pandas.pydata.org/pandas-docs/stable/user_guide/indexing.html#returning-a-view-versus-a-copy\n",
      "  df['count_6'] = np.where(\n",
      "/var/folders/kr/_5c1r8bn52xbpgz96ksrtrj80000gn/T/ipykernel_6798/3604379781.py:33: SettingWithCopyWarning: \n",
      "A value is trying to be set on a copy of a slice from a DataFrame.\n",
      "Try using .loc[row_indexer,col_indexer] = value instead\n",
      "\n",
      "See the caveats in the documentation: https://pandas.pydata.org/pandas-docs/stable/user_guide/indexing.html#returning-a-view-versus-a-copy\n",
      "  df['count_7'] = np.where(\n",
      "/var/folders/kr/_5c1r8bn52xbpgz96ksrtrj80000gn/T/ipykernel_6798/3604379781.py:36: SettingWithCopyWarning: \n",
      "A value is trying to be set on a copy of a slice from a DataFrame.\n",
      "Try using .loc[row_indexer,col_indexer] = value instead\n",
      "\n",
      "See the caveats in the documentation: https://pandas.pydata.org/pandas-docs/stable/user_guide/indexing.html#returning-a-view-versus-a-copy\n",
      "  df['count_8'] = np.where(\n",
      "/var/folders/kr/_5c1r8bn52xbpgz96ksrtrj80000gn/T/ipykernel_6798/3604379781.py:41: SettingWithCopyWarning: \n",
      "A value is trying to be set on a copy of a slice from a DataFrame.\n",
      "Try using .loc[row_indexer,col_indexer] = value instead\n",
      "\n",
      "See the caveats in the documentation: https://pandas.pydata.org/pandas-docs/stable/user_guide/indexing.html#returning-a-view-versus-a-copy\n",
      "  df['count_9'] = np.where(\n"
     ]
    }
   ],
   "source": [
    "slope = 0.31\n",
    "intercept = 17.8\n",
    "range = 7\n",
    "\n",
    "result = 100 * accuracy(slope, intercept, range, df_data_1_NV, 'top')\n",
    "print('All TSV prediction accraucy, NV building: {:.0f} %'.format(result))\n",
    "result = 100 * accuracy(slope, intercept, range, df_data_1_NV_office, 'top')\n",
    "print('All TSV prediction accraucy, NV office building: {:.0f} %'.format(result))\n",
    "\n",
    "\n",
    "result = 100 * accuracy(slope, intercept, range, df_bldg_1_NV, 'top')\n",
    "print('Mean TSV prediction accraucy, NV building: {:.0f} %'.format(result))\n",
    "result = 100 * accuracy(slope, intercept, range, df_bldg_1_NV_office, 'top')\n",
    "print('Mean TSV prediction accraucy, NV office building: {:.0f} %'.format(result))\n"
   ]
  },
  {
   "cell_type": "markdown",
   "metadata": {},
   "source": [
    "## ACM II prediction accuracy"
   ]
  },
  {
   "cell_type": "code",
   "execution_count": 61,
   "metadata": {},
   "outputs": [
    {
     "name": "stdout",
     "output_type": "stream",
     "text": [
      "All TSV prediction accraucy, NV building: 49 %\n",
      "All TSV prediction accraucy, NV office building: 53 %\n",
      "Mean TSV prediction accraucy, NV building: 54 %\n",
      "Mean TSV prediction accraucy, NV office building: 66 %\n"
     ]
    }
   ],
   "source": [
    "slope = 0.25\n",
    "intercept = 19.2\n",
    "range = 7.8\n",
    "\n",
    "result = 100 * accuracy(slope, intercept, range, df_data_1_NV, 'top')\n",
    "print('All TSV prediction accraucy, NV building: {:.0f} %'.format(result))\n",
    "result = 100 * accuracy(slope, intercept, range, df_data_1_NV_office, 'top')\n",
    "print('All TSV prediction accraucy, NV office building: {:.0f} %'.format(result))\n",
    "\n",
    "result = 100 * accuracy(slope, intercept, range, df_bldg_1_NV, 'top')\n",
    "print('Mean TSV prediction accraucy, NV building: {:.0f} %'.format(result))\n",
    "result = 100 * accuracy(slope, intercept, range, df_bldg_1_NV_office, 'top')\n",
    "print('Mean TSV prediction accraucy, NV office building: {:.0f} %'.format(result))"
   ]
  },
  {
   "cell_type": "markdown",
   "metadata": {},
   "source": [
    "## Optimize slope, intercept and range"
   ]
  },
  {
   "cell_type": "code",
   "execution_count": 52,
   "metadata": {},
   "outputs": [],
   "source": [
    "# create a list to store the results\n",
    "results = []\n",
    "for slope in np.arange(-1, 1, 0.1):\n",
    "    for intercept in np.arange(10, 30, 0.1):\n",
    "        for range in np.arange(0, 15, 0.1):\n",
    "            accuracy_NV = accuracy(slope, intercept, range, df_data_1_NV, 'top')\n",
    "            accuracy_NV_office = accuracy(slope, intercept, range, df_data_1_NV_office, 'top')\n",
    "            accuracy_NV_mean = accuracy(slope, intercept, range, df_bldg_1_NV, 'top')\n",
    "            accuracy_NV_office_mean = accuracy(slope, intercept, range, df_bldg_1_NV_office, 'top')\n",
    "            results.append({'Slope': slope, \n",
    "                            'Intercept': intercept, \n",
    "                            'Range': range, \n",
    "                            'Accuracy_NV': accuracy_NV,\n",
    "                            'Accuracy_NV_office': accuracy_NV_office,\n",
    "                            'Accuracy_NV_mean': accuracy_NV_mean,\n",
    "                            'Accuracy_NV_office_mean': accuracy_NV_office_mean})\n",
    "results_df = pd.DataFrame(results)"
   ]
  },
  {
   "cell_type": "code",
   "execution_count": 53,
   "metadata": {},
   "outputs": [
    {
     "name": "stdout",
     "output_type": "stream",
     "text": [
      " Slope  Intercept  Range  Accuracy_NV\n",
      "   0.3       15.9    7.2     0.539853\n",
      " Slope  Intercept  Range  Accuracy_NV_office\n",
      "   0.2       18.0    7.7            0.560404\n",
      " Slope  Intercept  Range  Accuracy_NV_mean\n",
      "   0.6       12.3   12.2              0.75\n",
      " Slope  Intercept  Range  Accuracy_NV_office_mean\n",
      "   0.4       14.2   11.2                  0.80597\n"
     ]
    }
   ],
   "source": [
    "for i in ['Accuracy_NV','Accuracy_NV_office','Accuracy_NV_mean','Accuracy_NV_office_mean']:\n",
    "    print(results_df.nlargest(1, i)[['Slope', 'Intercept', 'Range', i]].to_string(index=False))"
   ]
  },
  {
   "cell_type": "code",
   "execution_count": 54,
   "metadata": {},
   "outputs": [
    {
     "data": {
      "text/html": [
       "<div>\n",
       "<style scoped>\n",
       "    .dataframe tbody tr th:only-of-type {\n",
       "        vertical-align: middle;\n",
       "    }\n",
       "\n",
       "    .dataframe tbody tr th {\n",
       "        vertical-align: top;\n",
       "    }\n",
       "\n",
       "    .dataframe thead th {\n",
       "        text-align: right;\n",
       "    }\n",
       "</style>\n",
       "<table border=\"1\" class=\"dataframe\">\n",
       "  <thead>\n",
       "    <tr style=\"text-align: right;\">\n",
       "      <th></th>\n",
       "      <th>Slope</th>\n",
       "      <th>Intercept</th>\n",
       "      <th>Range</th>\n",
       "      <th>Accuracy_NV</th>\n",
       "      <th>Accuracy_NV_office</th>\n",
       "      <th>Accuracy_NV_mean</th>\n",
       "      <th>Accuracy_NV_office_mean</th>\n",
       "    </tr>\n",
       "  </thead>\n",
       "  <tbody>\n",
       "    <tr>\n",
       "      <th>312033</th>\n",
       "      <td>-2.220446e-16</td>\n",
       "      <td>18.0</td>\n",
       "      <td>3.3</td>\n",
       "      <td>0.459436</td>\n",
       "      <td>0.460144</td>\n",
       "      <td>0.199074</td>\n",
       "      <td>0.343284</td>\n",
       "    </tr>\n",
       "  </tbody>\n",
       "</table>\n",
       "</div>"
      ],
      "text/plain": [
       "               Slope  Intercept  Range  Accuracy_NV  Accuracy_NV_office   \n",
       "312033 -2.220446e-16       18.0    3.3     0.459436            0.460144  \\\n",
       "\n",
       "        Accuracy_NV_mean  Accuracy_NV_office_mean  \n",
       "312033          0.199074                 0.343284  "
      ]
     },
     "execution_count": 54,
     "metadata": {},
     "output_type": "execute_result"
    }
   ],
   "source": [
    "threshold = 0.01\n",
    "\n",
    "# select row when the slope is 0, intercept is 18.0 and range is 3.3\n",
    "result = results_df[(results_df['Slope'].abs() < threshold) & \n",
    "                    (results_df['Intercept'] < threshold + 18.0) & \n",
    "                    (results_df['Intercept'] > 18.0 - threshold) &\n",
    "                    (results_df['Range'] > 3.3 - threshold) &\n",
    "                    (results_df['Range'] < threshold + 3.3)]\n",
    "result.nlargest(5, i)"
   ]
  },
  {
   "cell_type": "markdown",
   "metadata": {},
   "source": [
    "# Evidence 2:"
   ]
  },
  {
   "cell_type": "markdown",
   "metadata": {},
   "source": [
    "## Select concurrent SET, TSV, and Tout data"
   ]
  },
  {
   "cell_type": "code",
   "execution_count": 15,
   "metadata": {},
   "outputs": [
    {
     "name": "stdout",
     "output_type": "stream",
     "text": [
      "Buildings without missing data: 570\n",
      "Buildings occupants without missing data: 34313\n"
     ]
    }
   ],
   "source": [
    "df_data_2 = df_rawdata.dropna(subset=['set', 'thermal_sensation', 't_out_combined'])\n",
    "print(f'Buildings without missing data:', len(df_data_2['building_id'].unique()))\n",
    "print(f'Buildings occupants without missing data:', len(df_data_2))"
   ]
  },
  {
   "cell_type": "code",
   "execution_count": 16,
   "metadata": {},
   "outputs": [],
   "source": [
    "def regression_SET_a(data_bldg):\n",
    "    \"\"\"\n",
    "    TSV = a * set + b\n",
    "    Regressing Thermal Sensation Vote (TSV) against Standard Effective Temperature (set).    \n",
    "    Use the regression model to derive the neutral temperature by letting TSV equals 0.\n",
    "    The upper and lower limit of 80% comfort zone are derived by letting TSV equals +-0.85.\n",
    "    \"\"\"\n",
    "    lm_result = smf.ols(formula='thermal_sensation ~ set', data=data_bldg).fit()\n",
    "    slope = lm_result.params['set']\n",
    "    intercept = lm_result.params['Intercept']\n",
    "    # check whether the slope is significant\n",
    "    if lm_result.pvalues['set'] < 0.05:\n",
    "        a = slope\n",
    "        b = intercept\n",
    "        temp_n = -b / a\n",
    "        temp_up = (0.85-b)/a\n",
    "        temp_low = (-0.85-b)/a\n",
    "        return [slope, intercept, temp_n, temp_up, temp_low]\n",
    "    else:\n",
    "        return [np.nan] * 5  # Return NaNs if the slope is not significant"
   ]
  },
  {
   "cell_type": "code",
   "execution_count": 17,
   "metadata": {},
   "outputs": [],
   "source": [
    "df_bldg_2 = df_bldg.copy()\n",
    "# Apply the function to each group of df_data_2 grouped by 'building_id'\n",
    "grouped_results = df_data_2.groupby('building_id').apply(regression_SET_a)\n",
    "# Convert the grouped results into a DataFrame with appropriate column names\n",
    "results_df = pd.DataFrame(grouped_results.tolist(), index=grouped_results.index, columns=['slope', 'intercept', 'temp_n', 'temp_up', 'temp_low'])\n",
    "# Merge the results back into df_bldg_2\n",
    "df_bldg_2 = df_bldg_2.merge(results_df, left_on='building_id', right_index=True, how='left')"
   ]
  },
  {
   "cell_type": "code",
   "execution_count": 18,
   "metadata": {},
   "outputs": [
    {
     "name": "stdout",
     "output_type": "stream",
     "text": [
      "NV buildings without missing data: 216\n",
      "NV building occupants without missing data: 15394\n",
      "NV office buildings without missing data: 67\n",
      "NV office building occupants without missing data: 8638\n"
     ]
    }
   ],
   "source": [
    "# Reset the building cooling type as string, ensuring direct modification of the DataFrame\n",
    "df_data_2 = df_data_2.copy()\n",
    "df_data_2['cooling_type'] = df_data_2['cooling_type'].str.title()\n",
    "\n",
    "# Filter for office buildings with naturally ventilated cooling\n",
    "df_bldg_2_NV = df_bldg_2[df_bldg_2['cooling_type'] == 'Naturally Ventilated']\n",
    "df_data_2_NV = df_data_2[df_data_2['cooling_type'] == 'Naturally Ventilated']\n",
    "print(f'NV buildings without missing data:', len(df_bldg_2_NV))\n",
    "print(f'NV building occupants without missing data:', len(df_data_2_NV))\n",
    "\n",
    "# Filter for office buildings with naturally ventilated cooling\n",
    "df_bldg_2_NV_office = df_bldg_2_NV[df_bldg_2_NV['building_type'] == 'office']\n",
    "df_data_2_NV_office = df_data_2_NV[df_data_2_NV['building_type'] == 'office']\n",
    "print(f'NV office buildings without missing data:', len(df_bldg_2_NV_office))\n",
    "print(f'NV office building occupants without missing data:', len(df_data_2_NV_office))"
   ]
  },
  {
   "cell_type": "markdown",
   "metadata": {},
   "source": [
    "## SET ACM for NV office buildings"
   ]
  },
  {
   "cell_type": "code",
   "execution_count": 19,
   "metadata": {},
   "outputs": [
    {
     "name": "stdout",
     "output_type": "stream",
     "text": [
      "NV office buildings with significant models: 35\n"
     ]
    }
   ],
   "source": [
    "# Get rid of all nan values in the temp_n column\n",
    "df_bldg_2_sig = df_bldg_2[~df_bldg_2['temp_n'].isna()]\n",
    "df_bldg_2_sig_NV = df_bldg_2_sig[df_bldg_2_sig['cooling_type'] == 'Naturally Ventilated'].copy()\n",
    "df_bldg_2_sig_NV_office = df_bldg_2_sig_NV[df_bldg_2_sig_NV['building_type'] == 'office'].copy()\n",
    "print(\"NV office buildings with significant models:\", len(df_bldg_2_sig_NV_office))"
   ]
  },
  {
   "cell_type": "code",
   "execution_count": 20,
   "metadata": {},
   "outputs": [
    {
     "data": {
      "text/html": [
       "<div>\n",
       "<style scoped>\n",
       "    .dataframe tbody tr th:only-of-type {\n",
       "        vertical-align: middle;\n",
       "    }\n",
       "\n",
       "    .dataframe tbody tr th {\n",
       "        vertical-align: top;\n",
       "    }\n",
       "\n",
       "    .dataframe thead th {\n",
       "        text-align: right;\n",
       "    }\n",
       "</style>\n",
       "<table border=\"1\" class=\"dataframe\">\n",
       "  <thead>\n",
       "    <tr style=\"text-align: right;\">\n",
       "      <th></th>\n",
       "      <th>building_id</th>\n",
       "      <th>t_out_combined</th>\n",
       "      <th>top</th>\n",
       "      <th>set</th>\n",
       "      <th>thermal_sensation</th>\n",
       "      <th>records</th>\n",
       "      <th>cooling_type</th>\n",
       "      <th>building_type</th>\n",
       "      <th>database</th>\n",
       "      <th>slope</th>\n",
       "      <th>intercept</th>\n",
       "      <th>temp_n</th>\n",
       "      <th>temp_up</th>\n",
       "      <th>temp_low</th>\n",
       "    </tr>\n",
       "  </thead>\n",
       "  <tbody>\n",
       "    <tr>\n",
       "      <th>143</th>\n",
       "      <td>144</td>\n",
       "      <td>27.029000</td>\n",
       "      <td>31.679695</td>\n",
       "      <td>27.991176</td>\n",
       "      <td>0.988636</td>\n",
       "      <td>176</td>\n",
       "      <td>Naturally Ventilated</td>\n",
       "      <td>office</td>\n",
       "      <td>1.0</td>\n",
       "      <td>0.060393</td>\n",
       "      <td>-0.739503</td>\n",
       "      <td>12.244753</td>\n",
       "      <td>26.319134</td>\n",
       "      <td>-1.829628</td>\n",
       "    </tr>\n",
       "    <tr>\n",
       "      <th>166</th>\n",
       "      <td>173</td>\n",
       "      <td>20.600851</td>\n",
       "      <td>24.590566</td>\n",
       "      <td>27.525649</td>\n",
       "      <td>-0.191489</td>\n",
       "      <td>470</td>\n",
       "      <td>Naturally Ventilated</td>\n",
       "      <td>office</td>\n",
       "      <td>1.0</td>\n",
       "      <td>0.047435</td>\n",
       "      <td>-1.451783</td>\n",
       "      <td>30.605736</td>\n",
       "      <td>48.524994</td>\n",
       "      <td>12.686477</td>\n",
       "    </tr>\n",
       "    <tr>\n",
       "      <th>169</th>\n",
       "      <td>176</td>\n",
       "      <td>13.992661</td>\n",
       "      <td>18.732617</td>\n",
       "      <td>23.241102</td>\n",
       "      <td>-0.763209</td>\n",
       "      <td>513</td>\n",
       "      <td>Naturally Ventilated</td>\n",
       "      <td>office</td>\n",
       "      <td>1.0</td>\n",
       "      <td>0.065926</td>\n",
       "      <td>-2.032200</td>\n",
       "      <td>30.825328</td>\n",
       "      <td>43.718512</td>\n",
       "      <td>17.932144</td>\n",
       "    </tr>\n",
       "  </tbody>\n",
       "</table>\n",
       "</div>"
      ],
      "text/plain": [
       "     building_id  t_out_combined        top        set  thermal_sensation   \n",
       "143          144       27.029000  31.679695  27.991176           0.988636  \\\n",
       "166          173       20.600851  24.590566  27.525649          -0.191489   \n",
       "169          176       13.992661  18.732617  23.241102          -0.763209   \n",
       "\n",
       "     records          cooling_type building_type  database     slope   \n",
       "143      176  Naturally Ventilated        office       1.0  0.060393  \\\n",
       "166      470  Naturally Ventilated        office       1.0  0.047435   \n",
       "169      513  Naturally Ventilated        office       1.0  0.065926   \n",
       "\n",
       "     intercept     temp_n    temp_up   temp_low  \n",
       "143  -0.739503  12.244753  26.319134  -1.829628  \n",
       "166  -1.451783  30.605736  48.524994  12.686477  \n",
       "169  -2.032200  30.825328  43.718512  17.932144  "
      ]
     },
     "execution_count": 20,
     "metadata": {},
     "output_type": "execute_result"
    }
   ],
   "source": [
    "# Plot t_out_combined and temp_n data points in df_bldg_2_sig_NV_office\n",
    "# sns.scatterplot(data=df_bldg_2_sig_NV_office, x='t_out_combined', y='temp_n')\n",
    "# Identifiy outliers of temp_n\n",
    "outliers = df_bldg_2_sig_NV_office[(df_bldg_2_sig_NV_office['temp_n'] < 15) | (df_bldg_2_sig_NV_office['temp_n'] > 30)]\n",
    "# remove the outliers\n",
    "df_ACM_SET = df_bldg_2_sig_NV_office.drop(outliers.index)\n",
    "outliers"
   ]
  },
  {
   "cell_type": "code",
   "execution_count": 42,
   "metadata": {},
   "outputs": [
    {
     "name": "stdout",
     "output_type": "stream",
     "text": [
      "p value: 0.471\n",
      "MSE: 7.5\n",
      "RMSE: 2.7\n",
      "                            WLS Regression Results                            \n",
      "==============================================================================\n",
      "Dep. Variable:                 temp_n   R-squared:                       0.017\n",
      "Model:                            WLS   Adj. R-squared:                 -0.015\n",
      "Method:                 Least Squares   F-statistic:                    0.5340\n",
      "Date:                Mon, 12 Feb 2024   Prob (F-statistic):              0.471\n",
      "Time:                        14:41:59   Log-Likelihood:                -87.392\n",
      "No. Observations:                  32   AIC:                             178.8\n",
      "Df Residuals:                      30   BIC:                             181.7\n",
      "Df Model:                           1                                         \n",
      "Covariance Type:            nonrobust                                         \n",
      "==================================================================================\n",
      "                     coef    std err          t      P>|t|      [0.025      0.975]\n",
      "----------------------------------------------------------------------------------\n",
      "const             25.0072      2.437     10.262      0.000      20.031      29.984\n",
      "t_out_combined    -0.0739      0.101     -0.731      0.471      -0.280       0.133\n",
      "==============================================================================\n",
      "Omnibus:                        4.123   Durbin-Watson:                   2.087\n",
      "Prob(Omnibus):                  0.127   Jarque-Bera (JB):                3.328\n",
      "Skew:                          -0.218   Prob(JB):                        0.189\n",
      "Kurtosis:                       4.519   Cond. No.                         99.2\n",
      "==============================================================================\n",
      "\n",
      "Notes:\n",
      "[1] Standard Errors assume that the covariance matrix of the errors is correctly specified.\n",
      "******************************************************************************\n",
      "ACM regression line slope: -0.07\n",
      "ACM regression line intercept: 25.01\n",
      "ACM 80% comfort zone: 13.09\n"
     ]
    }
   ],
   "source": [
    "intercept, slope = weighted_reg(df_ACM_SET['t_out_combined'], df_ACM_SET['temp_n'], df_ACM_SET['records'])\n",
    "# print the fitted line slope and intercept\n",
    "print(\"******************************************************************************\")\n",
    "print('ACM regression line slope: {:.2f}'.format(slope))\n",
    "print('ACM regression line intercept: {:.2f}'.format(intercept))\n",
    "# calculate the mean range of 80% comfort zone\n",
    "range = df_ACM_SET['temp_up'].mean() - df_ACM_SET['temp_low'].mean()\n",
    "print('ACM 80% comfort zone: {:.2f}'.format(range))"
   ]
  },
  {
   "cell_type": "code",
   "execution_count": 43,
   "metadata": {},
   "outputs": [
    {
     "data": {
      "image/png": "[encoded data removed]",
      "text/plain": [
       "<Figure size 500x300 with 1 Axes>"
      ]
     },
     "metadata": {},
     "output_type": "display_data"
    }
   ],
   "source": [
    "# sort the data points by t_out_combined\n",
    "t_out = np.array(df_ACM_SET['t_out_combined'])\n",
    "t_out = t_out[np.argsort(t_out)]\n",
    "middle_line = slope * t_out + intercept\n",
    "up_line = slope * t_out + intercept + range/2\n",
    "low_line = slope * t_out + intercept - range/2\n",
    "\n",
    "# plot data points\n",
    "plt.figure(figsize=(5, 3))\n",
    "sns.regplot(x='t_out_combined', y='temp_n', data=df_ACM_SET, fit_reg=False, scatter_kws={'color': 'green'})\n",
    "plt.plot(t_out, middle_line, color='black', linewidth=2)\n",
    "plt.plot(t_out, up_line, color='black', linewidth=2, linestyle='--', dashes=(5, 5))\n",
    "plt.plot(t_out, low_line, color='black', linewidth=2, linestyle='--', dashes=(5, 5))\n",
    "\n",
    "plt.xlabel('', fontsize=20)\n",
    "plt.ylabel('', fontsize=20)\n",
    "plt.xticks(np.arange(5, 33, 5), fontsize=20)\n",
    "plt.yticks(np.arange(17, 33, 3), fontsize=20)\n",
    "plt.ylim(16, 33)\n",
    "plt.grid(False)\n",
    "plt.rcParams['font.family'] ='Arial'\n",
    "# show legend\n",
    "plt.plot([], [], 'o', color='green', label='Naturally Ventilated')\n",
    "plt.legend(loc='upper center', bbox_to_anchor=(0.5, 1.5), ncol=2, fontsize=20)\n",
    "plt.savefig('figs/fig_ACM_SET.pdf', format='pdf', bbox_inches='tight')"
   ]
  },
  {
   "cell_type": "code",
   "execution_count": 23,
   "metadata": {},
   "outputs": [
    {
     "name": "stdout",
     "output_type": "stream",
     "text": [
      "All TSV prediction accraucy, NV building: 46 %\n",
      "All TSV prediction accraucy, NV office building: 51 %\n",
      "Mean TSV prediction accraucy, NV building: 54 %\n",
      "Mean TSV prediction accraucy, NV office building: 58 %\n"
     ]
    }
   ],
   "source": [
    "result = 100 * accuracy(slope, intercept, range, df_data_2_NV, 'set')\n",
    "print('All TSV prediction accraucy, NV building: {:.0f} %'.format(result))\n",
    "result = 100 * accuracy(slope, intercept, range, df_data_2_NV_office, 'set')\n",
    "print('All TSV prediction accraucy, NV office building: {:.0f} %'.format(result))\n",
    "\n",
    "result = 100 * accuracy(slope, intercept, range, df_bldg_2_NV, 'set')\n",
    "print('Mean TSV prediction accraucy, NV building: {:.0f} %'.format(result))\n",
    "result = 100 * accuracy(slope, intercept, range, df_bldg_2_NV_office, 'set')\n",
    "print('Mean TSV prediction accraucy, NV office building: {:.0f} %'.format(result))"
   ]
  },
  {
   "cell_type": "markdown",
   "metadata": {},
   "source": [
    "## SET ACM for AC office buildings"
   ]
  },
  {
   "cell_type": "code",
   "execution_count": 24,
   "metadata": {},
   "outputs": [
    {
     "name": "stdout",
     "output_type": "stream",
     "text": [
      "AC buildings without missing data: 163\n",
      "AC building occupants without missing data: 12451\n",
      "AC office buildings without missing data: 161\n",
      "AC office building occupants without missing data: 10612\n"
     ]
    }
   ],
   "source": [
    "# Reset the building cooling type as string, ensuring direct modification of the DataFrame\n",
    "df_data_2 = df_data_2.copy()\n",
    "df_data_2['cooling_type'] = df_data_2['cooling_type'].str.title()\n",
    "\n",
    "# Filter for office buildings with naturally ventilated cooling\n",
    "df_bldg_2_AC = df_bldg_2[df_bldg_2['cooling_type'] == 'Air Conditioned']\n",
    "df_data_2_AC = df_data_2[df_data_2['cooling_type'] == 'Air Conditioned']\n",
    "print(f'AC buildings without missing data:', len(df_bldg_2_AC))\n",
    "print(f'AC building occupants without missing data:', len(df_data_2_AC))\n",
    "\n",
    "# Filter for office buildings with naturally ventilated cooling\n",
    "df_bldg_2_AC_office = df_bldg_2_AC[df_bldg_2_AC['building_type'] == 'office']\n",
    "df_data_2_AC_office = df_data_2_AC[df_data_2_AC['building_type'] == 'office']\n",
    "print(f'AC office buildings without missing data:', len(df_bldg_2_AC_office))\n",
    "print(f'AC office building occupants without missing data:', len(df_data_2_AC_office))"
   ]
  },
  {
   "cell_type": "code",
   "execution_count": 25,
   "metadata": {},
   "outputs": [
    {
     "name": "stdout",
     "output_type": "stream",
     "text": [
      "AC office buildings with significant models: 39\n"
     ]
    }
   ],
   "source": [
    "df_bldg_2_sig_AC = df_bldg_2_sig[df_bldg_2_sig['cooling_type'] == 'Air Conditioned'].copy()\n",
    "df_bldg_2_sig_AC_office = df_bldg_2_sig_AC[df_bldg_2_sig_AC['building_type'] == 'office'].copy()\n",
    "print(\"AC office buildings with significant models:\", len(df_bldg_2_sig_AC_office))"
   ]
  },
  {
   "cell_type": "code",
   "execution_count": 26,
   "metadata": {},
   "outputs": [
    {
     "data": {
      "text/html": [
       "<div>\n",
       "<style scoped>\n",
       "    .dataframe tbody tr th:only-of-type {\n",
       "        vertical-align: middle;\n",
       "    }\n",
       "\n",
       "    .dataframe tbody tr th {\n",
       "        vertical-align: top;\n",
       "    }\n",
       "\n",
       "    .dataframe thead th {\n",
       "        text-align: right;\n",
       "    }\n",
       "</style>\n",
       "<table border=\"1\" class=\"dataframe\">\n",
       "  <thead>\n",
       "    <tr style=\"text-align: right;\">\n",
       "      <th></th>\n",
       "      <th>building_id</th>\n",
       "      <th>t_out_combined</th>\n",
       "      <th>top</th>\n",
       "      <th>set</th>\n",
       "      <th>thermal_sensation</th>\n",
       "      <th>records</th>\n",
       "      <th>cooling_type</th>\n",
       "      <th>building_type</th>\n",
       "      <th>database</th>\n",
       "      <th>slope</th>\n",
       "      <th>intercept</th>\n",
       "      <th>temp_n</th>\n",
       "      <th>temp_up</th>\n",
       "      <th>temp_low</th>\n",
       "    </tr>\n",
       "  </thead>\n",
       "  <tbody>\n",
       "    <tr>\n",
       "      <th>127</th>\n",
       "      <td>128</td>\n",
       "      <td>-18.572604</td>\n",
       "      <td>22.135000</td>\n",
       "      <td>23.397436</td>\n",
       "      <td>-0.500000</td>\n",
       "      <td>40</td>\n",
       "      <td>Air Conditioned</td>\n",
       "      <td>office</td>\n",
       "      <td>1.0</td>\n",
       "      <td>-0.251229</td>\n",
       "      <td>5.416566</td>\n",
       "      <td>21.560310</td>\n",
       "      <td>18.176937</td>\n",
       "      <td>24.943683</td>\n",
       "    </tr>\n",
       "    <tr>\n",
       "      <th>132</th>\n",
       "      <td>133</td>\n",
       "      <td>-26.098344</td>\n",
       "      <td>23.197436</td>\n",
       "      <td>24.089189</td>\n",
       "      <td>0.128205</td>\n",
       "      <td>39</td>\n",
       "      <td>Air Conditioned</td>\n",
       "      <td>office</td>\n",
       "      <td>1.0</td>\n",
       "      <td>-0.234734</td>\n",
       "      <td>5.843735</td>\n",
       "      <td>24.895163</td>\n",
       "      <td>21.274039</td>\n",
       "      <td>28.516287</td>\n",
       "    </tr>\n",
       "    <tr>\n",
       "      <th>548</th>\n",
       "      <td>737</td>\n",
       "      <td>28.469928</td>\n",
       "      <td>25.010101</td>\n",
       "      <td>25.511458</td>\n",
       "      <td>-0.737374</td>\n",
       "      <td>99</td>\n",
       "      <td>Air Conditioned</td>\n",
       "      <td>office</td>\n",
       "      <td>2.1</td>\n",
       "      <td>0.083710</td>\n",
       "      <td>-2.875156</td>\n",
       "      <td>34.346489</td>\n",
       "      <td>44.500552</td>\n",
       "      <td>24.192426</td>\n",
       "    </tr>\n",
       "  </tbody>\n",
       "</table>\n",
       "</div>"
      ],
      "text/plain": [
       "     building_id  t_out_combined        top        set  thermal_sensation   \n",
       "127          128      -18.572604  22.135000  23.397436          -0.500000  \\\n",
       "132          133      -26.098344  23.197436  24.089189           0.128205   \n",
       "548          737       28.469928  25.010101  25.511458          -0.737374   \n",
       "\n",
       "     records     cooling_type building_type  database     slope  intercept   \n",
       "127       40  Air Conditioned        office       1.0 -0.251229   5.416566  \\\n",
       "132       39  Air Conditioned        office       1.0 -0.234734   5.843735   \n",
       "548       99  Air Conditioned        office       2.1  0.083710  -2.875156   \n",
       "\n",
       "        temp_n    temp_up   temp_low  \n",
       "127  21.560310  18.176937  24.943683  \n",
       "132  24.895163  21.274039  28.516287  \n",
       "548  34.346489  44.500552  24.192426  "
      ]
     },
     "execution_count": 26,
     "metadata": {},
     "output_type": "execute_result"
    }
   ],
   "source": [
    "# Plot t_out_combined and temp_n data points in df_bldg_2_sig_AC_office\n",
    "# sns.scatterplot(data=df_bldg_2_sig_AC_office, x='t_out_combined', y='temp_n')\n",
    "# Identifiy outliers of temp_n\n",
    "outliers = df_bldg_2_sig_AC_office[(df_bldg_2_sig_AC_office['t_out_combined'] < 0) | (df_bldg_2_sig_AC_office['temp_n'] > 30)]\n",
    "# remove the outliers\n",
    "df_ACM_SET_ac = df_bldg_2_sig_AC_office.drop(outliers.index)\n",
    "outliers"
   ]
  },
  {
   "cell_type": "code",
   "execution_count": 44,
   "metadata": {},
   "outputs": [
    {
     "name": "stdout",
     "output_type": "stream",
     "text": [
      "p value: 0.001\n",
      "MSE: 2.4\n",
      "RMSE: 1.6\n",
      "                            WLS Regression Results                            \n",
      "==============================================================================\n",
      "Dep. Variable:                 temp_n   R-squared:                       0.270\n",
      "Model:                            WLS   Adj. R-squared:                  0.249\n",
      "Method:                 Least Squares   F-statistic:                     12.58\n",
      "Date:                Mon, 12 Feb 2024   Prob (F-statistic):            0.00116\n",
      "Time:                        14:42:14   Log-Likelihood:                -69.277\n",
      "No. Observations:                  36   AIC:                             142.6\n",
      "Df Residuals:                      34   BIC:                             145.7\n",
      "Df Model:                           1                                         \n",
      "Covariance Type:            nonrobust                                         \n",
      "==================================================================================\n",
      "                     coef    std err          t      P>|t|      [0.025      0.975]\n",
      "----------------------------------------------------------------------------------\n",
      "const             20.9848      0.855     24.546      0.000      19.247      22.722\n",
      "t_out_combined     0.1217      0.034      3.546      0.001       0.052       0.191\n",
      "==============================================================================\n",
      "Omnibus:                       20.000   Durbin-Watson:                   1.831\n",
      "Prob(Omnibus):                  0.000   Jarque-Bera (JB):               27.916\n",
      "Skew:                           1.557   Prob(JB):                     8.67e-07\n",
      "Kurtosis:                       5.986   Cond. No.                         87.3\n",
      "==============================================================================\n",
      "\n",
      "Notes:\n",
      "[1] Standard Errors assume that the covariance matrix of the errors is correctly specified.\n",
      "******************************************************************************\n",
      "ACM regression line slope: 0.12\n",
      "ACM regression line intercept: 20.98\n",
      "ACM 80% comfort zone: 7.87\n"
     ]
    }
   ],
   "source": [
    "intercept, slope = weighted_reg(df_ACM_SET_ac['t_out_combined'], df_ACM_SET_ac['temp_n'], df_ACM_SET_ac['records'])\n",
    "# print the fitted line slope and intercept\n",
    "print(\"******************************************************************************\")\n",
    "print('ACM regression line slope: {:.2f}'.format(slope))\n",
    "print('ACM regression line intercept: {:.2f}'.format(intercept))\n",
    "# calculate the mean range of 80% comfort zone\n",
    "range = df_ACM_SET_ac['temp_up'].mean() - df_ACM_SET_ac['temp_low'].mean()\n",
    "print('ACM 80% comfort zone: {:.2f}'.format(range))"
   ]
  },
  {
   "cell_type": "code",
   "execution_count": 46,
   "metadata": {},
   "outputs": [
    {
     "data": {
      "image/png": "[encoded data removed]",
      "text/plain": [
       "<Figure size 500x300 with 1 Axes>"
      ]
     },
     "metadata": {},
     "output_type": "display_data"
    }
   ],
   "source": [
    "# sort the data points by t_out_combined\n",
    "t_out = np.array(df_ACM_SET_ac['t_out_combined'])\n",
    "t_out = t_out[np.argsort(t_out)]\n",
    "middle_line = slope * t_out + intercept\n",
    "up_line = slope * t_out + intercept + range/2\n",
    "low_line = slope * t_out + intercept - range/2\n",
    "\n",
    "# plot data points\n",
    "plt.figure(figsize=(5, 3))\n",
    "sns.regplot(x='t_out_combined', y='temp_n', data=df_ACM_SET_ac, fit_reg=False, scatter_kws={'color': 'blue'})\n",
    "plt.plot(t_out, middle_line, color='black', linewidth=2)\n",
    "plt.plot(t_out, up_line, color='black', linewidth=2, linestyle='--', dashes=(5, 5))\n",
    "plt.plot(t_out, low_line, color='black', linewidth=2, linestyle='--', dashes=(5, 5))\n",
    "\n",
    "plt.xlabel('', fontsize=20)\n",
    "plt.ylabel('', fontsize=20)\n",
    "plt.xticks(np.arange(5, 33, 5), fontsize=20)\n",
    "plt.yticks(np.arange(17, 33, 3), fontsize=20)\n",
    "plt.ylim(16, 33)\n",
    "plt.grid(False)\n",
    "plt.rcParams['font.family'] = 'Arial'\n",
    "plt.plot([], [], 'o', color='blue', label='Air Conditioned')\n",
    "plt.legend(loc='upper center', bbox_to_anchor=(0.5, 1.5), ncol=2, fontsize=20)\n",
    "plt.savefig('figs/fig_ACM_SET_ac.pdf', format='pdf', bbox_inches='tight')"
   ]
  },
  {
   "cell_type": "code",
   "execution_count": 29,
   "metadata": {},
   "outputs": [
    {
     "name": "stdout",
     "output_type": "stream",
     "text": [
      "All TSV prediction accraucy, AC building: 47 %\n",
      "All TSV prediction accraucy, AC office building: 46 %\n",
      "Mean TSV prediction accraucy, AC building: 74 %\n",
      "Mean TSV prediction accraucy, AC office building: 73 %\n"
     ]
    }
   ],
   "source": [
    "result = 100 * accuracy(slope, intercept, range, df_data_2_AC, 'set')\n",
    "print('All TSV prediction accraucy, AC building: {:.0f} %'.format(result))\n",
    "result = 100 * accuracy(slope, intercept, range, df_data_2_AC_office, 'set')\n",
    "print('All TSV prediction accraucy, AC office building: {:.0f} %'.format(result))\n",
    "\n",
    "result = 100 * accuracy(slope, intercept, range, df_bldg_2_AC, 'set')\n",
    "print('Mean TSV prediction accraucy, AC building: {:.0f} %'.format(result))\n",
    "result = 100 * accuracy(slope, intercept, range, df_bldg_2_AC_office, 'set')\n",
    "print('Mean TSV prediction accraucy, AC office building: {:.0f} %'.format(result))"
   ]
  },
  {
   "cell_type": "markdown",
   "metadata": {},
   "source": [
    "# Evidence 3"
   ]
  },
  {
   "cell_type": "code",
   "execution_count": 30,
   "metadata": {},
   "outputs": [],
   "source": [
    "def regression_SET_b(data_bldg):\n",
    "    \"\"\"\n",
    "    set = a * TSV + b\n",
    "    Regressing Standard Effective Temperature (set) against Thermal Sensation Vote (TSV).\n",
    "    Use the regression model to derive the neutral temperature by letting TSV equals 0.\n",
    "    The upper and lower limit of 80% comfort zone are derived by letting TSV equals +-0.85.\n",
    "    \"\"\"\n",
    "    lm_result = smf.ols(formula='set ~ thermal_sensation', data=data_bldg).fit()\n",
    "    slope = lm_result.params['thermal_sensation']\n",
    "    intercept = lm_result.params['Intercept']\n",
    "    # check whether the slope is significant\n",
    "    if lm_result.pvalues['thermal_sensation'] < 0.05:\n",
    "        a = slope\n",
    "        b = intercept\n",
    "        temp_n = b\n",
    "        temp_up = 0.85*a + b\n",
    "        temp_low = (-0.85)*a + b\n",
    "        sig_model = [slope, intercept, temp_n, temp_up, temp_low]\n",
    "        return sig_model\n",
    "    else:\n",
    "        return [np.nan] * 5"
   ]
  },
  {
   "cell_type": "code",
   "execution_count": 31,
   "metadata": {},
   "outputs": [],
   "source": [
    "df_bldg_3 = df_bldg.copy()\n",
    "# Apply the function to each group of df_data_2 grouped by 'building_id'\n",
    "grouped_results = df_data_2.groupby('building_id').apply(regression_SET_b)\n",
    "# Convert the grouped results into a DataFrame with appropriate column names\n",
    "results_df = pd.DataFrame(grouped_results.tolist(), index=grouped_results.index, columns=['slope', 'intercept', 'temp_n', 'temp_up', 'temp_low'])\n",
    "# Merge the results back into df_bldg_3\n",
    "df_bldg_3 = df_bldg_3.merge(results_df, left_on='building_id', right_index=True, how='left')"
   ]
  },
  {
   "cell_type": "markdown",
   "metadata": {},
   "source": [
    "## SET ACM NV using regression Approach (b)"
   ]
  },
  {
   "cell_type": "code",
   "execution_count": 32,
   "metadata": {},
   "outputs": [
    {
     "name": "stdout",
     "output_type": "stream",
     "text": [
      "NV office buildings with significant models: 35\n"
     ]
    }
   ],
   "source": [
    "# Get rid of all nan values in the temp_n column\n",
    "df_bldg_3_sig = df_bldg_3[~df_bldg_3['temp_n'].isna()]\n",
    "df_bldg_3_sig_NV = df_bldg_3_sig[df_bldg_3_sig['cooling_type'] == 'Naturally Ventilated'].copy()\n",
    "df_bldg_3_sig_NV_office = df_bldg_3_sig_NV[df_bldg_3_sig_NV['building_type'] == 'office'].copy()\n",
    "print(\"NV office buildings with significant models:\", len(df_bldg_3_sig_NV_office))"
   ]
  },
  {
   "cell_type": "code",
   "execution_count": 33,
   "metadata": {},
   "outputs": [],
   "source": [
    "# Plot t_out_combined and temp_n data points in df_bldg_3_sig_NV_office\n",
    "# sns.scatterplot(data=df_bldg_3_sig_NV_office, x='t_out_combined', y='temp_n')\n",
    "# No outliers\n",
    "df_ACM_SET_b = df_bldg_3_sig_NV_office"
   ]
  },
  {
   "cell_type": "code",
   "execution_count": 47,
   "metadata": {},
   "outputs": [
    {
     "name": "stdout",
     "output_type": "stream",
     "text": [
      "p value: 0.000\n",
      "MSE: 2.5\n",
      "RMSE: 1.6\n",
      "                            WLS Regression Results                            \n",
      "==============================================================================\n",
      "Dep. Variable:                 temp_n   R-squared:                       0.696\n",
      "Model:                            WLS   Adj. R-squared:                  0.687\n",
      "Method:                 Least Squares   F-statistic:                     75.62\n",
      "Date:                Mon, 12 Feb 2024   Prob (F-statistic):           4.74e-10\n",
      "Time:                        14:42:28   Log-Likelihood:                -67.261\n",
      "No. Observations:                  35   AIC:                             138.5\n",
      "Df Residuals:                      33   BIC:                             141.6\n",
      "Df Model:                           1                                         \n",
      "Covariance Type:            nonrobust                                         \n",
      "==================================================================================\n",
      "                     coef    std err          t      P>|t|      [0.025      0.975]\n",
      "----------------------------------------------------------------------------------\n",
      "const             17.4350      1.002     17.396      0.000      15.396      19.474\n",
      "t_out_combined     0.3700      0.043      8.696      0.000       0.283       0.457\n",
      "==============================================================================\n",
      "Omnibus:                        2.896   Durbin-Watson:                   0.934\n",
      "Prob(Omnibus):                  0.235   Jarque-Bera (JB):                2.588\n",
      "Skew:                           0.645   Prob(JB):                        0.274\n",
      "Kurtosis:                       2.665   Cond. No.                         93.6\n",
      "==============================================================================\n",
      "\n",
      "Notes:\n",
      "[1] Standard Errors assume that the covariance matrix of the errors is correctly specified.\n",
      "******************************************************************************\n",
      "ACM regression line slope: 0.37\n",
      "ACM regression line intercept: 17.44\n",
      "ACM 80% comfort zone: 1.77\n"
     ]
    }
   ],
   "source": [
    "intercept, slope = weighted_reg(df_ACM_SET_b['t_out_combined'], df_ACM_SET_b['temp_n'], df_ACM_SET_b['records'])\n",
    "# print the fitted line slope and intercept\n",
    "print(\"******************************************************************************\")\n",
    "print('ACM regression line slope: {:.2f}'.format(slope))\n",
    "print('ACM regression line intercept: {:.2f}'.format(intercept))\n",
    "# calculate the mean range of 80% comfort zone\n",
    "range = df_ACM_SET_b['temp_up'].mean() - df_ACM_SET_b['temp_low'].mean()\n",
    "print('ACM 80% comfort zone: {:.2f}'.format(range))"
   ]
  },
  {
   "cell_type": "code",
   "execution_count": 48,
   "metadata": {},
   "outputs": [
    {
     "data": {
      "image/png": "[encoded data removed]",
      "text/plain": [
       "<Figure size 500x300 with 1 Axes>"
      ]
     },
     "metadata": {},
     "output_type": "display_data"
    }
   ],
   "source": [
    "# sort the data points by t_out_combined\n",
    "t_out = np.array(df_ACM_SET_b['t_out_combined'])\n",
    "t_out = t_out[np.argsort(t_out)]\n",
    "middle_line = slope * t_out + intercept\n",
    "up_line = slope * t_out + intercept + range/2\n",
    "low_line = slope * t_out + intercept - range/2\n",
    "# plot data points\n",
    "plt.figure(figsize=(5, 3))\n",
    "sns.regplot(x='t_out_combined', y='temp_n', data=df_ACM_SET_b, fit_reg=False, scatter_kws={'color': 'green'})\n",
    "plt.plot(t_out, middle_line, color='black', linewidth=2)\n",
    "plt.plot(t_out, up_line, color='black', linewidth=2, linestyle='--', dashes=(5, 5))\n",
    "plt.plot(t_out, low_line, color='black', linewidth=2, linestyle='--', dashes=(5, 5))\n",
    "\n",
    "plt.xlabel('', fontsize=20)\n",
    "plt.ylabel('', fontsize=20)\n",
    "plt.xticks(np.arange(5, 33, 5), fontsize=20)\n",
    "plt.yticks(np.arange(17, 33, 3), fontsize=20)\n",
    "plt.ylim(16, 33)\n",
    "plt.grid(False)\n",
    "plt.rcParams['font.family'] = 'Arial'\n",
    "plt.plot([], [], 'o', color='green', label='Naturally Ventilated')\n",
    "plt.legend(loc='upper center', bbox_to_anchor=(0.5, 1.5), ncol=2, fontsize=20)\n",
    "plt.savefig('figs/fig_ACM_SET_b.pdf', format='pdf', bbox_inches='tight')"
   ]
  },
  {
   "cell_type": "code",
   "execution_count": 36,
   "metadata": {},
   "outputs": [
    {
     "name": "stdout",
     "output_type": "stream",
     "text": [
      "All TSV prediction accraucy, NV building: 27 %\n",
      "All TSV prediction accraucy, NV office building: 23 %\n",
      "Mean TSV prediction accraucy, NV building: 32 %\n",
      "Mean TSV prediction accraucy, NV office building: 37 %\n"
     ]
    }
   ],
   "source": [
    "result = 100 * accuracy(slope, intercept, range, df_data_1_NV, 'set')\n",
    "print('All TSV prediction accraucy, NV building: {:.0f} %'.format(result))\n",
    "result = 100 * accuracy(slope, intercept, range, df_data_1_NV_office, 'set')\n",
    "print('All TSV prediction accraucy, NV office building: {:.0f} %'.format(result))\n",
    "\n",
    "result = 100 * accuracy(slope, intercept, range, df_bldg_1_NV, 'set')\n",
    "print('Mean TSV prediction accraucy, NV building: {:.0f} %'.format(result))\n",
    "result = 100 * accuracy(slope, intercept, range, df_bldg_1_NV_office, 'set')\n",
    "print('Mean TSV prediction accraucy, NV office building: {:.0f} %'.format(result))"
   ]
  },
  {
   "cell_type": "markdown",
   "metadata": {},
   "source": [
    "## SET ACM AC using regression Approach (b)"
   ]
  },
  {
   "cell_type": "code",
   "execution_count": 37,
   "metadata": {},
   "outputs": [
    {
     "name": "stdout",
     "output_type": "stream",
     "text": [
      "AC office buildings with significant models: 39\n"
     ]
    }
   ],
   "source": [
    "df_bldg_3_sig_AC = df_bldg_3_sig[df_bldg_3_sig['cooling_type'] == 'Air Conditioned'].copy()\n",
    "df_bldg_3_sig_AC_office = df_bldg_3_sig_AC[df_bldg_3_sig_AC['building_type'] == 'office'].copy()\n",
    "print(\"AC office buildings with significant models:\", len(df_bldg_3_sig_AC_office))"
   ]
  },
  {
   "cell_type": "code",
   "execution_count": 38,
   "metadata": {},
   "outputs": [
    {
     "data": {
      "text/html": [
       "<div>\n",
       "<style scoped>\n",
       "    .dataframe tbody tr th:only-of-type {\n",
       "        vertical-align: middle;\n",
       "    }\n",
       "\n",
       "    .dataframe tbody tr th {\n",
       "        vertical-align: top;\n",
       "    }\n",
       "\n",
       "    .dataframe thead th {\n",
       "        text-align: right;\n",
       "    }\n",
       "</style>\n",
       "<table border=\"1\" class=\"dataframe\">\n",
       "  <thead>\n",
       "    <tr style=\"text-align: right;\">\n",
       "      <th></th>\n",
       "      <th>building_id</th>\n",
       "      <th>t_out_combined</th>\n",
       "      <th>top</th>\n",
       "      <th>set</th>\n",
       "      <th>thermal_sensation</th>\n",
       "      <th>records</th>\n",
       "      <th>cooling_type</th>\n",
       "      <th>building_type</th>\n",
       "      <th>database</th>\n",
       "      <th>slope</th>\n",
       "      <th>intercept</th>\n",
       "      <th>temp_n</th>\n",
       "      <th>temp_up</th>\n",
       "      <th>temp_low</th>\n",
       "    </tr>\n",
       "  </thead>\n",
       "  <tbody>\n",
       "    <tr>\n",
       "      <th>127</th>\n",
       "      <td>128</td>\n",
       "      <td>-18.572604</td>\n",
       "      <td>22.135000</td>\n",
       "      <td>23.397436</td>\n",
       "      <td>-0.500000</td>\n",
       "      <td>40</td>\n",
       "      <td>Air Conditioned</td>\n",
       "      <td>office</td>\n",
       "      <td>1.0</td>\n",
       "      <td>-0.495929</td>\n",
       "      <td>23.168546</td>\n",
       "      <td>23.168546</td>\n",
       "      <td>22.747006</td>\n",
       "      <td>23.590085</td>\n",
       "    </tr>\n",
       "    <tr>\n",
       "      <th>132</th>\n",
       "      <td>133</td>\n",
       "      <td>-26.098344</td>\n",
       "      <td>23.197436</td>\n",
       "      <td>24.089189</td>\n",
       "      <td>0.128205</td>\n",
       "      <td>39</td>\n",
       "      <td>Air Conditioned</td>\n",
       "      <td>office</td>\n",
       "      <td>1.0</td>\n",
       "      <td>-0.451139</td>\n",
       "      <td>24.174540</td>\n",
       "      <td>24.174540</td>\n",
       "      <td>23.791071</td>\n",
       "      <td>24.558008</td>\n",
       "    </tr>\n",
       "  </tbody>\n",
       "</table>\n",
       "</div>"
      ],
      "text/plain": [
       "     building_id  t_out_combined        top        set  thermal_sensation   \n",
       "127          128      -18.572604  22.135000  23.397436          -0.500000  \\\n",
       "132          133      -26.098344  23.197436  24.089189           0.128205   \n",
       "\n",
       "     records     cooling_type building_type  database     slope  intercept   \n",
       "127       40  Air Conditioned        office       1.0 -0.495929  23.168546  \\\n",
       "132       39  Air Conditioned        office       1.0 -0.451139  24.174540   \n",
       "\n",
       "        temp_n    temp_up   temp_low  \n",
       "127  23.168546  22.747006  23.590085  \n",
       "132  24.174540  23.791071  24.558008  "
      ]
     },
     "execution_count": 38,
     "metadata": {},
     "output_type": "execute_result"
    }
   ],
   "source": [
    "# Plot t_out_combined and temp_n data points in df_bldg_3_sig_AC_office\n",
    "# sns.scatterplot(data=df_bldg_3_sig_AC_office, x='t_out_combined', y='temp_n')\n",
    "# Identifiy outliers of temp_n\n",
    "outliers = df_bldg_3_sig_AC_office[(df_bldg_3_sig_AC_office['t_out_combined'] < 0)]\n",
    "# remove the outliers\n",
    "df_ACM_SET_ac_b = df_bldg_3_sig_AC_office.drop(outliers.index)\n",
    "outliers"
   ]
  },
  {
   "cell_type": "code",
   "execution_count": 49,
   "metadata": {},
   "outputs": [
    {
     "name": "stdout",
     "output_type": "stream",
     "text": [
      "p value: 0.059\n",
      "MSE: 0.9\n",
      "RMSE: 0.9\n",
      "                            WLS Regression Results                            \n",
      "==============================================================================\n",
      "Dep. Variable:                 temp_n   R-squared:                       0.098\n",
      "Model:                            WLS   Adj. R-squared:                  0.072\n",
      "Method:                 Least Squares   F-statistic:                     3.801\n",
      "Date:                Mon, 12 Feb 2024   Prob (F-statistic):             0.0593\n",
      "Time:                        14:42:36   Log-Likelihood:                -49.958\n",
      "No. Observations:                  37   AIC:                             103.9\n",
      "Df Residuals:                      35   BIC:                             107.1\n",
      "Df Model:                           1                                         \n",
      "Covariance Type:            nonrobust                                         \n",
      "==================================================================================\n",
      "                     coef    std err          t      P>|t|      [0.025      0.975]\n",
      "----------------------------------------------------------------------------------\n",
      "const             22.6941      0.481     47.191      0.000      21.718      23.670\n",
      "t_out_combined     0.0375      0.019      1.950      0.059      -0.002       0.077\n",
      "==============================================================================\n",
      "Omnibus:                        3.593   Durbin-Watson:                   1.473\n",
      "Prob(Omnibus):                  0.166   Jarque-Bera (JB):                2.900\n",
      "Skew:                           0.686   Prob(JB):                        0.235\n",
      "Kurtosis:                       2.999   Cond. No.                         88.4\n",
      "==============================================================================\n",
      "\n",
      "Notes:\n",
      "[1] Standard Errors assume that the covariance matrix of the errors is correctly specified.\n",
      "******************************************************************************\n",
      "ACM regression line slope: 0.04\n",
      "ACM regression line intercept: 22.69\n",
      "ACM 80% comfort zone: 1.07\n"
     ]
    }
   ],
   "source": [
    "intercept, slope = weighted_reg(df_ACM_SET_ac_b['t_out_combined'], df_ACM_SET_ac_b['temp_n'], df_ACM_SET_ac_b['records'])\n",
    "# print the fitted line slope and intercept\n",
    "print(\"******************************************************************************\")\n",
    "print('ACM regression line slope: {:.2f}'.format(slope))\n",
    "print('ACM regression line intercept: {:.2f}'.format(intercept))\n",
    "# calculate the mean range of 80% comfort zone\n",
    "range = df_ACM_SET_ac_b['temp_up'].mean() - df_ACM_SET_ac_b['temp_low'].mean()\n",
    "print('ACM 80% comfort zone: {:.2f}'.format(range))"
   ]
  },
  {
   "cell_type": "markdown",
   "metadata": {},
   "source": []
  },
  {
   "cell_type": "code",
   "execution_count": 50,
   "metadata": {},
   "outputs": [
    {
     "data": {
      "image/png": "[encoded data removed]",
      "text/plain": [
       "<Figure size 500x300 with 1 Axes>"
      ]
     },
     "metadata": {},
     "output_type": "display_data"
    }
   ],
   "source": [
    "# sort the data points by t_out_combined\n",
    "t_out = np.array(df_ACM_SET_ac_b['t_out_combined'])\n",
    "t_out = t_out[np.argsort(t_out)]\n",
    "middle_line = slope * t_out + intercept\n",
    "up_line = slope * t_out + intercept + range/2\n",
    "low_line = slope * t_out + intercept - range/2\n",
    "# plot data points\n",
    "plt.figure(figsize=(5, 3))\n",
    "sns.regplot(x='t_out_combined', y='temp_n', data=df_ACM_SET_ac_b, fit_reg=False, scatter_kws={'color': 'blue'})\n",
    "plt.plot(t_out, middle_line, color='black', linewidth=2)\n",
    "plt.plot(t_out, up_line, color='black', linewidth=2, linestyle='--', dashes=(5, 5))\n",
    "plt.plot(t_out, low_line, color='black', linewidth=2, linestyle='--', dashes=(5, 5))\n",
    "plt.xlabel('', fontsize=20)\n",
    "plt.ylabel('', fontsize=20)\n",
    "plt.xticks(np.arange(5, 33, 5), fontsize=20)\n",
    "plt.yticks(np.arange(17, 33, 3), fontsize=20)\n",
    "plt.ylim(16, 33)\n",
    "plt.grid(False)\n",
    "plt.rcParams['font.family'] = 'Arial'\n",
    "plt.plot([], [], 'o', color='blue', label='Air Conditioned')\n",
    "plt.legend(loc='upper center', bbox_to_anchor=(0.5, 1.5), ncol=2, fontsize=20)\n",
    "plt.savefig('figs/fig_ACM_SET_ac_b.pdf', format='pdf', bbox_inches='tight')"
   ]
  },
  {
   "cell_type": "code",
   "execution_count": 51,
   "metadata": {},
   "outputs": [
    {
     "name": "stdout",
     "output_type": "stream",
     "text": [
      "All TSV prediction accraucy, AC building: 38 %\n",
      "All TSV prediction accraucy, AC office building: 38 %\n",
      "Mean TSV prediction accraucy, AC building: 44 %\n",
      "Mean TSV prediction accraucy, AC office building: 44 %\n"
     ]
    }
   ],
   "source": [
    "result = 100 * accuracy(slope, intercept, range, df_data_2_AC, 'set')\n",
    "print('All TSV prediction accraucy, AC building: {:.0f} %'.format(result))\n",
    "result = 100 * accuracy(slope, intercept, range, df_data_2_AC_office, 'set')\n",
    "print('All TSV prediction accraucy, AC office building: {:.0f} %'.format(result))\n",
    "\n",
    "result = 100 * accuracy(slope, intercept, range, df_bldg_2_AC, 'set')\n",
    "print('Mean TSV prediction accraucy, AC building: {:.0f} %'.format(result))\n",
    "result = 100 * accuracy(slope, intercept, range, df_bldg_2_AC_office, 'set')\n",
    "print('Mean TSV prediction accraucy, AC office building: {:.0f} %'.format(result))"
   ]
  },
  {
   "cell_type": "markdown",
   "metadata": {},
   "source": [
    "# Try nudging paper Fig 6"
   ]
  },
  {
   "cell_type": "code",
   "execution_count": 114,
   "metadata": {},
   "outputs": [
    {
     "data": {
      "text/plain": [
       "<AxesSubplot:xlabel='set', ylabel='temp_n'>"
      ]
     },
     "execution_count": 114,
     "metadata": {},
     "output_type": "execute_result"
    },
    {
     "data": {
      "image/png": "[encoded data removed]",
      "text/plain": [
       "<Figure size 576x432 with 1 Axes>"
      ]
     },
     "metadata": {},
     "output_type": "display_data"
    }
   ],
   "source": [
    "sns.set_style(\"whitegrid\")\n",
    "sns.set_context(\"paper\", font_scale=1.5)\n",
    "fig, ax = plt.subplots(figsize=(8, 6))\n",
    "ax = sns.scatterplot(x=\"top\", y=\"temp_n\", hue=\"cooling_type\", data=df_bldg_1_sig, palette=['orange', 'blue', 'green'], legend=True)\n",
    "# plot three regression lines by cooling_type\n",
    "sns.regplot(x='set', y='temp_n', data=df_bldg_2_sig[df_bldg_2_sig['cooling_type'] == 'Naturally Ventilated'], scatter=False, line_kws={'color': 'green'})\n",
    "sns.regplot(x='set', y='temp_n', data=df_bldg_2_sig[df_bldg_2_sig['cooling_type'] == 'Air Conditioned'], scatter=False, line_kws={'color': 'blue'})\n",
    "sns.regplot(x='set', y='temp_n', data=df_bldg_2_sig[df_bldg_2_sig['cooling_type'] == 'Mixed Mode'], scatter=False, line_kws={'color': 'orange'})"
   ]
  },
  {
   "cell_type": "code",
   "execution_count": 112,
   "metadata": {},
   "outputs": [
    {
     "data": {
      "text/plain": [
       "<AxesSubplot:xlabel='set', ylabel='temp_n'>"
      ]
     },
     "execution_count": 112,
     "metadata": {},
     "output_type": "execute_result"
    },
    {
     "data": {
      "image/png": "[encoded data removed]",
      "text/plain": [
       "<Figure size 576x432 with 1 Axes>"
      ]
     },
     "metadata": {},
     "output_type": "display_data"
    }
   ],
   "source": [
    "# remove the row when temp_n is larger than 50 in df_bldg_2_sig\n",
    "df_bldg_2_sig = df_bldg_2_sig[df_bldg_2_sig['temp_n'] < 50]\n",
    "sns.set_style(\"whitegrid\")\n",
    "sns.set_context(\"paper\", font_scale=1.5)\n",
    "fig, ax = plt.subplots(figsize=(8, 6))\n",
    "ax = sns.scatterplot(x=\"set\", y=\"temp_n\", hue=\"cooling_type\", data=df_bldg_2_sig, palette=['orange', 'blue', 'green'], legend=True)"
   ]
  },
  {
   "cell_type": "code",
   "execution_count": 113,
   "metadata": {},
   "outputs": [
    {
     "data": {
      "text/plain": [
       "<AxesSubplot:xlabel='set', ylabel='temp_n'>"
      ]
     },
     "execution_count": 113,
     "metadata": {},
     "output_type": "execute_result"
    },
    {
     "data": {
      "image/png": "[encoded data removed]",
      "text/plain": [
       "<Figure size 576x432 with 1 Axes>"
      ]
     },
     "metadata": {},
     "output_type": "display_data"
    }
   ],
   "source": [
    "sns.set_style(\"whitegrid\")\n",
    "sns.set_context(\"paper\", font_scale=1.5)\n",
    "fig, ax = plt.subplots(figsize=(8, 6))\n",
    "ax = sns.scatterplot(x=\"set\", y=\"temp_n\", hue=\"cooling_type\", data=df_bldg_3_sig, palette=['orange', 'blue', 'green'], legend=True)"
   ]
  },
  {
   "cell_type": "code",
   "execution_count": null,
   "metadata": {},
   "outputs": [],
   "source": []
  }
 ],
 "metadata": {
  "kernelspec": {
   "display_name": "Python 3",
   "language": "python",
   "name": "python3"
  },
  "language_info": {
   "codemirror_mode": {
    "name": "ipython",
    "version": 3
   },
   "file_extension": ".py",
   "mimetype": "text/x-python",
   "name": "python",
   "nbconvert_exporter": "python",
   "pygments_lexer": "ipython3",
   "version": "3.11.3"
  }
 },
 "nbformat": 4,
 "nbformat_minor": 2
}
