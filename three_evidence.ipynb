{
 "cells": [
  {
   "cell_type": "code",
   "execution_count": 2,
   "metadata": {},
   "outputs": [],
   "source": [
    "import neutral_temp\n",
    "import pandas as pd\n",
    "import numpy as np\n",
    "import seaborn as sns\n",
    "import matplotlib.pyplot as plt\n",
    "import statsmodels.api as sm\n",
    "import statsmodels.formula.api as smf"
   ]
  },
  {
   "cell_type": "markdown",
   "metadata": {},
   "source": [
    "# Data Preparation"
   ]
  },
  {
   "cell_type": "markdown",
   "metadata": {},
   "source": [
    "## Import ASHRAE Global Thermal Comfort Database 2"
   ]
  },
  {
   "cell_type": "code",
   "execution_count": 3,
   "metadata": {},
   "outputs": [
    {
     "name": "stdout",
     "output_type": "stream",
     "text": [
      "Total buildings: 809\n",
      "Total occupants: 109033\n"
     ]
    }
   ],
   "source": [
    "# Read metadata and data from Github\n",
    "df_meta = pd.read_csv(\"https://github.com/CenterForTheBuiltEnvironment/ashrae-db-II/raw/master/v2.1.0/db_metadata.csv\")\n",
    "df_measurements = pd.read_csv(\"https://github.com/CenterForTheBuiltEnvironment/ashrae-db-II/raw/master/v2.1.0/db_measurements_v2.1.0.csv.gz\", low_memory=False)\n",
    "# Merge metadata and measurement data by building_id\n",
    "df_rawdata = df_measurements.merge(df_meta[['building_id', 'city', 'building_type', 'cooling_type', 'records', 'database']], on='building_id', how='left')\n",
    "# Replace two outdoor temperature columns by a new column called t_out_combined\n",
    "df_rawdata.loc[:, 't_out_combined'] = df_rawdata.loc[:, 't_out_isd'].fillna(df_rawdata.loc[:, 't_out'])\n",
    "df_rawdata = df_rawdata.drop(columns=['t_out_isd', 't_out'])\n",
    "print('Total buildings:', len(df_rawdata.building_id.unique()))\n",
    "print('Total occupants:', len(df_rawdata))"
   ]
  },
  {
   "cell_type": "markdown",
   "metadata": {},
   "source": [
    "## Select concurrent Top, TSV, and Tout data"
   ]
  },
  {
   "cell_type": "code",
   "execution_count": 4,
   "metadata": {},
   "outputs": [
    {
     "name": "stdout",
     "output_type": "stream",
     "text": [
      "Buildings without missing data: 553\n",
      "Buildings occupants without missing data: 38467\n"
     ]
    }
   ],
   "source": [
    "df_data_1 = df_rawdata.dropna(subset=['top', 'thermal_sensation', 't_out_combined'])\n",
    "print(f'Buildings without missing data:', len(df_data_1['building_id'].unique()))\n",
    "print(f'Buildings occupants without missing data:', len(df_data_1))"
   ]
  },
  {
   "cell_type": "markdown",
   "metadata": {},
   "source": [
    "## Group data by building ID, with mean values"
   ]
  },
  {
   "cell_type": "code",
   "execution_count": 114,
   "metadata": {},
   "outputs": [
    {
     "data": {
      "text/html": [
       "<div>\n",
       "<style scoped>\n",
       "    .dataframe tbody tr th:only-of-type {\n",
       "        vertical-align: middle;\n",
       "    }\n",
       "\n",
       "    .dataframe tbody tr th {\n",
       "        vertical-align: top;\n",
       "    }\n",
       "\n",
       "    .dataframe thead th {\n",
       "        text-align: right;\n",
       "    }\n",
       "</style>\n",
       "<table border=\"1\" class=\"dataframe\">\n",
       "  <thead>\n",
       "    <tr style=\"text-align: right;\">\n",
       "      <th></th>\n",
       "      <th>building_id</th>\n",
       "      <th>t_out_combined</th>\n",
       "      <th>top</th>\n",
       "      <th>set</th>\n",
       "      <th>thermal_sensation</th>\n",
       "      <th>records</th>\n",
       "      <th>cooling_type</th>\n",
       "      <th>building_type</th>\n",
       "      <th>database</th>\n",
       "    </tr>\n",
       "  </thead>\n",
       "  <tbody>\n",
       "    <tr>\n",
       "      <th>0</th>\n",
       "      <td>1</td>\n",
       "      <td>15.296857</td>\n",
       "      <td>23.239679</td>\n",
       "      <td>25.454225</td>\n",
       "      <td>0.627219</td>\n",
       "      <td>170</td>\n",
       "      <td>Mixed Mode</td>\n",
       "      <td>office</td>\n",
       "      <td>1.0</td>\n",
       "    </tr>\n",
       "    <tr>\n",
       "      <th>1</th>\n",
       "      <td>2</td>\n",
       "      <td>13.995833</td>\n",
       "      <td>22.283912</td>\n",
       "      <td>23.616000</td>\n",
       "      <td>-0.072289</td>\n",
       "      <td>83</td>\n",
       "      <td>Air Conditioned</td>\n",
       "      <td>office</td>\n",
       "      <td>1.0</td>\n",
       "    </tr>\n",
       "    <tr>\n",
       "      <th>2</th>\n",
       "      <td>3</td>\n",
       "      <td>0.583480</td>\n",
       "      <td>23.178237</td>\n",
       "      <td>23.694118</td>\n",
       "      <td>0.252941</td>\n",
       "      <td>85</td>\n",
       "      <td>Air Conditioned</td>\n",
       "      <td>office</td>\n",
       "      <td>1.0</td>\n",
       "    </tr>\n",
       "    <tr>\n",
       "      <th>3</th>\n",
       "      <td>4</td>\n",
       "      <td>19.280947</td>\n",
       "      <td>23.973630</td>\n",
       "      <td>24.164706</td>\n",
       "      <td>0.103704</td>\n",
       "      <td>137</td>\n",
       "      <td>Mixed Mode</td>\n",
       "      <td>office</td>\n",
       "      <td>1.0</td>\n",
       "    </tr>\n",
       "    <tr>\n",
       "      <th>4</th>\n",
       "      <td>5</td>\n",
       "      <td>9.048210</td>\n",
       "      <td>22.095310</td>\n",
       "      <td>22.271875</td>\n",
       "      <td>-0.063281</td>\n",
       "      <td>128</td>\n",
       "      <td>Air Conditioned</td>\n",
       "      <td>office</td>\n",
       "      <td>1.0</td>\n",
       "    </tr>\n",
       "  </tbody>\n",
       "</table>\n",
       "</div>"
      ],
      "text/plain": [
       "   building_id  t_out_combined        top        set  thermal_sensation  \\\n",
       "0            1       15.296857  23.239679  25.454225           0.627219   \n",
       "1            2       13.995833  22.283912  23.616000          -0.072289   \n",
       "2            3        0.583480  23.178237  23.694118           0.252941   \n",
       "3            4       19.280947  23.973630  24.164706           0.103704   \n",
       "4            5        9.048210  22.095310  22.271875          -0.063281   \n",
       "\n",
       "   records     cooling_type building_type  database  \n",
       "0      170       Mixed Mode        office       1.0  \n",
       "1       83  Air Conditioned        office       1.0  \n",
       "2       85  Air Conditioned        office       1.0  \n",
       "3      137       Mixed Mode        office       1.0  \n",
       "4      128  Air Conditioned        office       1.0  "
      ]
     },
     "execution_count": 114,
     "metadata": {},
     "output_type": "execute_result"
    }
   ],
   "source": [
    "# Group by 'building_id' and calculate the mean for all these columns at once\n",
    "df_data_mean = df_data_1.groupby('building_id')[['t_out_combined', 'top', 'set', 'thermal_sensation']].mean()\n",
    "# Reset the index of df_data_mean to make 'building_id' a column again\n",
    "df_data_mean.reset_index(inplace=True)\n",
    "# Merge df_data_mean with the metadata\n",
    "df_bldg = df_data_mean.merge(df_meta[['building_id', 'records', 'cooling_type', 'building_type', 'database']], on='building_id', how='left')\n",
    "# Reset the building cooling type as string\n",
    "df_bldg['cooling_type'] = df_bldg['cooling_type'].str.title()\n",
    "df_bldg.head()"
   ]
  },
  {
   "cell_type": "markdown",
   "metadata": {},
   "source": [
    "# First Stage of ACM II"
   ]
  },
  {
   "cell_type": "markdown",
   "metadata": {},
   "source": [
    "## Estimate neutral temperature and 80% comfort zone for each building"
   ]
  },
  {
   "cell_type": "code",
   "execution_count": 126,
   "metadata": {},
   "outputs": [],
   "source": [
    "def regression_op_a(data_bldg):\n",
    "    \"\"\"\n",
    "    TSV = a * top + b\n",
    "    Regressing Thermal Sensation Vote (TSV) against indoor operative temperature (top).    \n",
    "    Use the regression model to derive the neutral temperature by letting TSV equals 0.\n",
    "    The upper and lower limit of 80% comfort zone are derived by letting TSV equals +-0.85.\n",
    "    \"\"\"\n",
    "    lm_result = smf.ols(formula='thermal_sensation ~ top', data=data_bldg).fit()\n",
    "    slope = lm_result.params['top']\n",
    "    intercept = lm_result.params['Intercept']\n",
    "    # check whether the slope is significant\n",
    "    if lm_result.pvalues['top'] < 0.05:\n",
    "        a = slope\n",
    "        b = intercept\n",
    "        temp_n = -b / a\n",
    "        temp_up = (0.85-b)/a\n",
    "        temp_low = (-0.85-b)/a\n",
    "        return [slope, intercept, temp_n, temp_up, temp_low]\n",
    "    else:\n",
    "        return [np.nan] * 5  # Return NaNs if the slope is not significant\n"
   ]
  },
  {
   "cell_type": "code",
   "execution_count": 127,
   "metadata": {},
   "outputs": [],
   "source": [
    "df_bldg_1 = df_bldg.copy()\n",
    "\n",
    "# Apply the function to each group of df_data_1 grouped by 'building_id'\n",
    "grouped_results = df_data_1.groupby('building_id').apply(regression_op_a)\n",
    "\n",
    "# Convert the grouped results into a DataFrame with appropriate column names\n",
    "results_df = pd.DataFrame(grouped_results.tolist(), index=grouped_results.index, columns=['slope', 'intercept', 'temp_n', 'temp_up', 'temp_low'])\n",
    "\n",
    "# Merge the results back into df_bldg_1\n",
    "df_bldg_1 = df_bldg_1.merge(results_df, left_on='building_id', right_index=True, how='left')"
   ]
  },
  {
   "cell_type": "markdown",
   "metadata": {},
   "source": [
    "## Select NV office buildings that achieve significant models"
   ]
  },
  {
   "cell_type": "code",
   "execution_count": 130,
   "metadata": {},
   "outputs": [
    {
     "name": "stdout",
     "output_type": "stream",
     "text": [
      "NV office buildings with significant models: 51\n"
     ]
    }
   ],
   "source": [
    "# Get rid of all nan values in the temp_n column\n",
    "df_bldg_1_sig = df_bldg_1[~df_bldg_1['temp_n'].isna()]\n",
    "df_bldg_1_sig_NV = df_bldg_1_sig[df_bldg_1_sig['cooling_type'] == 'Naturally Ventilated'].copy()\n",
    "df_bldg_1_sig_NV_office = df_bldg_1_sig_NV[df_bldg_1_sig_NV['building_type'] == 'office'].copy()\n",
    "print(\"NV office buildings with significant models:\", len(df_bldg_1_sig_NV_office))"
   ]
  },
  {
   "cell_type": "markdown",
   "metadata": {},
   "source": [
    "## Remove unreasonable neutral temperature estimation resutls"
   ]
  },
  {
   "cell_type": "code",
   "execution_count": 155,
   "metadata": {},
   "outputs": [
    {
     "data": {
      "image/png": "[encoded data removed]",
      "text/plain": [
       "<Figure size 432x288 with 1 Axes>"
      ]
     },
     "metadata": {
      "needs_background": "light"
     },
     "output_type": "display_data"
    }
   ],
   "source": [
    "# Plot t_out_combined and temp_n data points in df_bldg_1_sig_NV_office\n",
    "sns.scatterplot(data=df_bldg_1_sig_NV_office, x='t_out_combined', y='temp_n')\n",
    "# Identifiy outliers of temp_n\n",
    "outliers = df_bldg_1_sig_NV_office[(df_bldg_1_sig_NV_office['temp_n'] < 0)]\n",
    "# remove the outliers\n",
    "df_ACM = df_bldg_1_sig_NV_office.drop(outliers.index)"
   ]
  },
  {
   "cell_type": "markdown",
   "metadata": {},
   "source": [
    "# Second Stage of ACM II"
   ]
  },
  {
   "cell_type": "markdown",
   "metadata": {},
   "source": [
    "## Conduct weighted linear regression"
   ]
  },
  {
   "cell_type": "code",
   "execution_count": 133,
   "metadata": {},
   "outputs": [],
   "source": [
    "def weighted_reg(x, y, weights):\n",
    "    X = sm.add_constant(x)\n",
    "    model = sm.WLS(y, X, weights=weights).fit()\n",
    "    intercept, slope = model.params\n",
    "    print('p value: {:.3f}'.format(model.pvalues[1]))\n",
    "    print('MSE: {:.1f}'.format(np.mean(model.resid ** 2)))\n",
    "    print('RMSE: {:.1f}'.format(np.sqrt(np.mean(model.resid ** 2))))\n",
    "    print(model.summary())\n",
    "    return intercept, slope"
   ]
  },
  {
   "cell_type": "code",
   "execution_count": 134,
   "metadata": {},
   "outputs": [
    {
     "name": "stdout",
     "output_type": "stream",
     "text": [
      "p value: 0.000\n",
      "MSE: 3.6\n",
      "RMSE: 1.9\n",
      "                            WLS Regression Results                            \n",
      "==============================================================================\n",
      "Dep. Variable:                 temp_n   R-squared:                       0.502\n",
      "Model:                            WLS   Adj. R-squared:                  0.491\n",
      "Method:                 Least Squares   F-statistic:                     48.35\n",
      "Date:                Sat, 03 Feb 2024   Prob (F-statistic):           8.67e-09\n",
      "Time:                        18:48:37   Log-Likelihood:                -102.43\n",
      "No. Observations:                  50   AIC:                             208.9\n",
      "Df Residuals:                      48   BIC:                             212.7\n",
      "Df Model:                           1                                         \n",
      "Covariance Type:            nonrobust                                         \n",
      "==================================================================================\n",
      "                     coef    std err          t      P>|t|      [0.025      0.975]\n",
      "----------------------------------------------------------------------------------\n",
      "const             19.1876      0.792     24.236      0.000      17.596      20.779\n",
      "t_out_combined     0.2460      0.035      6.953      0.000       0.175       0.317\n",
      "==============================================================================\n",
      "Omnibus:                        2.615   Durbin-Watson:                   1.780\n",
      "Prob(Omnibus):                  0.270   Jarque-Bera (JB):                1.654\n",
      "Skew:                           0.315   Prob(JB):                        0.437\n",
      "Kurtosis:                       3.630   Cond. No.                         79.5\n",
      "==============================================================================\n",
      "\n",
      "Notes:\n",
      "[1] Standard Errors assume that the covariance matrix of the errors is correctly specified.\n",
      "******************************************************************************\n",
      "ACM regression line slope: 0.25\n",
      "ACM regression line intercept: 19.19\n",
      "ACM 80% comfort zone: 7.77\n"
     ]
    }
   ],
   "source": [
    "intercept, slope = weighted_reg(df_ACM['t_out_combined'], df_ACM['temp_n'], df_ACM['records'])\n",
    "# print the fitted line slope and intercept\n",
    "print(\"******************************************************************************\")\n",
    "print('ACM regression line slope: {:.2f}'.format(slope))\n",
    "print('ACM regression line intercept: {:.2f}'.format(intercept))\n",
    "# calculate the mean range of 80% comfort zone\n",
    "range = df_ACM['temp_up'].mean() - df_ACM['temp_low'].mean()\n",
    "print('ACM 80% comfort zone: {:.2f}'.format(range))"
   ]
  },
  {
   "cell_type": "markdown",
   "metadata": {},
   "source": [
    "## Plot resulting ACM II"
   ]
  },
  {
   "cell_type": "code",
   "execution_count": 135,
   "metadata": {},
   "outputs": [
    {
     "data": {
      "image/png": "[encoded data removed]",
      "text/plain": [
       "<Figure size 720x504 with 1 Axes>"
      ]
     },
     "metadata": {
      "needs_background": "light"
     },
     "output_type": "display_data"
    }
   ],
   "source": [
    "# sort the data points by t_out_combined\n",
    "t_out = np.array(df_ACM['t_out_combined'])\n",
    "t_out = t_out[np.argsort(t_out)]\n",
    "middle_line = slope * t_out + intercept\n",
    "up_line = slope * t_out + intercept + range/2\n",
    "low_line = slope * t_out + intercept - range/2\n",
    "\n",
    "# middle_ASHRAE = 0.31 * t_out + 17.8\n",
    "# up_ASHRAE = 0.31 * t_out + 17.8 + 3.5\n",
    "# low_ASHRAE = 0.31 * t_out + 17.8 - 3.5\n",
    "\n",
    "# plot data points\n",
    "plt.figure(figsize=(10, 7))\n",
    "sns.regplot(x='t_out_combined', y='temp_n', data=df_ACM, fit_reg=False, scatter_kws={'color': 'green'})\n",
    "plt.plot(t_out, middle_line, color='black', linewidth=4)\n",
    "plt.plot(t_out, up_line, color='black', linewidth=2, linestyle='--', dashes=(5, 5))\n",
    "plt.plot(t_out, low_line, color='black', linewidth=2, linestyle='--', dashes=(5, 5))\n",
    "\n",
    "# plt.plot(t_out, middle_ASHRAE, color='black', linewidth=4)\n",
    "# plt.plot(t_out, up_ASHRAE, color='black', linewidth=2, linestyle='--', dashes=(5, 5))\n",
    "# plt.plot(t_out, low_ASHRAE, color='black', linewidth=2, linestyle='--', dashes=(5, 5))\n",
    "\n",
    "plt.xlabel('', fontsize=40)\n",
    "plt.ylabel('', fontsize=40)\n",
    "plt.xticks(np.arange(5, 33, 5), fontsize=40)\n",
    "plt.yticks(np.arange(18, 33, 3), fontsize=40)\n",
    "plt.grid(False)\n",
    "plt.rcParams['font.family'] = 'Times New Roman'\n",
    "plt.savefig('figs/fig3_a.pdf', format='pdf', bbox_inches='tight')"
   ]
  },
  {
   "cell_type": "markdown",
   "metadata": {},
   "source": [
    "# Evidence 1:"
   ]
  },
  {
   "cell_type": "code",
   "execution_count": 136,
   "metadata": {},
   "outputs": [],
   "source": [
    "def accuracy(slope, intercept, range, df, temp):\n",
    "    \"\"\"\n",
    "    Calculate the accuracy of a ACM model based on the df, using a calssification method.\n",
    "    If the temp is in the comfort zone and TSV is in +-0.85, then it is classified as 1, or\n",
    "    If the temp is out of the comfort zone and TSV is out of the 0.85, then it is classified as 1, or\n",
    "    If the temp is below the comfort zone and TSV is smaller than 0.85, then it is classified as 1, otherwies 0.\n",
    "    Count the percentage of 1 over total records in df as the prediction accuracy.\n",
    "    \"\"\"\n",
    "    df.count = np.where(\n",
    "        # Case 1: Comfortable when within range\n",
    "        ((df.thermal_sensation >= -0.85) & \n",
    "        (df.thermal_sensation <= 0.85) & \n",
    "        (df[temp] >= df.t_out_combined * slope + intercept - range/2) & \n",
    "        (df[temp] <= df.t_out_combined * slope + intercept + range/2)) |\n",
    "        # Case 2: Uncomfortable cool when lower the range\n",
    "        ((df.thermal_sensation < -0.85) & (df[temp] < df.t_out_combined * slope + intercept - range/2))| \n",
    "        # Case 3: Uncomfortable warm when higher the range\n",
    "        ((df.thermal_sensation > 0.85) & (df[temp] > df.t_out_combined * slope + intercept + range/2)),\n",
    "        1,  # Accurate prediction\n",
    "        0)   # Inaccurate prediction\n",
    "    accuracy = len(df[df.count == 1])/len(df)\n",
    "    return accuracy\n",
    "\n",
    "# def accuracy(slope, intercept, range, df, temp):\n",
    "#     \"\"\"\n",
    "#     Calculate the accuracy of a ACM model based on the df, using a calssification method.\n",
    "#     If the temp is in the comfort zone and TSV is in +-0.85, then it is classified as 1, or\n",
    "#     If the temp is out of the comfort zone and TSV is out of +- 0.85, then it is classified as 1, otherwies 0.\n",
    "#     Count the percentage of 1 over total records in df as the prediction accuracy.\n",
    "#     \"\"\"\n",
    "#     df.count = np.where(\n",
    "#         # Case 1: Comfortable when within range\n",
    "#         ((df.thermal_sensation >= -0.85) & \n",
    "#         (df.thermal_sensation <= 0.85) & \n",
    "#         (df[temp] >= df.t_out_combined * slope + intercept - range/2) & \n",
    "#         (df[temp] <= df.t_out_combined * slope + intercept + range/2)) |\n",
    "#         # Case 2: Uncomfortable when out of range\n",
    "#         ((df.thermal_sensation < -0.85) | \n",
    "#         (df.thermal_sensation > 0.85)) & \n",
    "#         ((df[temp] < df.t_out_combined * slope + intercept - range/2) | \n",
    "#         (df[temp] > df.t_out_combined * slope + intercept + range/2)),\n",
    "#         1,  # Accurate prediction\n",
    "#         0)   # Inaccurate prediction\n",
    "#     accuracy = len(df[df.count == 1])/len(df)\n",
    "#     return accuracy"
   ]
  },
  {
   "cell_type": "markdown",
   "metadata": {},
   "source": [
    "## Prepare data for prediction accuracy"
   ]
  },
  {
   "cell_type": "code",
   "execution_count": 137,
   "metadata": {},
   "outputs": [
    {
     "name": "stdout",
     "output_type": "stream",
     "text": [
      "NV buildings without missing data: 216\n",
      "NV building occupants without missing data: 19685\n",
      "NV office buildings without missing data: 67\n",
      "NV office building occupants without missing data: 15330\n"
     ]
    }
   ],
   "source": [
    "# Reset the building cooling type as string, ensuring direct modification of the DataFrame\n",
    "df_data_1 = df_data_1.copy()\n",
    "df_data_1['cooling_type'] = df_data_1['cooling_type'].str.title()\n",
    "\n",
    "# Filter for office buildings with naturally ventilated cooling\n",
    "df_bldg_1_NV = df_bldg_1[df_bldg_1['cooling_type'] == 'Naturally Ventilated']\n",
    "df_data_1_NV = df_data_1[df_data_1['cooling_type'] == 'Naturally Ventilated']\n",
    "print(f'NV buildings without missing data:', len(df_bldg_1_NV))\n",
    "print(f'NV building occupants without missing data:', len(df_data_1_NV))\n",
    "\n",
    "# Filter for office buildings with naturally ventilated cooling\n",
    "df_bldg_1_NV_office = df_bldg_1_NV[df_bldg_1_NV['building_type'] == 'office']\n",
    "df_data_1_NV_office = df_data_1_NV[df_data_1_NV['building_type'] == 'office']\n",
    "print(f'NV office buildings without missing data:', len(df_bldg_1_NV_office))\n",
    "print(f'NV office building occupants without missing data:', len(df_data_1_NV_office))"
   ]
  },
  {
   "cell_type": "markdown",
   "metadata": {},
   "source": [
    "## ASHRAE ACM prediction accuracy"
   ]
  },
  {
   "cell_type": "code",
   "execution_count": 138,
   "metadata": {},
   "outputs": [
    {
     "name": "stdout",
     "output_type": "stream",
     "text": [
      "All TSV prediction accraucy, NV building: 50 %\n",
      "All TSV prediction accraucy, NV office building: 53 %\n",
      "Mean TSV prediction accraucy, NV building: 55 %\n",
      "Mean TSV prediction accraucy, NV office building: 70 %\n"
     ]
    }
   ],
   "source": [
    "slope = 0.31\n",
    "intercept = 17.8\n",
    "range = 7\n",
    "\n",
    "result = 100 * accuracy(slope, intercept, range, df_data_1_NV, 'top')\n",
    "print('All TSV prediction accraucy, NV building: {:.0f} %'.format(result))\n",
    "result = 100 * accuracy(slope, intercept, range, df_data_1_NV_office, 'top')\n",
    "print('All TSV prediction accraucy, NV office building: {:.0f} %'.format(result))\n",
    "\n",
    "\n",
    "result = 100 * accuracy(slope, intercept, range, df_bldg_1_NV, 'top')\n",
    "print('Mean TSV prediction accraucy, NV building: {:.0f} %'.format(result))\n",
    "result = 100 * accuracy(slope, intercept, range, df_bldg_1_NV_office, 'top')\n",
    "print('Mean TSV prediction accraucy, NV office building: {:.0f} %'.format(result))"
   ]
  },
  {
   "cell_type": "markdown",
   "metadata": {},
   "source": [
    "## ACM II prediction accuracy"
   ]
  },
  {
   "cell_type": "code",
   "execution_count": 20,
   "metadata": {},
   "outputs": [
    {
     "name": "stdout",
     "output_type": "stream",
     "text": [
      "All TSV prediction accraucy, NV building: 49 %\n",
      "All TSV prediction accraucy, NV office building: 53 %\n",
      "Mean TSV prediction accraucy, NV building: 54 %\n",
      "Mean TSV prediction accraucy, NV office building: 66 %\n"
     ]
    }
   ],
   "source": [
    "slope = 0.25\n",
    "intercept = 19.19\n",
    "range = 7.77\n",
    "\n",
    "result = 100 * accuracy(slope, intercept, range, df_data_1_NV, 'top')\n",
    "print('All TSV prediction accraucy, NV building: {:.0f} %'.format(result))\n",
    "result = 100 * accuracy(slope, intercept, range, df_data_1_NV_office, 'top')\n",
    "print('All TSV prediction accraucy, NV office building: {:.0f} %'.format(result))\n",
    "\n",
    "result = 100 * accuracy(slope, intercept, range, df_bldg_1_NV, 'top')\n",
    "print('Mean TSV prediction accraucy, NV building: {:.0f} %'.format(result))\n",
    "result = 100 * accuracy(slope, intercept, range, df_bldg_1_NV_office, 'top')\n",
    "print('Mean TSV prediction accraucy, NV office building: {:.0f} %'.format(result))"
   ]
  },
  {
   "cell_type": "markdown",
   "metadata": {},
   "source": [
    "## Optimize slope, intercept and range"
   ]
  },
  {
   "cell_type": "code",
   "execution_count": 177,
   "metadata": {},
   "outputs": [],
   "source": [
    "# create a list to store the results\n",
    "results = []\n",
    "for slope in np.arange(-3, 3, 0.1):\n",
    "    for intercept in np.arange(10, 20, 0.1):\n",
    "        for range in np.arange(0, 10, 0.1):\n",
    "            accuracy_NV = accuracy(slope, intercept, range, df_data_1_NV, 'top')\n",
    "            accuracy_NV_office = accuracy(slope, intercept, range, df_data_1_NV_office, 'top')\n",
    "            accuracy_NV_mean = accuracy(slope, intercept, range, df_bldg_1_NV, 'top')\n",
    "            accuracy_NV_office_mean = accuracy(slope, intercept, range, df_bldg_1_NV_office, 'top')\n",
    "            results.append({'Slope': slope, \n",
    "                            'Intercept': intercept, \n",
    "                            'Range': range, \n",
    "                            'Accuracy_NV': accuracy_NV,\n",
    "                            'Accuracy_NV_office': accuracy_NV_office,\n",
    "                            'Accuracy_NV_mean': accuracy_NV_mean,\n",
    "                            'Accuracy_NV_office_mean': accuracy_NV_office_mean})\n",
    "results_df = pd.DataFrame(results)"
   ]
  },
  {
   "cell_type": "code",
   "execution_count": 197,
   "metadata": {},
   "outputs": [
    {
     "name": "stdout",
     "output_type": "stream",
     "text": [
      " Slope  Intercept  Range  Accuracy_NV\n",
      "   0.3       15.9    7.0     0.540005\n",
      " Slope  Intercept  Range  Accuracy_NV_office\n",
      "   0.2       18.0    7.7            0.560274\n",
      " Slope  Intercept  Range  Accuracy_NV_mean\n",
      "   0.5       14.1    9.9           0.74537\n",
      " Slope  Intercept  Range  Accuracy_NV_office_mean\n",
      "   0.4       14.9    9.8                  0.80597\n"
     ]
    }
   ],
   "source": [
    "for i in ['Accuracy_NV','Accuracy_NV_office','Accuracy_NV_mean','Accuracy_NV_office_mean']:\n",
    "    print(results_df.nlargest(1, i)[['Slope', 'Intercept', 'Range', i]].to_string(index=False))"
   ]
  },
  {
   "cell_type": "code",
   "execution_count": 198,
   "metadata": {},
   "outputs": [
    {
     "name": "stdout",
     "output_type": "stream",
     "text": [
      "       Slope  Intercept  Range  Accuracy_NV\n",
      "2.664535e-15       19.9    9.7     0.503988\n",
      "       Slope  Intercept  Range  Accuracy_NV_office\n",
      "2.664535e-15       19.9    9.7            0.535943\n",
      "       Slope  Intercept  Range  Accuracy_NV_mean\n",
      "2.664535e-15       19.9    9.8          0.310185\n",
      "       Slope  Intercept  Range  Accuracy_NV_office_mean\n",
      "2.664535e-15       19.9    9.8                  0.58209\n"
     ]
    }
   ],
   "source": [
    "# threshold = 0.01\n",
    "# zero_slope_df = results_df[results_df['Slope'].abs() <= threshold]\n",
    "# for i in ['Accuracy_NV','Accuracy_NV_office','Accuracy_NV_mean','Accuracy_NV_office_mean']:\n",
    "#     print(zero_slope_df.nlargest(1, i)[['Slope', 'Intercept', 'Range', i]].to_string(index=False))"
   ]
  },
  {
   "cell_type": "markdown",
   "metadata": {},
   "source": [
    "# Evidence 2:"
   ]
  },
  {
   "cell_type": "markdown",
   "metadata": {},
   "source": [
    "## Select concurrent SET, TSV, and Tout data"
   ]
  },
  {
   "cell_type": "code",
   "execution_count": 139,
   "metadata": {},
   "outputs": [
    {
     "name": "stdout",
     "output_type": "stream",
     "text": [
      "Buildings without missing data: 570\n",
      "Buildings occupants without missing data: 34313\n"
     ]
    }
   ],
   "source": [
    "df_data_2 = df_rawdata.dropna(subset=['set', 'thermal_sensation', 't_out_combined'])\n",
    "print(f'Buildings without missing data:', len(df_data_2['building_id'].unique()))\n",
    "print(f'Buildings occupants without missing data:', len(df_data_2))"
   ]
  },
  {
   "cell_type": "code",
   "execution_count": 141,
   "metadata": {},
   "outputs": [],
   "source": [
    "def regression_SET_a(data_bldg):\n",
    "    \"\"\"\n",
    "    TSV = a * set + b\n",
    "    Regressing Thermal Sensation Vote (TSV) against Standard Effective Temperature (set).    \n",
    "    Use the regression model to derive the neutral temperature by letting TSV equals 0.\n",
    "    The upper and lower limit of 80% comfort zone are derived by letting TSV equals +-0.85.\n",
    "    \"\"\"\n",
    "    lm_result = smf.ols(formula='thermal_sensation ~ set', data=data_bldg).fit()\n",
    "    slope = lm_result.params['set']\n",
    "    intercept = lm_result.params['Intercept']\n",
    "    # check whether the slope is significant\n",
    "    if lm_result.pvalues['set'] < 0.05:\n",
    "        a = slope\n",
    "        b = intercept\n",
    "        temp_n = -b / a\n",
    "        temp_up = (0.85-b)/a\n",
    "        temp_low = (-0.85-b)/a\n",
    "        return [slope, intercept, temp_n, temp_up, temp_low]\n",
    "    else:\n",
    "        return [np.nan] * 5  # Return NaNs if the slope is not significant"
   ]
  },
  {
   "cell_type": "code",
   "execution_count": 142,
   "metadata": {},
   "outputs": [],
   "source": [
    "df_bldg_2 = df_bldg.copy()\n",
    "# Apply the function to each group of df_data_2 grouped by 'building_id'\n",
    "grouped_results = df_data_2.groupby('building_id').apply(regression_SET_a)\n",
    "# Convert the grouped results into a DataFrame with appropriate column names\n",
    "results_df = pd.DataFrame(grouped_results.tolist(), index=grouped_results.index, columns=['slope', 'intercept', 'temp_n', 'temp_up', 'temp_low'])\n",
    "# Merge the results back into df_bldg_2\n",
    "df_bldg_2 = df_bldg_2.merge(results_df, left_on='building_id', right_index=True, how='left')"
   ]
  },
  {
   "cell_type": "markdown",
   "metadata": {},
   "source": [
    "## SET ACM for NV office buildings"
   ]
  },
  {
   "cell_type": "code",
   "execution_count": 152,
   "metadata": {},
   "outputs": [
    {
     "name": "stdout",
     "output_type": "stream",
     "text": [
      "NV office buildings with significant models: 35\n"
     ]
    }
   ],
   "source": [
    "# Get rid of all nan values in the temp_n column\n",
    "df_bldg_2_sig = df_bldg_2[~df_bldg_2['temp_n'].isna()]\n",
    "df_bldg_2_sig_NV = df_bldg_2_sig[df_bldg_2_sig['cooling_type'] == 'Naturally Ventilated'].copy()\n",
    "df_bldg_2_sig_NV_office = df_bldg_2_sig_NV[df_bldg_2_sig_NV['building_type'] == 'office'].copy()\n",
    "print(\"NV office buildings with significant models:\", len(df_bldg_2_sig_NV_office))\n",
    "df_ACM_SET = df_bldg_2_sig_NV_office"
   ]
  },
  {
   "cell_type": "code",
   "execution_count": 153,
   "metadata": {},
   "outputs": [
    {
     "name": "stdout",
     "output_type": "stream",
     "text": [
      "p value: 0.074\n",
      "MSE: 13.3\n",
      "RMSE: 3.7\n",
      "                            WLS Regression Results                            \n",
      "==============================================================================\n",
      "Dep. Variable:                 temp_n   R-squared:                       0.093\n",
      "Model:                            WLS   Adj. R-squared:                  0.066\n",
      "Method:                 Least Squares   F-statistic:                     3.400\n",
      "Date:                Sat, 03 Feb 2024   Prob (F-statistic):             0.0742\n",
      "Time:                        18:53:59   Log-Likelihood:                -102.23\n",
      "No. Observations:                  35   AIC:                             208.5\n",
      "Df Residuals:                      33   BIC:                             211.6\n",
      "Df Model:                           1                                         \n",
      "Covariance Type:            nonrobust                                         \n",
      "==================================================================================\n",
      "                     coef    std err          t      P>|t|      [0.025      0.975]\n",
      "----------------------------------------------------------------------------------\n",
      "const             28.7060      2.722     10.546      0.000      23.168      34.244\n",
      "t_out_combined    -0.2131      0.116     -1.844      0.074      -0.448       0.022\n",
      "==============================================================================\n",
      "Omnibus:                        1.809   Durbin-Watson:                   1.235\n",
      "Prob(Omnibus):                  0.405   Jarque-Bera (JB):                0.799\n",
      "Skew:                          -0.065   Prob(JB):                        0.671\n",
      "Kurtosis:                       3.728   Cond. No.                         93.6\n",
      "==============================================================================\n",
      "\n",
      "Notes:\n",
      "[1] Standard Errors assume that the covariance matrix of the errors is correctly specified.\n",
      "******************************************************************************\n",
      "ACM regression line slope: -0.21\n",
      "ACM regression line intercept: 28.71\n",
      "ACM 80% comfort zone: 14.54\n"
     ]
    }
   ],
   "source": [
    "intercept, slope = weighted_reg(df_ACM_SET['t_out_combined'], df_ACM_SET['temp_n'], df_ACM_SET['records'])\n",
    "# print the fitted line slope and intercept\n",
    "print(\"******************************************************************************\")\n",
    "print('ACM regression line slope: {:.2f}'.format(slope))\n",
    "print('ACM regression line intercept: {:.2f}'.format(intercept))\n",
    "# calculate the mean range of 80% comfort zone\n",
    "range = df_ACM_SET['temp_up'].mean() - df_ACM_SET['temp_low'].mean()\n",
    "print('ACM 80% comfort zone: {:.2f}'.format(range))"
   ]
  },
  {
   "cell_type": "code",
   "execution_count": 154,
   "metadata": {},
   "outputs": [
    {
     "data": {
      "image/png": "[encoded data removed]",
      "text/plain": [
       "<Figure size 720x504 with 1 Axes>"
      ]
     },
     "metadata": {
      "needs_background": "light"
     },
     "output_type": "display_data"
    }
   ],
   "source": [
    "# sort the data points by t_out_combined\n",
    "t_out = np.array(df_ACM_SET['t_out_combined'])\n",
    "t_out = t_out[np.argsort(t_out)]\n",
    "middle_line = slope * t_out + intercept\n",
    "up_line = slope * t_out + intercept + range/2\n",
    "low_line = slope * t_out + intercept - range/2\n",
    "\n",
    "# middle_ASHRAE = 0.31 * t_out + 17.8\n",
    "# up_ASHRAE = 0.31 * t_out + 17.8 + 3.5\n",
    "# low_ASHRAE = 0.31 * t_out + 17.8 - 3.5\n",
    "\n",
    "# plot data points\n",
    "plt.figure(figsize=(10, 7))\n",
    "sns.regplot(x='t_out_combined', y='temp_n', data=df_ACM_SET, fit_reg=False, scatter_kws={'color': 'green'})\n",
    "plt.plot(t_out, middle_line, color='black', linewidth=4)\n",
    "plt.plot(t_out, up_line, color='black', linewidth=2, linestyle='--', dashes=(5, 5))\n",
    "plt.plot(t_out, low_line, color='black', linewidth=2, linestyle='--', dashes=(5, 5))\n",
    "\n",
    "# plt.plot(t_out, middle_ASHRAE, color='black', linewidth=4)\n",
    "# plt.plot(t_out, up_ASHRAE, color='black', linewidth=2, linestyle='--', dashes=(5, 5))\n",
    "# plt.plot(t_out, low_ASHRAE, color='black', linewidth=2, linestyle='--', dashes=(5, 5))\n",
    "\n",
    "plt.xlabel('', fontsize=40)\n",
    "plt.ylabel('', fontsize=40)\n",
    "plt.xticks(np.arange(5, 33, 5), fontsize=40)\n",
    "plt.yticks(np.arange(18, 33, 3), fontsize=40)\n",
    "plt.grid(False)\n",
    "plt.rcParams['font.family'] = 'Times New Roman'\n",
    "plt.savefig('figs/fig3_a.pdf', format='pdf', bbox_inches='tight')"
   ]
  },
  {
   "cell_type": "code",
   "execution_count": 156,
   "metadata": {},
   "outputs": [
    {
     "name": "stdout",
     "output_type": "stream",
     "text": [
      "All TSV prediction accraucy, NV building: 29 %\n",
      "All TSV prediction accraucy, NV office building: 28 %\n",
      "Mean TSV prediction accraucy, NV building: 54 %\n",
      "Mean TSV prediction accraucy, NV office building: 54 %\n"
     ]
    }
   ],
   "source": [
    "result = 100 * accuracy(slope, intercept, range, df_data_1_NV, 'set')\n",
    "print('All TSV prediction accraucy, NV building: {:.0f} %'.format(result))\n",
    "result = 100 * accuracy(slope, intercept, range, df_data_1_NV_office, 'set')\n",
    "print('All TSV prediction accraucy, NV office building: {:.0f} %'.format(result))\n",
    "\n",
    "result = 100 * accuracy(slope, intercept, range, df_bldg_1_NV, 'set')\n",
    "print('Mean TSV prediction accraucy, NV building: {:.0f} %'.format(result))\n",
    "result = 100 * accuracy(slope, intercept, range, df_bldg_1_NV_office, 'set')\n",
    "print('Mean TSV prediction accraucy, NV office building: {:.0f} %'.format(result))"
   ]
  },
  {
   "cell_type": "markdown",
   "metadata": {},
   "source": [
    "# Evidence 3"
   ]
  },
  {
   "cell_type": "code",
   "execution_count": 158,
   "metadata": {},
   "outputs": [],
   "source": [
    "def regression_SET_b(data_bldg):\n",
    "    \"\"\"\n",
    "    set = a * TSV + b\n",
    "    Regressing Standard Effective Temperature (set) against Thermal Sensation Vote (TSV).\n",
    "    Use the regression model to derive the neutral temperature by letting TSV equals 0.\n",
    "    The upper and lower limit of 80% comfort zone are derived by letting TSV equals +-0.85.\n",
    "    \"\"\"\n",
    "    lm_result = smf.ols(formula='set ~ thermal_sensation', data=data_bldg).fit()\n",
    "    slope = lm_result.params['thermal_sensation']\n",
    "    intercept = lm_result.params['Intercept']\n",
    "    # check whether the slope is significant\n",
    "    if lm_result.pvalues['thermal_sensation'] < 0.05:\n",
    "        a = slope\n",
    "        b = intercept\n",
    "        temp_n = b\n",
    "        temp_up = 0.85*a + b\n",
    "        temp_low = (-0.85)*a + b\n",
    "        sig_model = [slope, intercept, temp_n, temp_up, temp_low]\n",
    "        return sig_model\n",
    "    else:\n",
    "        return [np.nan] * 5"
   ]
  },
  {
   "cell_type": "code",
   "execution_count": 159,
   "metadata": {},
   "outputs": [],
   "source": [
    "df_bldg_3 = df_bldg.copy()\n",
    "# Apply the function to each group of df_data_2 grouped by 'building_id'\n",
    "grouped_results = df_data_2.groupby('building_id').apply(regression_SET_b)\n",
    "# Convert the grouped results into a DataFrame with appropriate column names\n",
    "results_df = pd.DataFrame(grouped_results.tolist(), index=grouped_results.index, columns=['slope', 'intercept', 'temp_n', 'temp_up', 'temp_low'])\n",
    "# Merge the results back into df_bldg_3\n",
    "df_bldg_3 = df_bldg_3.merge(results_df, left_on='building_id', right_index=True, how='left')"
   ]
  },
  {
   "cell_type": "markdown",
   "metadata": {},
   "source": [
    "## SET ACM using regression Approach (b)"
   ]
  },
  {
   "cell_type": "code",
   "execution_count": 162,
   "metadata": {},
   "outputs": [
    {
     "name": "stdout",
     "output_type": "stream",
     "text": [
      "NV office buildings with significant models: 35\n"
     ]
    }
   ],
   "source": [
    "# Get rid of all nan values in the temp_n column\n",
    "df_bldg_3_sig = df_bldg_3[~df_bldg_3['temp_n'].isna()]\n",
    "df_bldg_3_sig_NV = df_bldg_3_sig[df_bldg_3_sig['cooling_type'] == 'Naturally Ventilated'].copy()\n",
    "df_bldg_3_sig_NV_office = df_bldg_3_sig_NV[df_bldg_3_sig_NV['building_type'] == 'office'].copy()\n",
    "print(\"NV office buildings with significant models:\", len(df_bldg_3_sig_NV_office))\n",
    "df_ACM_SET_b = df_bldg_3_sig_NV_office"
   ]
  },
  {
   "cell_type": "code",
   "execution_count": 163,
   "metadata": {},
   "outputs": [
    {
     "name": "stdout",
     "output_type": "stream",
     "text": [
      "p value: 0.000\n",
      "MSE: 2.5\n",
      "RMSE: 1.6\n",
      "                            WLS Regression Results                            \n",
      "==============================================================================\n",
      "Dep. Variable:                 temp_n   R-squared:                       0.696\n",
      "Model:                            WLS   Adj. R-squared:                  0.687\n",
      "Method:                 Least Squares   F-statistic:                     75.62\n",
      "Date:                Sat, 03 Feb 2024   Prob (F-statistic):           4.74e-10\n",
      "Time:                        18:56:48   Log-Likelihood:                -67.261\n",
      "No. Observations:                  35   AIC:                             138.5\n",
      "Df Residuals:                      33   BIC:                             141.6\n",
      "Df Model:                           1                                         \n",
      "Covariance Type:            nonrobust                                         \n",
      "==================================================================================\n",
      "                     coef    std err          t      P>|t|      [0.025      0.975]\n",
      "----------------------------------------------------------------------------------\n",
      "const             17.4350      1.002     17.396      0.000      15.396      19.474\n",
      "t_out_combined     0.3700      0.043      8.696      0.000       0.283       0.457\n",
      "==============================================================================\n",
      "Omnibus:                        2.896   Durbin-Watson:                   0.934\n",
      "Prob(Omnibus):                  0.235   Jarque-Bera (JB):                2.588\n",
      "Skew:                           0.645   Prob(JB):                        0.274\n",
      "Kurtosis:                       2.665   Cond. No.                         93.6\n",
      "==============================================================================\n",
      "\n",
      "Notes:\n",
      "[1] Standard Errors assume that the covariance matrix of the errors is correctly specified.\n",
      "******************************************************************************\n",
      "ACM regression line slope: 0.37\n",
      "ACM regression line intercept: 17.44\n",
      "ACM 80% comfort zone: 1.77\n"
     ]
    }
   ],
   "source": [
    "intercept, slope = weighted_reg(df_ACM_SET_b['t_out_combined'], df_ACM_SET_b['temp_n'], df_ACM_SET_b['records'])\n",
    "# print the fitted line slope and intercept\n",
    "print(\"******************************************************************************\")\n",
    "print('ACM regression line slope: {:.2f}'.format(slope))\n",
    "print('ACM regression line intercept: {:.2f}'.format(intercept))\n",
    "# calculate the mean range of 80% comfort zone\n",
    "range = df_ACM_SET_b['temp_up'].mean() - df_ACM_SET_b['temp_low'].mean()\n",
    "print('ACM 80% comfort zone: {:.2f}'.format(range))"
   ]
  },
  {
   "cell_type": "code",
   "execution_count": 164,
   "metadata": {},
   "outputs": [
    {
     "data": {
      "image/png": "[encoded data removed]",
      "text/plain": [
       "<Figure size 720x504 with 1 Axes>"
      ]
     },
     "metadata": {
      "needs_background": "light"
     },
     "output_type": "display_data"
    }
   ],
   "source": [
    "# sort the data points by t_out_combined\n",
    "t_out = np.array(df_ACM_SET_b['t_out_combined'])\n",
    "t_out = t_out[np.argsort(t_out)]\n",
    "middle_line = slope * t_out + intercept\n",
    "up_line = slope * t_out + intercept + range/2\n",
    "low_line = slope * t_out + intercept - range/2\n",
    "\n",
    "# middle_ASHRAE = 0.31 * t_out + 17.8\n",
    "# up_ASHRAE = 0.31 * t_out + 17.8 + 3.5\n",
    "# low_ASHRAE = 0.31 * t_out + 17.8 - 3.5\n",
    "\n",
    "# plot data points\n",
    "plt.figure(figsize=(10, 7))\n",
    "sns.regplot(x='t_out_combined', y='temp_n', data=df_ACM_SET_b, fit_reg=False, scatter_kws={'color': 'green'})\n",
    "plt.plot(t_out, middle_line, color='black', linewidth=4)\n",
    "plt.plot(t_out, up_line, color='black', linewidth=2, linestyle='--', dashes=(5, 5))\n",
    "plt.plot(t_out, low_line, color='black', linewidth=2, linestyle='--', dashes=(5, 5))\n",
    "\n",
    "# plt.plot(t_out, middle_ASHRAE, color='black', linewidth=4)\n",
    "# plt.plot(t_out, up_ASHRAE, color='black', linewidth=2, linestyle='--', dashes=(5, 5))\n",
    "# plt.plot(t_out, low_ASHRAE, color='black', linewidth=2, linestyle='--', dashes=(5, 5))\n",
    "\n",
    "plt.xlabel('', fontsize=40)\n",
    "plt.ylabel('', fontsize=40)\n",
    "plt.xticks(np.arange(5, 33, 5), fontsize=40)\n",
    "plt.yticks(np.arange(18, 33, 3), fontsize=40)\n",
    "plt.grid(False)\n",
    "plt.rcParams['font.family'] = 'Times New Roman'\n",
    "plt.savefig('figs/fig3_a.pdf', format='pdf', bbox_inches='tight')"
   ]
  }
 ],
 "metadata": {
  "kernelspec": {
   "display_name": "Python 3",
   "language": "python",
   "name": "python3"
  },
  "language_info": {
   "codemirror_mode": {
    "name": "ipython",
    "version": 3
   },
   "file_extension": ".py",
   "mimetype": "text/x-python",
   "name": "python",
   "nbconvert_exporter": "python",
   "pygments_lexer": "ipython3",
   "version": "3.9.7"
  }
 },
 "nbformat": 4,
 "nbformat_minor": 2
}
